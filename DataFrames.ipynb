{
 "cells": [
  {
   "metadata": {},
   "cell_type": "markdown",
   "source": [
    "Pandas Data Frame\n",
    "\"A dictionary and numpy 2D array had a baby\"\n",
    "\n",
    "1. Construction & Deconstruction\n",
    "2. Retrieving values\n",
    "3. modifying values\n",
    "4. methods for data analysis\n",
    "5. data alignment"
   ],
   "id": "de98a7c3d66b653d"
  },
  {
   "metadata": {
    "ExecuteTime": {
     "end_time": "2025-09-13T23:00:37.317690Z",
     "start_time": "2025-09-13T23:00:36.641355Z"
    }
   },
   "cell_type": "code",
   "source": [
    "import pandas as pd\n",
    "#2D list of numpy array\n",
    "\n",
    "index = ['20201201','20201202','20201203','20201204']\n",
    "columns = ['AAPL','MSFT','GOOG','AMZN']\n",
    "\n",
    "data = [[-0.01,0.03,0.05],[0.015,0.005,-0.05,-0.0025],[-0.025,0.0015,-0.02,0.01],[-0.03,0.015,0.03,0.01]]\n",
    "df = pd.DataFrame(data,index = index,columns = columns)\n",
    "df"
   ],
   "id": "eb6ff890098f2cf9",
   "outputs": [
    {
     "data": {
      "text/plain": [
       "           AAPL    MSFT  GOOG    AMZN\n",
       "20201201 -0.010  0.0300  0.05     NaN\n",
       "20201202  0.015  0.0050 -0.05 -0.0025\n",
       "20201203 -0.025  0.0015 -0.02  0.0100\n",
       "20201204 -0.030  0.0150  0.03  0.0100"
      ],
      "text/html": [
       "<div>\n",
       "<style scoped>\n",
       "    .dataframe tbody tr th:only-of-type {\n",
       "        vertical-align: middle;\n",
       "    }\n",
       "\n",
       "    .dataframe tbody tr th {\n",
       "        vertical-align: top;\n",
       "    }\n",
       "\n",
       "    .dataframe thead th {\n",
       "        text-align: right;\n",
       "    }\n",
       "</style>\n",
       "<table border=\"1\" class=\"dataframe\">\n",
       "  <thead>\n",
       "    <tr style=\"text-align: right;\">\n",
       "      <th></th>\n",
       "      <th>AAPL</th>\n",
       "      <th>MSFT</th>\n",
       "      <th>GOOG</th>\n",
       "      <th>AMZN</th>\n",
       "    </tr>\n",
       "  </thead>\n",
       "  <tbody>\n",
       "    <tr>\n",
       "      <th>20201201</th>\n",
       "      <td>-0.010</td>\n",
       "      <td>0.0300</td>\n",
       "      <td>0.05</td>\n",
       "      <td>NaN</td>\n",
       "    </tr>\n",
       "    <tr>\n",
       "      <th>20201202</th>\n",
       "      <td>0.015</td>\n",
       "      <td>0.0050</td>\n",
       "      <td>-0.05</td>\n",
       "      <td>-0.0025</td>\n",
       "    </tr>\n",
       "    <tr>\n",
       "      <th>20201203</th>\n",
       "      <td>-0.025</td>\n",
       "      <td>0.0015</td>\n",
       "      <td>-0.02</td>\n",
       "      <td>0.0100</td>\n",
       "    </tr>\n",
       "    <tr>\n",
       "      <th>20201204</th>\n",
       "      <td>-0.030</td>\n",
       "      <td>0.0150</td>\n",
       "      <td>0.03</td>\n",
       "      <td>0.0100</td>\n",
       "    </tr>\n",
       "  </tbody>\n",
       "</table>\n",
       "</div>"
      ]
     },
     "execution_count": 1,
     "metadata": {},
     "output_type": "execute_result"
    }
   ],
   "execution_count": 1
  },
  {
   "metadata": {
    "ExecuteTime": {
     "end_time": "2025-09-13T23:06:23.397238Z",
     "start_time": "2025-09-13T23:06:23.384717Z"
    }
   },
   "cell_type": "code",
   "source": [
    "#Dictionary of equal length lists of Numpy arrays\n",
    "\n",
    "data = {'AAPL': [0.01,0.02,0.03,0.04],\n",
    "        'MSFT': [0.01,0.02,0.03,0.04],\n",
    "        'GOOG': [0.01,0.02,0.03,0.04],\n",
    "        'AMZN': [0.01,0.02,0.03,0.04]}\n",
    "\n",
    "index=['20201201','20201202','20201203','20201204']\n",
    "df=pd.DataFrame(data, index = index)\n",
    "df"
   ],
   "id": "ed7ef1257d9cea34",
   "outputs": [
    {
     "data": {
      "text/plain": [
       "          AAPL  MSFT  GOOG  AMZN\n",
       "20201201  0.01  0.01  0.01  0.01\n",
       "20201202  0.02  0.02  0.02  0.02\n",
       "20201203  0.03  0.03  0.03  0.03\n",
       "20201204  0.04  0.04  0.04  0.04"
      ],
      "text/html": [
       "<div>\n",
       "<style scoped>\n",
       "    .dataframe tbody tr th:only-of-type {\n",
       "        vertical-align: middle;\n",
       "    }\n",
       "\n",
       "    .dataframe tbody tr th {\n",
       "        vertical-align: top;\n",
       "    }\n",
       "\n",
       "    .dataframe thead th {\n",
       "        text-align: right;\n",
       "    }\n",
       "</style>\n",
       "<table border=\"1\" class=\"dataframe\">\n",
       "  <thead>\n",
       "    <tr style=\"text-align: right;\">\n",
       "      <th></th>\n",
       "      <th>AAPL</th>\n",
       "      <th>MSFT</th>\n",
       "      <th>GOOG</th>\n",
       "      <th>AMZN</th>\n",
       "    </tr>\n",
       "  </thead>\n",
       "  <tbody>\n",
       "    <tr>\n",
       "      <th>20201201</th>\n",
       "      <td>0.01</td>\n",
       "      <td>0.01</td>\n",
       "      <td>0.01</td>\n",
       "      <td>0.01</td>\n",
       "    </tr>\n",
       "    <tr>\n",
       "      <th>20201202</th>\n",
       "      <td>0.02</td>\n",
       "      <td>0.02</td>\n",
       "      <td>0.02</td>\n",
       "      <td>0.02</td>\n",
       "    </tr>\n",
       "    <tr>\n",
       "      <th>20201203</th>\n",
       "      <td>0.03</td>\n",
       "      <td>0.03</td>\n",
       "      <td>0.03</td>\n",
       "      <td>0.03</td>\n",
       "    </tr>\n",
       "    <tr>\n",
       "      <th>20201204</th>\n",
       "      <td>0.04</td>\n",
       "      <td>0.04</td>\n",
       "      <td>0.04</td>\n",
       "      <td>0.04</td>\n",
       "    </tr>\n",
       "  </tbody>\n",
       "</table>\n",
       "</div>"
      ]
     },
     "execution_count": 2,
     "metadata": {},
     "output_type": "execute_result"
    }
   ],
   "execution_count": 2
  },
  {
   "metadata": {
    "ExecuteTime": {
     "end_time": "2025-09-13T23:08:46.279987Z",
     "start_time": "2025-09-13T23:08:46.267065Z"
    }
   },
   "cell_type": "code",
   "source": [
    "#Dictionary of Series\n",
    "index=['20201201','20201202','20201203','20201204']\n",
    "\n",
    "data = {}\n",
    "data['AAPL'] = pd.Series([0.01,0.02,0.03,0.04], index=index)\n",
    "data['MSFT'] = pd.Series([0.01,0.02,0.03,0.04], index=index)\n",
    "data['GOOG'] = pd.Series([0.01,0.02,0.03,0.04], index=index)\n",
    "data['AMZN'] = pd.Series([0.01,0.02,0.03,0.04], index=index)\n",
    "\n",
    "df=pd.DataFrame(data)\n",
    "df"
   ],
   "id": "df0a13a81b8a20ba",
   "outputs": [
    {
     "data": {
      "text/plain": [
       "          AAPL  MSFT  GOOG  AMZN\n",
       "20201201  0.01  0.01  0.01  0.01\n",
       "20201202  0.02  0.02  0.02  0.02\n",
       "20201203  0.03  0.03  0.03  0.03\n",
       "20201204  0.04  0.04  0.04  0.04"
      ],
      "text/html": [
       "<div>\n",
       "<style scoped>\n",
       "    .dataframe tbody tr th:only-of-type {\n",
       "        vertical-align: middle;\n",
       "    }\n",
       "\n",
       "    .dataframe tbody tr th {\n",
       "        vertical-align: top;\n",
       "    }\n",
       "\n",
       "    .dataframe thead th {\n",
       "        text-align: right;\n",
       "    }\n",
       "</style>\n",
       "<table border=\"1\" class=\"dataframe\">\n",
       "  <thead>\n",
       "    <tr style=\"text-align: right;\">\n",
       "      <th></th>\n",
       "      <th>AAPL</th>\n",
       "      <th>MSFT</th>\n",
       "      <th>GOOG</th>\n",
       "      <th>AMZN</th>\n",
       "    </tr>\n",
       "  </thead>\n",
       "  <tbody>\n",
       "    <tr>\n",
       "      <th>20201201</th>\n",
       "      <td>0.01</td>\n",
       "      <td>0.01</td>\n",
       "      <td>0.01</td>\n",
       "      <td>0.01</td>\n",
       "    </tr>\n",
       "    <tr>\n",
       "      <th>20201202</th>\n",
       "      <td>0.02</td>\n",
       "      <td>0.02</td>\n",
       "      <td>0.02</td>\n",
       "      <td>0.02</td>\n",
       "    </tr>\n",
       "    <tr>\n",
       "      <th>20201203</th>\n",
       "      <td>0.03</td>\n",
       "      <td>0.03</td>\n",
       "      <td>0.03</td>\n",
       "      <td>0.03</td>\n",
       "    </tr>\n",
       "    <tr>\n",
       "      <th>20201204</th>\n",
       "      <td>0.04</td>\n",
       "      <td>0.04</td>\n",
       "      <td>0.04</td>\n",
       "      <td>0.04</td>\n",
       "    </tr>\n",
       "  </tbody>\n",
       "</table>\n",
       "</div>"
      ]
     },
     "execution_count": 3,
     "metadata": {},
     "output_type": "execute_result"
    }
   ],
   "execution_count": 3
  },
  {
   "metadata": {
    "ExecuteTime": {
     "end_time": "2025-09-13T23:09:56.548766Z",
     "start_time": "2025-09-13T23:09:56.533645Z"
    }
   },
   "cell_type": "code",
   "source": [
    "#incrementally adding columns\n",
    "index = ['20201201','20201202','20201203','20201204']\n",
    "df = pd.DataFrame()\n",
    "\n",
    "df['AAPL'] = pd.Series([0.01,0.02,0.03,0.04], index=index)\n",
    "df['MSFT'] = pd.Series([0.01,0.02,0.03,0.04], index=index)\n",
    "df['GOOG'] = pd.Series([0.01,0.02,0.03,0.04], index=index)\n",
    "df['AMZN'] = pd.Series([0.01,0.02,0.03,0.04], index=index)\n",
    "df"
   ],
   "id": "5b624f919746d1c0",
   "outputs": [
    {
     "data": {
      "text/plain": [
       "          AAPL  MSFT  GOOG  AMZN\n",
       "20201201  0.01  0.01  0.01  0.01\n",
       "20201202  0.02  0.02  0.02  0.02\n",
       "20201203  0.03  0.03  0.03  0.03\n",
       "20201204  0.04  0.04  0.04  0.04"
      ],
      "text/html": [
       "<div>\n",
       "<style scoped>\n",
       "    .dataframe tbody tr th:only-of-type {\n",
       "        vertical-align: middle;\n",
       "    }\n",
       "\n",
       "    .dataframe tbody tr th {\n",
       "        vertical-align: top;\n",
       "    }\n",
       "\n",
       "    .dataframe thead th {\n",
       "        text-align: right;\n",
       "    }\n",
       "</style>\n",
       "<table border=\"1\" class=\"dataframe\">\n",
       "  <thead>\n",
       "    <tr style=\"text-align: right;\">\n",
       "      <th></th>\n",
       "      <th>AAPL</th>\n",
       "      <th>MSFT</th>\n",
       "      <th>GOOG</th>\n",
       "      <th>AMZN</th>\n",
       "    </tr>\n",
       "  </thead>\n",
       "  <tbody>\n",
       "    <tr>\n",
       "      <th>20201201</th>\n",
       "      <td>0.01</td>\n",
       "      <td>0.01</td>\n",
       "      <td>0.01</td>\n",
       "      <td>0.01</td>\n",
       "    </tr>\n",
       "    <tr>\n",
       "      <th>20201202</th>\n",
       "      <td>0.02</td>\n",
       "      <td>0.02</td>\n",
       "      <td>0.02</td>\n",
       "      <td>0.02</td>\n",
       "    </tr>\n",
       "    <tr>\n",
       "      <th>20201203</th>\n",
       "      <td>0.03</td>\n",
       "      <td>0.03</td>\n",
       "      <td>0.03</td>\n",
       "      <td>0.03</td>\n",
       "    </tr>\n",
       "    <tr>\n",
       "      <th>20201204</th>\n",
       "      <td>0.04</td>\n",
       "      <td>0.04</td>\n",
       "      <td>0.04</td>\n",
       "      <td>0.04</td>\n",
       "    </tr>\n",
       "  </tbody>\n",
       "</table>\n",
       "</div>"
      ]
     },
     "execution_count": 4,
     "metadata": {},
     "output_type": "execute_result"
    }
   ],
   "execution_count": 4
  },
  {
   "metadata": {
    "ExecuteTime": {
     "end_time": "2025-09-13T23:11:41.963279Z",
     "start_time": "2025-09-13T23:11:41.950223Z"
    }
   },
   "cell_type": "code",
   "source": [
    "#DataFrame Deconstruction\n",
    "#get data\n",
    "df.values"
   ],
   "id": "a427b5e102775207",
   "outputs": [
    {
     "data": {
      "text/plain": [
       "array([[0.01, 0.01, 0.01, 0.01],\n",
       "       [0.02, 0.02, 0.02, 0.02],\n",
       "       [0.03, 0.03, 0.03, 0.03],\n",
       "       [0.04, 0.04, 0.04, 0.04]])"
      ]
     },
     "execution_count": 5,
     "metadata": {},
     "output_type": "execute_result"
    }
   ],
   "execution_count": 5
  },
  {
   "metadata": {
    "ExecuteTime": {
     "end_time": "2025-09-13T23:11:58.262278Z",
     "start_time": "2025-09-13T23:11:58.252916Z"
    }
   },
   "cell_type": "code",
   "source": [
    "#get columns\n",
    "df.columns"
   ],
   "id": "eea3ce7efa1f0dc6",
   "outputs": [
    {
     "data": {
      "text/plain": [
       "Index(['AAPL', 'MSFT', 'GOOG', 'AMZN'], dtype='object')"
      ]
     },
     "execution_count": 6,
     "metadata": {},
     "output_type": "execute_result"
    }
   ],
   "execution_count": 6
  },
  {
   "metadata": {
    "ExecuteTime": {
     "end_time": "2025-09-13T23:12:26.243706Z",
     "start_time": "2025-09-13T23:12:26.236397Z"
    }
   },
   "cell_type": "code",
   "source": [
    "#get rows\n",
    "df.index"
   ],
   "id": "857a9ddcbd5c47c",
   "outputs": [
    {
     "data": {
      "text/plain": [
       "Index(['20201201', '20201202', '20201203', '20201204'], dtype='object')"
      ]
     },
     "execution_count": 9,
     "metadata": {},
     "output_type": "execute_result"
    }
   ],
   "execution_count": 9
  },
  {
   "metadata": {},
   "cell_type": "markdown",
   "source": "Data Frame retrieval",
   "id": "1aeabde96c4fd6a0"
  },
  {
   "metadata": {
    "ExecuteTime": {
     "end_time": "2025-09-13T23:14:11.647001Z",
     "start_time": "2025-09-13T23:14:11.633724Z"
    }
   },
   "cell_type": "code",
   "source": [
    "#Grab a column -> return Series Object\n",
    "df['AAPL']"
   ],
   "id": "312a687112692286",
   "outputs": [
    {
     "data": {
      "text/plain": [
       "20201201    0.01\n",
       "20201202    0.02\n",
       "20201203    0.03\n",
       "20201204    0.04\n",
       "Name: AAPL, dtype: float64"
      ]
     },
     "execution_count": 10,
     "metadata": {},
     "output_type": "execute_result"
    }
   ],
   "execution_count": 10
  },
  {
   "metadata": {
    "ExecuteTime": {
     "end_time": "2025-09-13T23:15:37.571251Z",
     "start_time": "2025-09-13T23:15:37.560879Z"
    }
   },
   "cell_type": "code",
   "source": [
    "#Grab a row -> return a Series Object\n",
    "df.loc['20201201']"
   ],
   "id": "fb46cc6467f95a70",
   "outputs": [
    {
     "data": {
      "text/plain": [
       "AAPL    0.01\n",
       "MSFT    0.01\n",
       "GOOG    0.01\n",
       "AMZN    0.01\n",
       "Name: 20201201, dtype: float64"
      ]
     },
     "execution_count": 11,
     "metadata": {},
     "output_type": "execute_result"
    }
   ],
   "execution_count": 11
  },
  {
   "metadata": {
    "ExecuteTime": {
     "end_time": "2025-09-13T23:22:57.722137Z",
     "start_time": "2025-09-13T23:22:57.715719Z"
    }
   },
   "cell_type": "code",
   "source": [
    "#Once u have a series, u can use regular series indexing\n",
    "#grab AAPL price on 20201201\n",
    "\n",
    "print(df['AAPL']['20201201'])\n",
    "print(df.loc['20201201']['AAPL'])"
   ],
   "id": "3ca4d4284bf43495",
   "outputs": [
    {
     "name": "stdout",
     "output_type": "stream",
     "text": [
      "0.01\n",
      "0.01\n"
     ]
    }
   ],
   "execution_count": 14
  },
  {
   "metadata": {
    "ExecuteTime": {
     "end_time": "2025-09-13T23:28:53.946984Z",
     "start_time": "2025-09-13T23:28:53.938862Z"
    }
   },
   "cell_type": "code",
   "source": [
    "#better way to retrieve APPL price on 20201201 similar to numpy 2D array\n",
    "df.loc['20201201','AAPL']"
   ],
   "id": "327ebf8c8e807950",
   "outputs": [
    {
     "data": {
      "text/plain": [
       "np.float64(0.01)"
      ]
     },
     "execution_count": 18,
     "metadata": {},
     "output_type": "execute_result"
    }
   ],
   "execution_count": 18
  },
  {
   "metadata": {
    "ExecuteTime": {
     "end_time": "2025-09-13T23:31:07.811920Z",
     "start_time": "2025-09-13T23:31:07.785324Z"
    }
   },
   "cell_type": "code",
   "source": [
    "#subset the dataframe using loc\n",
    "df.loc[['20201201','20201202'],['AAPL','MSFT']]"
   ],
   "id": "3fef3721d9961dfd",
   "outputs": [
    {
     "data": {
      "text/plain": [
       "          AAPL  MSFT\n",
       "20201201  0.01  0.01\n",
       "20201202  0.02  0.02"
      ],
      "text/html": [
       "<div>\n",
       "<style scoped>\n",
       "    .dataframe tbody tr th:only-of-type {\n",
       "        vertical-align: middle;\n",
       "    }\n",
       "\n",
       "    .dataframe tbody tr th {\n",
       "        vertical-align: top;\n",
       "    }\n",
       "\n",
       "    .dataframe thead th {\n",
       "        text-align: right;\n",
       "    }\n",
       "</style>\n",
       "<table border=\"1\" class=\"dataframe\">\n",
       "  <thead>\n",
       "    <tr style=\"text-align: right;\">\n",
       "      <th></th>\n",
       "      <th>AAPL</th>\n",
       "      <th>MSFT</th>\n",
       "    </tr>\n",
       "  </thead>\n",
       "  <tbody>\n",
       "    <tr>\n",
       "      <th>20201201</th>\n",
       "      <td>0.01</td>\n",
       "      <td>0.01</td>\n",
       "    </tr>\n",
       "    <tr>\n",
       "      <th>20201202</th>\n",
       "      <td>0.02</td>\n",
       "      <td>0.02</td>\n",
       "    </tr>\n",
       "  </tbody>\n",
       "</table>\n",
       "</div>"
      ]
     },
     "execution_count": 21,
     "metadata": {},
     "output_type": "execute_result"
    }
   ],
   "execution_count": 21
  },
  {
   "metadata": {
    "ExecuteTime": {
     "end_time": "2025-09-13T23:32:46.977600Z",
     "start_time": "2025-09-13T23:32:46.965708Z"
    }
   },
   "cell_type": "code",
   "source": [
    "#can use slicing within loc\n",
    "df.loc['20201201':'20201203','AAPL']"
   ],
   "id": "6e1e9e887ba7fe6e",
   "outputs": [
    {
     "data": {
      "text/plain": [
       "20201201    0.01\n",
       "20201202    0.02\n",
       "20201203    0.03\n",
       "Name: AAPL, dtype: float64"
      ]
     },
     "execution_count": 25,
     "metadata": {},
     "output_type": "execute_result"
    }
   ],
   "execution_count": 25
  },
  {
   "metadata": {
    "ExecuteTime": {
     "end_time": "2025-09-13T23:34:47.514041Z",
     "start_time": "2025-09-13T23:34:47.503835Z"
    }
   },
   "cell_type": "code",
   "source": [
    "#can use boolean logic within loc\n",
    "df.loc[df['AAPL']>0, ['AAPL','MSFT']]"
   ],
   "id": "a490d346451ffb87",
   "outputs": [
    {
     "data": {
      "text/plain": [
       "          AAPL  MSFT\n",
       "20201201  0.01  0.01\n",
       "20201202  0.02  0.02\n",
       "20201203  0.03  0.03\n",
       "20201204  0.04  0.04"
      ],
      "text/html": [
       "<div>\n",
       "<style scoped>\n",
       "    .dataframe tbody tr th:only-of-type {\n",
       "        vertical-align: middle;\n",
       "    }\n",
       "\n",
       "    .dataframe tbody tr th {\n",
       "        vertical-align: top;\n",
       "    }\n",
       "\n",
       "    .dataframe thead th {\n",
       "        text-align: right;\n",
       "    }\n",
       "</style>\n",
       "<table border=\"1\" class=\"dataframe\">\n",
       "  <thead>\n",
       "    <tr style=\"text-align: right;\">\n",
       "      <th></th>\n",
       "      <th>AAPL</th>\n",
       "      <th>MSFT</th>\n",
       "    </tr>\n",
       "  </thead>\n",
       "  <tbody>\n",
       "    <tr>\n",
       "      <th>20201201</th>\n",
       "      <td>0.01</td>\n",
       "      <td>0.01</td>\n",
       "    </tr>\n",
       "    <tr>\n",
       "      <th>20201202</th>\n",
       "      <td>0.02</td>\n",
       "      <td>0.02</td>\n",
       "    </tr>\n",
       "    <tr>\n",
       "      <th>20201203</th>\n",
       "      <td>0.03</td>\n",
       "      <td>0.03</td>\n",
       "    </tr>\n",
       "    <tr>\n",
       "      <th>20201204</th>\n",
       "      <td>0.04</td>\n",
       "      <td>0.04</td>\n",
       "    </tr>\n",
       "  </tbody>\n",
       "</table>\n",
       "</div>"
      ]
     },
     "execution_count": 26,
     "metadata": {},
     "output_type": "execute_result"
    }
   ],
   "execution_count": 26
  },
  {
   "metadata": {
    "ExecuteTime": {
     "end_time": "2025-09-13T23:35:23.063873Z",
     "start_time": "2025-09-13T23:35:23.054271Z"
    }
   },
   "cell_type": "code",
   "source": "df.loc[:,df.loc['20201201']>0]",
   "id": "2b055e6f73e9e6d7",
   "outputs": [
    {
     "data": {
      "text/plain": [
       "          AAPL  MSFT  GOOG  AMZN\n",
       "20201201  0.01  0.01  0.01  0.01\n",
       "20201202  0.02  0.02  0.02  0.02\n",
       "20201203  0.03  0.03  0.03  0.03\n",
       "20201204  0.04  0.04  0.04  0.04"
      ],
      "text/html": [
       "<div>\n",
       "<style scoped>\n",
       "    .dataframe tbody tr th:only-of-type {\n",
       "        vertical-align: middle;\n",
       "    }\n",
       "\n",
       "    .dataframe tbody tr th {\n",
       "        vertical-align: top;\n",
       "    }\n",
       "\n",
       "    .dataframe thead th {\n",
       "        text-align: right;\n",
       "    }\n",
       "</style>\n",
       "<table border=\"1\" class=\"dataframe\">\n",
       "  <thead>\n",
       "    <tr style=\"text-align: right;\">\n",
       "      <th></th>\n",
       "      <th>AAPL</th>\n",
       "      <th>MSFT</th>\n",
       "      <th>GOOG</th>\n",
       "      <th>AMZN</th>\n",
       "    </tr>\n",
       "  </thead>\n",
       "  <tbody>\n",
       "    <tr>\n",
       "      <th>20201201</th>\n",
       "      <td>0.01</td>\n",
       "      <td>0.01</td>\n",
       "      <td>0.01</td>\n",
       "      <td>0.01</td>\n",
       "    </tr>\n",
       "    <tr>\n",
       "      <th>20201202</th>\n",
       "      <td>0.02</td>\n",
       "      <td>0.02</td>\n",
       "      <td>0.02</td>\n",
       "      <td>0.02</td>\n",
       "    </tr>\n",
       "    <tr>\n",
       "      <th>20201203</th>\n",
       "      <td>0.03</td>\n",
       "      <td>0.03</td>\n",
       "      <td>0.03</td>\n",
       "      <td>0.03</td>\n",
       "    </tr>\n",
       "    <tr>\n",
       "      <th>20201204</th>\n",
       "      <td>0.04</td>\n",
       "      <td>0.04</td>\n",
       "      <td>0.04</td>\n",
       "      <td>0.04</td>\n",
       "    </tr>\n",
       "  </tbody>\n",
       "</table>\n",
       "</div>"
      ]
     },
     "execution_count": 27,
     "metadata": {},
     "output_type": "execute_result"
    }
   ],
   "execution_count": 27
  },
  {
   "metadata": {
    "ExecuteTime": {
     "end_time": "2025-09-13T23:35:41.701215Z",
     "start_time": "2025-09-13T23:35:41.692315Z"
    }
   },
   "cell_type": "code",
   "source": "df[df['AAPL']<0]\n",
   "id": "c54a81dffab79084",
   "outputs": [
    {
     "data": {
      "text/plain": [
       "Empty DataFrame\n",
       "Columns: [AAPL, MSFT, GOOG, AMZN]\n",
       "Index: []"
      ],
      "text/html": [
       "<div>\n",
       "<style scoped>\n",
       "    .dataframe tbody tr th:only-of-type {\n",
       "        vertical-align: middle;\n",
       "    }\n",
       "\n",
       "    .dataframe tbody tr th {\n",
       "        vertical-align: top;\n",
       "    }\n",
       "\n",
       "    .dataframe thead th {\n",
       "        text-align: right;\n",
       "    }\n",
       "</style>\n",
       "<table border=\"1\" class=\"dataframe\">\n",
       "  <thead>\n",
       "    <tr style=\"text-align: right;\">\n",
       "      <th></th>\n",
       "      <th>AAPL</th>\n",
       "      <th>MSFT</th>\n",
       "      <th>GOOG</th>\n",
       "      <th>AMZN</th>\n",
       "    </tr>\n",
       "  </thead>\n",
       "  <tbody>\n",
       "  </tbody>\n",
       "</table>\n",
       "</div>"
      ]
     },
     "execution_count": 28,
     "metadata": {},
     "output_type": "execute_result"
    }
   ],
   "execution_count": 28
  },
  {
   "metadata": {
    "ExecuteTime": {
     "end_time": "2025-09-13T23:37:36.788470Z",
     "start_time": "2025-09-13T23:37:36.762675Z"
    }
   },
   "cell_type": "code",
   "source": "df[df<0]",
   "id": "cca1d260f02aaa69",
   "outputs": [
    {
     "data": {
      "text/plain": [
       "          AAPL  MSFT  GOOG  AMZN\n",
       "20201201   NaN   NaN   NaN   NaN\n",
       "20201202   NaN   NaN   NaN   NaN\n",
       "20201203   NaN   NaN   NaN   NaN\n",
       "20201204   NaN   NaN   NaN   NaN"
      ],
      "text/html": [
       "<div>\n",
       "<style scoped>\n",
       "    .dataframe tbody tr th:only-of-type {\n",
       "        vertical-align: middle;\n",
       "    }\n",
       "\n",
       "    .dataframe tbody tr th {\n",
       "        vertical-align: top;\n",
       "    }\n",
       "\n",
       "    .dataframe thead th {\n",
       "        text-align: right;\n",
       "    }\n",
       "</style>\n",
       "<table border=\"1\" class=\"dataframe\">\n",
       "  <thead>\n",
       "    <tr style=\"text-align: right;\">\n",
       "      <th></th>\n",
       "      <th>AAPL</th>\n",
       "      <th>MSFT</th>\n",
       "      <th>GOOG</th>\n",
       "      <th>AMZN</th>\n",
       "    </tr>\n",
       "  </thead>\n",
       "  <tbody>\n",
       "    <tr>\n",
       "      <th>20201201</th>\n",
       "      <td>NaN</td>\n",
       "      <td>NaN</td>\n",
       "      <td>NaN</td>\n",
       "      <td>NaN</td>\n",
       "    </tr>\n",
       "    <tr>\n",
       "      <th>20201202</th>\n",
       "      <td>NaN</td>\n",
       "      <td>NaN</td>\n",
       "      <td>NaN</td>\n",
       "      <td>NaN</td>\n",
       "    </tr>\n",
       "    <tr>\n",
       "      <th>20201203</th>\n",
       "      <td>NaN</td>\n",
       "      <td>NaN</td>\n",
       "      <td>NaN</td>\n",
       "      <td>NaN</td>\n",
       "    </tr>\n",
       "    <tr>\n",
       "      <th>20201204</th>\n",
       "      <td>NaN</td>\n",
       "      <td>NaN</td>\n",
       "      <td>NaN</td>\n",
       "      <td>NaN</td>\n",
       "    </tr>\n",
       "  </tbody>\n",
       "</table>\n",
       "</div>"
      ]
     },
     "execution_count": 29,
     "metadata": {},
     "output_type": "execute_result"
    }
   ],
   "execution_count": 29
  },
  {
   "metadata": {},
   "cell_type": "markdown",
   "source": "DataFrame Value Modification",
   "id": "a21af1a75c4b4226"
  },
  {
   "metadata": {
    "ExecuteTime": {
     "end_time": "2025-09-13T23:39:07.363138Z",
     "start_time": "2025-09-13T23:39:07.350945Z"
    }
   },
   "cell_type": "code",
   "source": [
    "#change an entry\n",
    "df.loc['20201201','AAPL']=0.09\n",
    "df"
   ],
   "id": "e00a06c703bada90",
   "outputs": [
    {
     "data": {
      "text/plain": [
       "          AAPL  MSFT  GOOG  AMZN\n",
       "20201201  0.09  0.01  0.01  0.01\n",
       "20201202  0.02  0.02  0.02  0.02\n",
       "20201203  0.03  0.03  0.03  0.03\n",
       "20201204  0.04  0.04  0.04  0.04"
      ],
      "text/html": [
       "<div>\n",
       "<style scoped>\n",
       "    .dataframe tbody tr th:only-of-type {\n",
       "        vertical-align: middle;\n",
       "    }\n",
       "\n",
       "    .dataframe tbody tr th {\n",
       "        vertical-align: top;\n",
       "    }\n",
       "\n",
       "    .dataframe thead th {\n",
       "        text-align: right;\n",
       "    }\n",
       "</style>\n",
       "<table border=\"1\" class=\"dataframe\">\n",
       "  <thead>\n",
       "    <tr style=\"text-align: right;\">\n",
       "      <th></th>\n",
       "      <th>AAPL</th>\n",
       "      <th>MSFT</th>\n",
       "      <th>GOOG</th>\n",
       "      <th>AMZN</th>\n",
       "    </tr>\n",
       "  </thead>\n",
       "  <tbody>\n",
       "    <tr>\n",
       "      <th>20201201</th>\n",
       "      <td>0.09</td>\n",
       "      <td>0.01</td>\n",
       "      <td>0.01</td>\n",
       "      <td>0.01</td>\n",
       "    </tr>\n",
       "    <tr>\n",
       "      <th>20201202</th>\n",
       "      <td>0.02</td>\n",
       "      <td>0.02</td>\n",
       "      <td>0.02</td>\n",
       "      <td>0.02</td>\n",
       "    </tr>\n",
       "    <tr>\n",
       "      <th>20201203</th>\n",
       "      <td>0.03</td>\n",
       "      <td>0.03</td>\n",
       "      <td>0.03</td>\n",
       "      <td>0.03</td>\n",
       "    </tr>\n",
       "    <tr>\n",
       "      <th>20201204</th>\n",
       "      <td>0.04</td>\n",
       "      <td>0.04</td>\n",
       "      <td>0.04</td>\n",
       "      <td>0.04</td>\n",
       "    </tr>\n",
       "  </tbody>\n",
       "</table>\n",
       "</div>"
      ]
     },
     "execution_count": 31,
     "metadata": {},
     "output_type": "execute_result"
    }
   ],
   "execution_count": 31
  },
  {
   "metadata": {
    "ExecuteTime": {
     "end_time": "2025-09-13T23:39:43.146780Z",
     "start_time": "2025-09-13T23:39:43.129320Z"
    }
   },
   "cell_type": "code",
   "source": [
    "#set entire column to scalar\n",
    "df['AAPL']=0\n",
    "df"
   ],
   "id": "cc4c6b6802b4b025",
   "outputs": [
    {
     "data": {
      "text/plain": [
       "          AAPL  MSFT  GOOG  AMZN\n",
       "20201201     0  0.01  0.01  0.01\n",
       "20201202     0  0.02  0.02  0.02\n",
       "20201203     0  0.03  0.03  0.03\n",
       "20201204     0  0.04  0.04  0.04"
      ],
      "text/html": [
       "<div>\n",
       "<style scoped>\n",
       "    .dataframe tbody tr th:only-of-type {\n",
       "        vertical-align: middle;\n",
       "    }\n",
       "\n",
       "    .dataframe tbody tr th {\n",
       "        vertical-align: top;\n",
       "    }\n",
       "\n",
       "    .dataframe thead th {\n",
       "        text-align: right;\n",
       "    }\n",
       "</style>\n",
       "<table border=\"1\" class=\"dataframe\">\n",
       "  <thead>\n",
       "    <tr style=\"text-align: right;\">\n",
       "      <th></th>\n",
       "      <th>AAPL</th>\n",
       "      <th>MSFT</th>\n",
       "      <th>GOOG</th>\n",
       "      <th>AMZN</th>\n",
       "    </tr>\n",
       "  </thead>\n",
       "  <tbody>\n",
       "    <tr>\n",
       "      <th>20201201</th>\n",
       "      <td>0</td>\n",
       "      <td>0.01</td>\n",
       "      <td>0.01</td>\n",
       "      <td>0.01</td>\n",
       "    </tr>\n",
       "    <tr>\n",
       "      <th>20201202</th>\n",
       "      <td>0</td>\n",
       "      <td>0.02</td>\n",
       "      <td>0.02</td>\n",
       "      <td>0.02</td>\n",
       "    </tr>\n",
       "    <tr>\n",
       "      <th>20201203</th>\n",
       "      <td>0</td>\n",
       "      <td>0.03</td>\n",
       "      <td>0.03</td>\n",
       "      <td>0.03</td>\n",
       "    </tr>\n",
       "    <tr>\n",
       "      <th>20201204</th>\n",
       "      <td>0</td>\n",
       "      <td>0.04</td>\n",
       "      <td>0.04</td>\n",
       "      <td>0.04</td>\n",
       "    </tr>\n",
       "  </tbody>\n",
       "</table>\n",
       "</div>"
      ]
     },
     "execution_count": 33,
     "metadata": {},
     "output_type": "execute_result"
    }
   ],
   "execution_count": 33
  },
  {
   "metadata": {
    "ExecuteTime": {
     "end_time": "2025-09-13T23:40:50.325212Z",
     "start_time": "2025-09-13T23:40:50.316018Z"
    }
   },
   "cell_type": "code",
   "source": [
    "#boolean indexing to set values\n",
    "df.loc[df['AAPL']<0, 'AAPL']=0\n",
    "df"
   ],
   "id": "6079e496e602a160",
   "outputs": [
    {
     "data": {
      "text/plain": [
       "          AAPL  MSFT  GOOG  AMZN\n",
       "20201201     0  0.01  0.01  0.01\n",
       "20201202     0  0.02  0.02  0.02\n",
       "20201203     0  0.03  0.03  0.03\n",
       "20201204     0  0.04  0.04  0.04"
      ],
      "text/html": [
       "<div>\n",
       "<style scoped>\n",
       "    .dataframe tbody tr th:only-of-type {\n",
       "        vertical-align: middle;\n",
       "    }\n",
       "\n",
       "    .dataframe tbody tr th {\n",
       "        vertical-align: top;\n",
       "    }\n",
       "\n",
       "    .dataframe thead th {\n",
       "        text-align: right;\n",
       "    }\n",
       "</style>\n",
       "<table border=\"1\" class=\"dataframe\">\n",
       "  <thead>\n",
       "    <tr style=\"text-align: right;\">\n",
       "      <th></th>\n",
       "      <th>AAPL</th>\n",
       "      <th>MSFT</th>\n",
       "      <th>GOOG</th>\n",
       "      <th>AMZN</th>\n",
       "    </tr>\n",
       "  </thead>\n",
       "  <tbody>\n",
       "    <tr>\n",
       "      <th>20201201</th>\n",
       "      <td>0</td>\n",
       "      <td>0.01</td>\n",
       "      <td>0.01</td>\n",
       "      <td>0.01</td>\n",
       "    </tr>\n",
       "    <tr>\n",
       "      <th>20201202</th>\n",
       "      <td>0</td>\n",
       "      <td>0.02</td>\n",
       "      <td>0.02</td>\n",
       "      <td>0.02</td>\n",
       "    </tr>\n",
       "    <tr>\n",
       "      <th>20201203</th>\n",
       "      <td>0</td>\n",
       "      <td>0.03</td>\n",
       "      <td>0.03</td>\n",
       "      <td>0.03</td>\n",
       "    </tr>\n",
       "    <tr>\n",
       "      <th>20201204</th>\n",
       "      <td>0</td>\n",
       "      <td>0.04</td>\n",
       "      <td>0.04</td>\n",
       "      <td>0.04</td>\n",
       "    </tr>\n",
       "  </tbody>\n",
       "</table>\n",
       "</div>"
      ]
     },
     "execution_count": 35,
     "metadata": {},
     "output_type": "execute_result"
    }
   ],
   "execution_count": 35
  },
  {
   "metadata": {
    "ExecuteTime": {
     "end_time": "2025-09-13T23:41:39.216286Z",
     "start_time": "2025-09-13T23:41:39.206714Z"
    }
   },
   "cell_type": "code",
   "source": [
    "#boolean indexing to set values\n",
    "df[df<0]\n",
    "df"
   ],
   "id": "fec5e68e7a6e21f8",
   "outputs": [
    {
     "data": {
      "text/plain": [
       "          AAPL  MSFT  GOOG  AMZN\n",
       "20201201     0  0.01  0.01  0.01\n",
       "20201202     0  0.02  0.02  0.02\n",
       "20201203     0  0.03  0.03  0.03\n",
       "20201204     0  0.04  0.04  0.04"
      ],
      "text/html": [
       "<div>\n",
       "<style scoped>\n",
       "    .dataframe tbody tr th:only-of-type {\n",
       "        vertical-align: middle;\n",
       "    }\n",
       "\n",
       "    .dataframe tbody tr th {\n",
       "        vertical-align: top;\n",
       "    }\n",
       "\n",
       "    .dataframe thead th {\n",
       "        text-align: right;\n",
       "    }\n",
       "</style>\n",
       "<table border=\"1\" class=\"dataframe\">\n",
       "  <thead>\n",
       "    <tr style=\"text-align: right;\">\n",
       "      <th></th>\n",
       "      <th>AAPL</th>\n",
       "      <th>MSFT</th>\n",
       "      <th>GOOG</th>\n",
       "      <th>AMZN</th>\n",
       "    </tr>\n",
       "  </thead>\n",
       "  <tbody>\n",
       "    <tr>\n",
       "      <th>20201201</th>\n",
       "      <td>0</td>\n",
       "      <td>0.01</td>\n",
       "      <td>0.01</td>\n",
       "      <td>0.01</td>\n",
       "    </tr>\n",
       "    <tr>\n",
       "      <th>20201202</th>\n",
       "      <td>0</td>\n",
       "      <td>0.02</td>\n",
       "      <td>0.02</td>\n",
       "      <td>0.02</td>\n",
       "    </tr>\n",
       "    <tr>\n",
       "      <th>20201203</th>\n",
       "      <td>0</td>\n",
       "      <td>0.03</td>\n",
       "      <td>0.03</td>\n",
       "      <td>0.03</td>\n",
       "    </tr>\n",
       "    <tr>\n",
       "      <th>20201204</th>\n",
       "      <td>0</td>\n",
       "      <td>0.04</td>\n",
       "      <td>0.04</td>\n",
       "      <td>0.04</td>\n",
       "    </tr>\n",
       "  </tbody>\n",
       "</table>\n",
       "</div>"
      ]
     },
     "execution_count": 38,
     "metadata": {},
     "output_type": "execute_result"
    }
   ],
   "execution_count": 38
  },
  {
   "metadata": {
    "ExecuteTime": {
     "end_time": "2025-09-13T23:42:46.260948Z",
     "start_time": "2025-09-13T23:42:46.252Z"
    }
   },
   "cell_type": "code",
   "source": [
    "#set column using list(of same size as column)\n",
    "df['AAPL']=[0.08,-0.08,0.9,0.07]\n",
    "df"
   ],
   "id": "7cad4f40b4ba4317",
   "outputs": [
    {
     "data": {
      "text/plain": [
       "          AAPL  MSFT  GOOG  AMZN\n",
       "20201201  0.08  0.01  0.01  0.01\n",
       "20201202 -0.08  0.02  0.02  0.02\n",
       "20201203  0.90  0.03  0.03  0.03\n",
       "20201204  0.07  0.04  0.04  0.04"
      ],
      "text/html": [
       "<div>\n",
       "<style scoped>\n",
       "    .dataframe tbody tr th:only-of-type {\n",
       "        vertical-align: middle;\n",
       "    }\n",
       "\n",
       "    .dataframe tbody tr th {\n",
       "        vertical-align: top;\n",
       "    }\n",
       "\n",
       "    .dataframe thead th {\n",
       "        text-align: right;\n",
       "    }\n",
       "</style>\n",
       "<table border=\"1\" class=\"dataframe\">\n",
       "  <thead>\n",
       "    <tr style=\"text-align: right;\">\n",
       "      <th></th>\n",
       "      <th>AAPL</th>\n",
       "      <th>MSFT</th>\n",
       "      <th>GOOG</th>\n",
       "      <th>AMZN</th>\n",
       "    </tr>\n",
       "  </thead>\n",
       "  <tbody>\n",
       "    <tr>\n",
       "      <th>20201201</th>\n",
       "      <td>0.08</td>\n",
       "      <td>0.01</td>\n",
       "      <td>0.01</td>\n",
       "      <td>0.01</td>\n",
       "    </tr>\n",
       "    <tr>\n",
       "      <th>20201202</th>\n",
       "      <td>-0.08</td>\n",
       "      <td>0.02</td>\n",
       "      <td>0.02</td>\n",
       "      <td>0.02</td>\n",
       "    </tr>\n",
       "    <tr>\n",
       "      <th>20201203</th>\n",
       "      <td>0.90</td>\n",
       "      <td>0.03</td>\n",
       "      <td>0.03</td>\n",
       "      <td>0.03</td>\n",
       "    </tr>\n",
       "    <tr>\n",
       "      <th>20201204</th>\n",
       "      <td>0.07</td>\n",
       "      <td>0.04</td>\n",
       "      <td>0.04</td>\n",
       "      <td>0.04</td>\n",
       "    </tr>\n",
       "  </tbody>\n",
       "</table>\n",
       "</div>"
      ]
     },
     "execution_count": 39,
     "metadata": {},
     "output_type": "execute_result"
    }
   ],
   "execution_count": 39
  },
  {
   "metadata": {
    "ExecuteTime": {
     "end_time": "2025-09-13T23:47:35.879824Z",
     "start_time": "2025-09-13T23:47:35.870391Z"
    }
   },
   "cell_type": "code",
   "source": [
    "#set column using series will automatically aligns indices doesnot need to be of same size\n",
    "aapl = pd.Series({'20201204':0.09,'20201201': 0.09,'20201202':0.04})\n",
    "aapl"
   ],
   "id": "f9d5eb09916acb3e",
   "outputs": [
    {
     "data": {
      "text/plain": [
       "20201204    0.09\n",
       "20201201    0.09\n",
       "20201202    0.04\n",
       "dtype: float64"
      ]
     },
     "execution_count": 40,
     "metadata": {},
     "output_type": "execute_result"
    }
   ],
   "execution_count": 40
  },
  {
   "metadata": {
    "ExecuteTime": {
     "end_time": "2025-09-13T23:47:52.433619Z",
     "start_time": "2025-09-13T23:47:52.425543Z"
    }
   },
   "cell_type": "code",
   "source": [
    "df['AAPL'] = aapl\n",
    "aapl"
   ],
   "id": "48032d7ae9038f27",
   "outputs": [
    {
     "data": {
      "text/plain": [
       "20201204    0.09\n",
       "20201201    0.09\n",
       "20201202    0.04\n",
       "dtype: float64"
      ]
     },
     "execution_count": 41,
     "metadata": {},
     "output_type": "execute_result"
    }
   ],
   "execution_count": 41
  },
  {
   "metadata": {
    "ExecuteTime": {
     "end_time": "2025-09-13T23:49:13.296138Z",
     "start_time": "2025-09-13T23:49:13.282836Z"
    }
   },
   "cell_type": "code",
   "source": [
    "#select a row\n",
    "df.loc['20201204']=[0.03,0.07,0.09,0.08]\n",
    "df"
   ],
   "id": "2ab894255b76c56b",
   "outputs": [
    {
     "data": {
      "text/plain": [
       "          AAPL  MSFT  GOOG  AMZN\n",
       "20201201  0.09  0.01  0.01  0.01\n",
       "20201202  0.04  0.02  0.02  0.02\n",
       "20201203   NaN  0.03  0.03  0.03\n",
       "20201204  0.03  0.07  0.09  0.08"
      ],
      "text/html": [
       "<div>\n",
       "<style scoped>\n",
       "    .dataframe tbody tr th:only-of-type {\n",
       "        vertical-align: middle;\n",
       "    }\n",
       "\n",
       "    .dataframe tbody tr th {\n",
       "        vertical-align: top;\n",
       "    }\n",
       "\n",
       "    .dataframe thead th {\n",
       "        text-align: right;\n",
       "    }\n",
       "</style>\n",
       "<table border=\"1\" class=\"dataframe\">\n",
       "  <thead>\n",
       "    <tr style=\"text-align: right;\">\n",
       "      <th></th>\n",
       "      <th>AAPL</th>\n",
       "      <th>MSFT</th>\n",
       "      <th>GOOG</th>\n",
       "      <th>AMZN</th>\n",
       "    </tr>\n",
       "  </thead>\n",
       "  <tbody>\n",
       "    <tr>\n",
       "      <th>20201201</th>\n",
       "      <td>0.09</td>\n",
       "      <td>0.01</td>\n",
       "      <td>0.01</td>\n",
       "      <td>0.01</td>\n",
       "    </tr>\n",
       "    <tr>\n",
       "      <th>20201202</th>\n",
       "      <td>0.04</td>\n",
       "      <td>0.02</td>\n",
       "      <td>0.02</td>\n",
       "      <td>0.02</td>\n",
       "    </tr>\n",
       "    <tr>\n",
       "      <th>20201203</th>\n",
       "      <td>NaN</td>\n",
       "      <td>0.03</td>\n",
       "      <td>0.03</td>\n",
       "      <td>0.03</td>\n",
       "    </tr>\n",
       "    <tr>\n",
       "      <th>20201204</th>\n",
       "      <td>0.03</td>\n",
       "      <td>0.07</td>\n",
       "      <td>0.09</td>\n",
       "      <td>0.08</td>\n",
       "    </tr>\n",
       "  </tbody>\n",
       "</table>\n",
       "</div>"
      ]
     },
     "execution_count": 43,
     "metadata": {},
     "output_type": "execute_result"
    }
   ],
   "execution_count": 43
  },
  {
   "metadata": {
    "ExecuteTime": {
     "end_time": "2025-09-13T23:50:21.026229Z",
     "start_time": "2025-09-13T23:50:21.015495Z"
    }
   },
   "cell_type": "code",
   "source": [
    "#set a subset of a df\n",
    "df.loc[['20201202','20201203'],['AAPL','MSFT']]"
   ],
   "id": "a1cbaffee73271c8",
   "outputs": [
    {
     "data": {
      "text/plain": [
       "          AAPL  MSFT\n",
       "20201202  0.04  0.02\n",
       "20201203   NaN  0.03"
      ],
      "text/html": [
       "<div>\n",
       "<style scoped>\n",
       "    .dataframe tbody tr th:only-of-type {\n",
       "        vertical-align: middle;\n",
       "    }\n",
       "\n",
       "    .dataframe tbody tr th {\n",
       "        vertical-align: top;\n",
       "    }\n",
       "\n",
       "    .dataframe thead th {\n",
       "        text-align: right;\n",
       "    }\n",
       "</style>\n",
       "<table border=\"1\" class=\"dataframe\">\n",
       "  <thead>\n",
       "    <tr style=\"text-align: right;\">\n",
       "      <th></th>\n",
       "      <th>AAPL</th>\n",
       "      <th>MSFT</th>\n",
       "    </tr>\n",
       "  </thead>\n",
       "  <tbody>\n",
       "    <tr>\n",
       "      <th>20201202</th>\n",
       "      <td>0.04</td>\n",
       "      <td>0.02</td>\n",
       "    </tr>\n",
       "    <tr>\n",
       "      <th>20201203</th>\n",
       "      <td>NaN</td>\n",
       "      <td>0.03</td>\n",
       "    </tr>\n",
       "  </tbody>\n",
       "</table>\n",
       "</div>"
      ]
     },
     "execution_count": 44,
     "metadata": {},
     "output_type": "execute_result"
    }
   ],
   "execution_count": 44
  },
  {
   "metadata": {
    "ExecuteTime": {
     "end_time": "2025-09-13T23:51:18.658270Z",
     "start_time": "2025-09-13T23:51:18.646987Z"
    }
   },
   "cell_type": "code",
   "source": [
    "df.loc[['20201202','20201203'],['AAPL','MSFT']] = [[0.09,0.08],[0.02,0.03]]\n",
    "df"
   ],
   "id": "5da7557cb77ffad7",
   "outputs": [
    {
     "data": {
      "text/plain": [
       "          AAPL  MSFT  GOOG  AMZN\n",
       "20201201  0.09  0.01  0.01  0.01\n",
       "20201202  0.09  0.08  0.02  0.02\n",
       "20201203  0.02  0.03  0.03  0.03\n",
       "20201204  0.03  0.07  0.09  0.08"
      ],
      "text/html": [
       "<div>\n",
       "<style scoped>\n",
       "    .dataframe tbody tr th:only-of-type {\n",
       "        vertical-align: middle;\n",
       "    }\n",
       "\n",
       "    .dataframe tbody tr th {\n",
       "        vertical-align: top;\n",
       "    }\n",
       "\n",
       "    .dataframe thead th {\n",
       "        text-align: right;\n",
       "    }\n",
       "</style>\n",
       "<table border=\"1\" class=\"dataframe\">\n",
       "  <thead>\n",
       "    <tr style=\"text-align: right;\">\n",
       "      <th></th>\n",
       "      <th>AAPL</th>\n",
       "      <th>MSFT</th>\n",
       "      <th>GOOG</th>\n",
       "      <th>AMZN</th>\n",
       "    </tr>\n",
       "  </thead>\n",
       "  <tbody>\n",
       "    <tr>\n",
       "      <th>20201201</th>\n",
       "      <td>0.09</td>\n",
       "      <td>0.01</td>\n",
       "      <td>0.01</td>\n",
       "      <td>0.01</td>\n",
       "    </tr>\n",
       "    <tr>\n",
       "      <th>20201202</th>\n",
       "      <td>0.09</td>\n",
       "      <td>0.08</td>\n",
       "      <td>0.02</td>\n",
       "      <td>0.02</td>\n",
       "    </tr>\n",
       "    <tr>\n",
       "      <th>20201203</th>\n",
       "      <td>0.02</td>\n",
       "      <td>0.03</td>\n",
       "      <td>0.03</td>\n",
       "      <td>0.03</td>\n",
       "    </tr>\n",
       "    <tr>\n",
       "      <th>20201204</th>\n",
       "      <td>0.03</td>\n",
       "      <td>0.07</td>\n",
       "      <td>0.09</td>\n",
       "      <td>0.08</td>\n",
       "    </tr>\n",
       "  </tbody>\n",
       "</table>\n",
       "</div>"
      ]
     },
     "execution_count": 46,
     "metadata": {},
     "output_type": "execute_result"
    }
   ],
   "execution_count": 46
  },
  {
   "metadata": {
    "ExecuteTime": {
     "end_time": "2025-09-13T23:52:29.947630Z",
     "start_time": "2025-09-13T23:52:29.935702Z"
    }
   },
   "cell_type": "code",
   "source": [
    "#create a new column\n",
    "df['XOM']=[0.01,0.05,-0.05,0.025]\n",
    "df"
   ],
   "id": "bab4da971b8d6041",
   "outputs": [
    {
     "data": {
      "text/plain": [
       "          AAPL  MSFT  GOOG  AMZN    XOM\n",
       "20201201  0.09  0.01  0.01  0.01  0.010\n",
       "20201202  0.09  0.08  0.02  0.02  0.050\n",
       "20201203  0.02  0.03  0.03  0.03 -0.050\n",
       "20201204  0.03  0.07  0.09  0.08  0.025"
      ],
      "text/html": [
       "<div>\n",
       "<style scoped>\n",
       "    .dataframe tbody tr th:only-of-type {\n",
       "        vertical-align: middle;\n",
       "    }\n",
       "\n",
       "    .dataframe tbody tr th {\n",
       "        vertical-align: top;\n",
       "    }\n",
       "\n",
       "    .dataframe thead th {\n",
       "        text-align: right;\n",
       "    }\n",
       "</style>\n",
       "<table border=\"1\" class=\"dataframe\">\n",
       "  <thead>\n",
       "    <tr style=\"text-align: right;\">\n",
       "      <th></th>\n",
       "      <th>AAPL</th>\n",
       "      <th>MSFT</th>\n",
       "      <th>GOOG</th>\n",
       "      <th>AMZN</th>\n",
       "      <th>XOM</th>\n",
       "    </tr>\n",
       "  </thead>\n",
       "  <tbody>\n",
       "    <tr>\n",
       "      <th>20201201</th>\n",
       "      <td>0.09</td>\n",
       "      <td>0.01</td>\n",
       "      <td>0.01</td>\n",
       "      <td>0.01</td>\n",
       "      <td>0.010</td>\n",
       "    </tr>\n",
       "    <tr>\n",
       "      <th>20201202</th>\n",
       "      <td>0.09</td>\n",
       "      <td>0.08</td>\n",
       "      <td>0.02</td>\n",
       "      <td>0.02</td>\n",
       "      <td>0.050</td>\n",
       "    </tr>\n",
       "    <tr>\n",
       "      <th>20201203</th>\n",
       "      <td>0.02</td>\n",
       "      <td>0.03</td>\n",
       "      <td>0.03</td>\n",
       "      <td>0.03</td>\n",
       "      <td>-0.050</td>\n",
       "    </tr>\n",
       "    <tr>\n",
       "      <th>20201204</th>\n",
       "      <td>0.03</td>\n",
       "      <td>0.07</td>\n",
       "      <td>0.09</td>\n",
       "      <td>0.08</td>\n",
       "      <td>0.025</td>\n",
       "    </tr>\n",
       "  </tbody>\n",
       "</table>\n",
       "</div>"
      ]
     },
     "execution_count": 47,
     "metadata": {},
     "output_type": "execute_result"
    }
   ],
   "execution_count": 47
  }
 ],
 "metadata": {
  "kernelspec": {
   "display_name": "Python 3",
   "language": "python",
   "name": "python3"
  },
  "language_info": {
   "codemirror_mode": {
    "name": "ipython",
    "version": 2
   },
   "file_extension": ".py",
   "mimetype": "text/x-python",
   "name": "python",
   "nbconvert_exporter": "python",
   "pygments_lexer": "ipython2",
   "version": "2.7.6"
  }
 },
 "nbformat": 4,
 "nbformat_minor": 5
}
