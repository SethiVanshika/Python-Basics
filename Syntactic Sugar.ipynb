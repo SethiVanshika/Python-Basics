{
 "cells": [
  {
   "cell_type": "code",
   "id": "initial_id",
   "metadata": {
    "collapsed": true,
    "ExecuteTime": {
     "end_time": "2025-09-11T19:16:31.742245Z",
     "start_time": "2025-09-11T19:16:31.659631Z"
    }
   },
   "source": [
    "from PIL.ImageChops import multiply\n",
    "\n",
    "# define a function in one line with lamda\n",
    "multiply = lambda x,y: x*y\n",
    "\n",
    "print(multiply(1,2))\n",
    "print(multiply(2,3))"
   ],
   "outputs": [
    {
     "name": "stdout",
     "output_type": "stream",
     "text": [
      "2\n",
      "6\n"
     ]
    }
   ],
   "execution_count": 1
  },
  {
   "metadata": {
    "ExecuteTime": {
     "end_time": "2025-09-11T19:18:08.806638Z",
     "start_time": "2025-09-11T19:18:08.795054Z"
    }
   },
   "cell_type": "code",
   "source": [
    "#if else in one line\n",
    "x=3\n",
    "print(\">2\") if x>2 else print(\"<2\")"
   ],
   "id": "3eb2dd6bc1aa49ea",
   "outputs": [
    {
     "name": "stdout",
     "output_type": "stream",
     "text": [
      ">2\n"
     ]
    }
   ],
   "execution_count": 2
  },
  {
   "metadata": {
    "ExecuteTime": {
     "end_time": "2025-09-11T19:22:11.654418Z",
     "start_time": "2025-09-11T19:22:11.632524Z"
    }
   },
   "cell_type": "code",
   "source": [
    "#list comprehension : loop through and modify a list in one line\n",
    "# newlist = [expression for item in iterable if condition == True\n",
    "tickers=['AAPL US EQUITY', 'WMT US EQUITY', '1U1 GR EQUITY']\n",
    "us_tickers = [x.split(' ')[0] for x in tickers if 'US EQUITY' in x]\n",
    "print(us_tickers)\n"
   ],
   "id": "6ddc9b2ae1c4c904",
   "outputs": [
    {
     "name": "stdout",
     "output_type": "stream",
     "text": [
      "['AAPL', 'WMT']\n"
     ]
    }
   ],
   "execution_count": 3
  },
  {
   "metadata": {
    "ExecuteTime": {
     "end_time": "2025-09-11T19:24:39.895141Z",
     "start_time": "2025-09-11T19:24:39.880263Z"
    }
   },
   "cell_type": "code",
   "source": [
    "#create a dictionary in one line\n",
    "ctry_map = {x.split(' ')[0]: x.split(' ')[1] for x in tickers}\n",
    "print(ctry_map)"
   ],
   "id": "5183110e33aa630b",
   "outputs": [
    {
     "name": "stdout",
     "output_type": "stream",
     "text": [
      "{'AAPL': 'US', 'WMT': 'US', '1U1': 'GR'}\n"
     ]
    }
   ],
   "execution_count": 5
  }
 ],
 "metadata": {
  "kernelspec": {
   "display_name": "Python 3",
   "language": "python",
   "name": "python3"
  },
  "language_info": {
   "codemirror_mode": {
    "name": "ipython",
    "version": 2
   },
   "file_extension": ".py",
   "mimetype": "text/x-python",
   "name": "python",
   "nbconvert_exporter": "python",
   "pygments_lexer": "ipython2",
   "version": "2.7.6"
  }
 },
 "nbformat": 4,
 "nbformat_minor": 5
}
