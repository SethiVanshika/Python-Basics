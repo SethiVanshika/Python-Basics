{
 "cells": [
  {
   "cell_type": "code",
   "id": "initial_id",
   "metadata": {
    "collapsed": true,
    "ExecuteTime": {
     "end_time": "2025-09-12T23:15:00.350303Z",
     "start_time": "2025-09-12T23:15:00.329256Z"
    }
   },
   "source": [
    "import numpy as np\n",
    "x = np.array([[1, 2, 3], [4,5,6]])\n",
    "x"
   ],
   "outputs": [
    {
     "data": {
      "text/plain": [
       "array([[1, 2, 3],\n",
       "       [4, 5, 6]])"
      ]
     },
     "execution_count": 2,
     "metadata": {},
     "output_type": "execute_result"
    }
   ],
   "execution_count": 2
  },
  {
   "metadata": {
    "ExecuteTime": {
     "end_time": "2025-09-12T23:16:34.500239Z",
     "start_time": "2025-09-12T23:16:34.491448Z"
    }
   },
   "cell_type": "code",
   "source": [
    "y = np.array([[6, 23], [-1,7],[8, 9]])\n",
    "y"
   ],
   "id": "9bdd64253029c0b0",
   "outputs": [
    {
     "data": {
      "text/plain": [
       "array([[ 6, 23],\n",
       "       [-1,  7],\n",
       "       [ 8,  9]])"
      ]
     },
     "execution_count": 5,
     "metadata": {},
     "output_type": "execute_result"
    }
   ],
   "execution_count": 5
  },
  {
   "metadata": {
    "ExecuteTime": {
     "end_time": "2025-09-12T23:16:37.248746Z",
     "start_time": "2025-09-12T23:16:37.232593Z"
    }
   },
   "cell_type": "code",
   "source": [
    "#multiply matrices\n",
    "x.dot(y)"
   ],
   "id": "d2e86e0d761242c0",
   "outputs": [
    {
     "data": {
      "text/plain": [
       "array([[ 28,  64],\n",
       "       [ 67, 181]])"
      ]
     },
     "execution_count": 6,
     "metadata": {},
     "output_type": "execute_result"
    }
   ],
   "execution_count": 6
  },
  {
   "metadata": {
    "ExecuteTime": {
     "end_time": "2025-09-12T23:16:48.505413Z",
     "start_time": "2025-09-12T23:16:48.499048Z"
    }
   },
   "cell_type": "code",
   "source": "np.dot(x,y)",
   "id": "3253bc2ca6dd2f3b",
   "outputs": [
    {
     "data": {
      "text/plain": [
       "array([[ 28,  64],\n",
       "       [ 67, 181]])"
      ]
     },
     "execution_count": 7,
     "metadata": {},
     "output_type": "execute_result"
    }
   ],
   "execution_count": 7
  },
  {
   "metadata": {
    "ExecuteTime": {
     "end_time": "2025-09-12T23:17:08.597928Z",
     "start_time": "2025-09-12T23:17:08.576898Z"
    }
   },
   "cell_type": "code",
   "source": [
    "#multiply shorthand\n",
    "x @y"
   ],
   "id": "c281bb54c7cbe15a",
   "outputs": [
    {
     "data": {
      "text/plain": [
       "array([[ 28,  64],\n",
       "       [ 67, 181]])"
      ]
     },
     "execution_count": 8,
     "metadata": {},
     "output_type": "execute_result"
    }
   ],
   "execution_count": 8
  },
  {
   "metadata": {
    "ExecuteTime": {
     "end_time": "2025-09-12T23:17:21.449067Z",
     "start_time": "2025-09-12T23:17:21.440783Z"
    }
   },
   "cell_type": "code",
   "source": [
    "# Transpose\n",
    "x.T"
   ],
   "id": "1fdef59636a966e1",
   "outputs": [
    {
     "data": {
      "text/plain": [
       "array([[1, 4],\n",
       "       [2, 5],\n",
       "       [3, 6]])"
      ]
     },
     "execution_count": 9,
     "metadata": {},
     "output_type": "execute_result"
    }
   ],
   "execution_count": 9
  },
  {
   "metadata": {
    "ExecuteTime": {
     "end_time": "2025-09-12T23:17:43.986262Z",
     "start_time": "2025-09-12T23:17:43.959175Z"
    }
   },
   "cell_type": "code",
   "source": [
    "#inverse\n",
    "np.linalg.inv(x@y)"
   ],
   "id": "d16990e83ca77a19",
   "outputs": [
    {
     "data": {
      "text/plain": [
       "array([[ 0.23205128, -0.08205128],\n",
       "       [-0.08589744,  0.03589744]])"
      ]
     },
     "execution_count": 10,
     "metadata": {},
     "output_type": "execute_result"
    }
   ],
   "execution_count": 10
  }
 ],
 "metadata": {
  "kernelspec": {
   "display_name": "Python 3",
   "language": "python",
   "name": "python3"
  },
  "language_info": {
   "codemirror_mode": {
    "name": "ipython",
    "version": 2
   },
   "file_extension": ".py",
   "mimetype": "text/x-python",
   "name": "python",
   "nbconvert_exporter": "python",
   "pygments_lexer": "ipython2",
   "version": "2.7.6"
  }
 },
 "nbformat": 4,
 "nbformat_minor": 5
}
