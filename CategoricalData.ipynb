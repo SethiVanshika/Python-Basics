{
 "cells": [
  {
   "metadata": {},
   "cell_type": "markdown",
   "source": "Categorical Data: Unique Values, Membership, Dummies\n",
   "id": "cfd3b9454b45347b"
  },
  {
   "metadata": {
    "ExecuteTime": {
     "end_time": "2025-09-16T01:14:22.916047Z",
     "start_time": "2025-09-16T01:14:22.896265Z"
    }
   },
   "cell_type": "code",
   "source": [
    "import pandas as pd\n",
    "ser = pd.Series({'AAPL':'Tech','XOM': 'Energy', 'MSFT':'Tech', 'LULU': 'Consumer', 'TSLA':'Consumer','GS':'Financials', 'BAC':'Financials'})\n",
    "ser"
   ],
   "id": "928bed8a98ae25f1",
   "outputs": [
    {
     "data": {
      "text/plain": [
       "AAPL          Tech\n",
       "XOM         Energy\n",
       "MSFT          Tech\n",
       "LULU      Consumer\n",
       "TSLA      Consumer\n",
       "GS      Financials\n",
       "BAC     Financials\n",
       "dtype: object"
      ]
     },
     "execution_count": 1,
     "metadata": {},
     "output_type": "execute_result"
    }
   ],
   "execution_count": 1
  },
  {
   "metadata": {
    "ExecuteTime": {
     "end_time": "2025-09-16T01:14:22.953700Z",
     "start_time": "2025-09-16T01:14:22.941324Z"
    }
   },
   "cell_type": "code",
   "source": [
    "#Get Unique Values\n",
    "ser.unique()"
   ],
   "id": "ac8492b8a7f21264",
   "outputs": [
    {
     "data": {
      "text/plain": [
       "array(['Tech', 'Energy', 'Consumer', 'Financials'], dtype=object)"
      ]
     },
     "execution_count": 2,
     "metadata": {},
     "output_type": "execute_result"
    }
   ],
   "execution_count": 2
  },
  {
   "metadata": {
    "ExecuteTime": {
     "end_time": "2025-09-16T01:15:04.814945Z",
     "start_time": "2025-09-16T01:15:04.796113Z"
    }
   },
   "cell_type": "code",
   "source": [
    "#Get Unique Values & Counts\n",
    "ser.value_counts()"
   ],
   "id": "14f1008f23b45ba9",
   "outputs": [
    {
     "data": {
      "text/plain": [
       "Tech          2\n",
       "Consumer      2\n",
       "Financials    2\n",
       "Energy        1\n",
       "Name: count, dtype: int64"
      ]
     },
     "execution_count": 3,
     "metadata": {},
     "output_type": "execute_result"
    }
   ],
   "execution_count": 3
  },
  {
   "metadata": {
    "ExecuteTime": {
     "end_time": "2025-09-16T01:15:38.148247Z",
     "start_time": "2025-09-16T01:15:38.045205Z"
    }
   },
   "cell_type": "code",
   "source": [
    "mask = ser.isin(['Financials', 'Tech'])\n",
    "mask"
   ],
   "id": "95e091decc259cd0",
   "outputs": [
    {
     "data": {
      "text/plain": [
       "AAPL     True\n",
       "XOM     False\n",
       "MSFT     True\n",
       "LULU    False\n",
       "TSLA    False\n",
       "GS       True\n",
       "BAC      True\n",
       "dtype: bool"
      ]
     },
     "execution_count": 4,
     "metadata": {},
     "output_type": "execute_result"
    }
   ],
   "execution_count": 4
  },
  {
   "metadata": {
    "ExecuteTime": {
     "end_time": "2025-09-16T01:15:51.691633Z",
     "start_time": "2025-09-16T01:15:51.683102Z"
    }
   },
   "cell_type": "code",
   "source": "ser[mask]",
   "id": "49e6849cf0b4c1f7",
   "outputs": [
    {
     "data": {
      "text/plain": [
       "AAPL          Tech\n",
       "MSFT          Tech\n",
       "GS      Financials\n",
       "BAC     Financials\n",
       "dtype: object"
      ]
     },
     "execution_count": 5,
     "metadata": {},
     "output_type": "execute_result"
    }
   ],
   "execution_count": 5
  },
  {
   "metadata": {
    "ExecuteTime": {
     "end_time": "2025-09-16T01:16:02.279200Z",
     "start_time": "2025-09-16T01:16:02.248719Z"
    }
   },
   "cell_type": "code",
   "source": "pd.get_dummies(ser)",
   "id": "f31d8eec40c740c8",
   "outputs": [
    {
     "data": {
      "text/plain": [
       "      Consumer  Energy  Financials   Tech\n",
       "AAPL     False   False       False   True\n",
       "XOM      False    True       False  False\n",
       "MSFT     False   False       False   True\n",
       "LULU      True   False       False  False\n",
       "TSLA      True   False       False  False\n",
       "GS       False   False        True  False\n",
       "BAC      False   False        True  False"
      ],
      "text/html": [
       "<div>\n",
       "<style scoped>\n",
       "    .dataframe tbody tr th:only-of-type {\n",
       "        vertical-align: middle;\n",
       "    }\n",
       "\n",
       "    .dataframe tbody tr th {\n",
       "        vertical-align: top;\n",
       "    }\n",
       "\n",
       "    .dataframe thead th {\n",
       "        text-align: right;\n",
       "    }\n",
       "</style>\n",
       "<table border=\"1\" class=\"dataframe\">\n",
       "  <thead>\n",
       "    <tr style=\"text-align: right;\">\n",
       "      <th></th>\n",
       "      <th>Consumer</th>\n",
       "      <th>Energy</th>\n",
       "      <th>Financials</th>\n",
       "      <th>Tech</th>\n",
       "    </tr>\n",
       "  </thead>\n",
       "  <tbody>\n",
       "    <tr>\n",
       "      <th>AAPL</th>\n",
       "      <td>False</td>\n",
       "      <td>False</td>\n",
       "      <td>False</td>\n",
       "      <td>True</td>\n",
       "    </tr>\n",
       "    <tr>\n",
       "      <th>XOM</th>\n",
       "      <td>False</td>\n",
       "      <td>True</td>\n",
       "      <td>False</td>\n",
       "      <td>False</td>\n",
       "    </tr>\n",
       "    <tr>\n",
       "      <th>MSFT</th>\n",
       "      <td>False</td>\n",
       "      <td>False</td>\n",
       "      <td>False</td>\n",
       "      <td>True</td>\n",
       "    </tr>\n",
       "    <tr>\n",
       "      <th>LULU</th>\n",
       "      <td>True</td>\n",
       "      <td>False</td>\n",
       "      <td>False</td>\n",
       "      <td>False</td>\n",
       "    </tr>\n",
       "    <tr>\n",
       "      <th>TSLA</th>\n",
       "      <td>True</td>\n",
       "      <td>False</td>\n",
       "      <td>False</td>\n",
       "      <td>False</td>\n",
       "    </tr>\n",
       "    <tr>\n",
       "      <th>GS</th>\n",
       "      <td>False</td>\n",
       "      <td>False</td>\n",
       "      <td>True</td>\n",
       "      <td>False</td>\n",
       "    </tr>\n",
       "    <tr>\n",
       "      <th>BAC</th>\n",
       "      <td>False</td>\n",
       "      <td>False</td>\n",
       "      <td>True</td>\n",
       "      <td>False</td>\n",
       "    </tr>\n",
       "  </tbody>\n",
       "</table>\n",
       "</div>"
      ]
     },
     "execution_count": 6,
     "metadata": {},
     "output_type": "execute_result"
    }
   ],
   "execution_count": 6
  },
  {
   "metadata": {},
   "cell_type": "code",
   "outputs": [],
   "execution_count": null,
   "source": "",
   "id": "7ffaaa72286b7492"
  }
 ],
 "metadata": {
  "kernelspec": {
   "display_name": "Python 3",
   "language": "python",
   "name": "python3"
  },
  "language_info": {
   "codemirror_mode": {
    "name": "ipython",
    "version": 2
   },
   "file_extension": ".py",
   "mimetype": "text/x-python",
   "name": "python",
   "nbconvert_exporter": "python",
   "pygments_lexer": "ipython2",
   "version": "2.7.6"
  }
 },
 "nbformat": 4,
 "nbformat_minor": 5
}
