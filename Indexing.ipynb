{
 "cells": [
  {
   "cell_type": "code",
   "id": "initial_id",
   "metadata": {
    "collapsed": true,
    "ExecuteTime": {
     "end_time": "2025-09-12T22:45:45.096067Z",
     "start_time": "2025-09-12T22:45:45.085012Z"
    }
   },
   "source": [
    "#Integer Indexing\n",
    "# Boolean Indexing\n",
    "\n",
    "#initialize\n",
    "import numpy as np\n",
    "\n",
    "list1 = [1,1.1,-9,76]\n",
    "arr1 = np.array(list1)\n",
    "\n",
    "list1 = [[8,98,76,-45],[0,87,34,21]]\n",
    "arr2 = np.array(list1)"
   ],
   "outputs": [],
   "execution_count": 13
  },
  {
   "metadata": {
    "ExecuteTime": {
     "end_time": "2025-09-12T22:40:41.531747Z",
     "start_time": "2025-09-12T22:40:41.510352Z"
    }
   },
   "cell_type": "code",
   "source": [
    "#Integer Indexing\n",
    "print(arr1[0])\n",
    "print(arr1[1:3])\n",
    "print(arr1[-2: ])"
   ],
   "id": "e0d3cd6e1b0529ab",
   "outputs": [
    {
     "name": "stdout",
     "output_type": "stream",
     "text": [
      "8\n",
      "[98 76]\n",
      "[ 76 -45]\n"
     ]
    }
   ],
   "execution_count": 3
  },
  {
   "metadata": {
    "ExecuteTime": {
     "end_time": "2025-09-12T22:42:25.957730Z",
     "start_time": "2025-09-12T22:42:25.927745Z"
    }
   },
   "cell_type": "code",
   "source": [
    "# 2-D array indexing\n",
    "arr2"
   ],
   "id": "bfcf65537d52e052",
   "outputs": [
    {
     "data": {
      "text/plain": [
       "array([  8,  98,  76, -45])"
      ]
     },
     "execution_count": 7,
     "metadata": {},
     "output_type": "execute_result"
    }
   ],
   "execution_count": 7
  },
  {
   "metadata": {
    "ExecuteTime": {
     "end_time": "2025-09-12T22:45:48.761127Z",
     "start_time": "2025-09-12T22:45:48.752285Z"
    }
   },
   "cell_type": "code",
   "source": "arr2[0]",
   "id": "2079b6b00be8441c",
   "outputs": [
    {
     "data": {
      "text/plain": [
       "array([  8,  98,  76, -45])"
      ]
     },
     "execution_count": 14,
     "metadata": {},
     "output_type": "execute_result"
    }
   ],
   "execution_count": 14
  },
  {
   "metadata": {
    "ExecuteTime": {
     "end_time": "2025-09-12T22:46:18.577946Z",
     "start_time": "2025-09-12T22:46:18.557706Z"
    }
   },
   "cell_type": "code",
   "source": "arr2[0][1]",
   "id": "7a1170c0a9dd0bb8",
   "outputs": [
    {
     "data": {
      "text/plain": [
       "np.int64(98)"
      ]
     },
     "execution_count": 16,
     "metadata": {},
     "output_type": "execute_result"
    }
   ],
   "execution_count": 16
  },
  {
   "metadata": {
    "ExecuteTime": {
     "end_time": "2025-09-12T22:46:43.734014Z",
     "start_time": "2025-09-12T22:46:43.723878Z"
    }
   },
   "cell_type": "code",
   "source": "arr2[0,]",
   "id": "d324258fb2da89f4",
   "outputs": [
    {
     "data": {
      "text/plain": [
       "array([  8,  98,  76, -45])"
      ]
     },
     "execution_count": 17,
     "metadata": {},
     "output_type": "execute_result"
    }
   ],
   "execution_count": 17
  },
  {
   "metadata": {
    "ExecuteTime": {
     "end_time": "2025-09-12T22:47:10.192746Z",
     "start_time": "2025-09-12T22:47:10.172081Z"
    }
   },
   "cell_type": "code",
   "source": "arr2[0, :3]",
   "id": "2c8d26cdb11e6cb",
   "outputs": [
    {
     "data": {
      "text/plain": [
       "array([ 8, 98, 76])"
      ]
     },
     "execution_count": 18,
     "metadata": {},
     "output_type": "execute_result"
    }
   ],
   "execution_count": 18
  },
  {
   "metadata": {
    "ExecuteTime": {
     "end_time": "2025-09-12T22:47:23.875969Z",
     "start_time": "2025-09-12T22:47:23.868777Z"
    }
   },
   "cell_type": "code",
   "source": "arr2[:, :3]",
   "id": "279234016c03f7a7",
   "outputs": [
    {
     "data": {
      "text/plain": [
       "array([[ 8, 98, 76],\n",
       "       [ 0, 87, 34]])"
      ]
     },
     "execution_count": 19,
     "metadata": {},
     "output_type": "execute_result"
    }
   ],
   "execution_count": 19
  },
  {
   "metadata": {
    "ExecuteTime": {
     "end_time": "2025-09-12T22:47:51.240224Z",
     "start_time": "2025-09-12T22:47:51.219828Z"
    }
   },
   "cell_type": "code",
   "source": "arr2[:, [1,3,-1]]",
   "id": "6ed9c3991a33d22b",
   "outputs": [
    {
     "data": {
      "text/plain": [
       "array([[ 98, -45, -45],\n",
       "       [ 87,  21,  21]])"
      ]
     },
     "execution_count": 20,
     "metadata": {},
     "output_type": "execute_result"
    }
   ],
   "execution_count": 20
  },
  {
   "metadata": {
    "ExecuteTime": {
     "end_time": "2025-09-12T22:48:20.147324Z",
     "start_time": "2025-09-12T22:48:20.137432Z"
    }
   },
   "cell_type": "code",
   "source": [
    "#Boolean Indexing\n",
    "\n",
    "mask = arr1>0\n",
    "mask"
   ],
   "id": "9f4f111bc2b73f28",
   "outputs": [
    {
     "data": {
      "text/plain": [
       "array([ True,  True, False,  True])"
      ]
     },
     "execution_count": 21,
     "metadata": {},
     "output_type": "execute_result"
    }
   ],
   "execution_count": 21
  },
  {
   "metadata": {
    "ExecuteTime": {
     "end_time": "2025-09-12T22:48:27.790939Z",
     "start_time": "2025-09-12T22:48:27.781774Z"
    }
   },
   "cell_type": "code",
   "source": "arr1[mask]",
   "id": "57bb928b82574dc5",
   "outputs": [
    {
     "data": {
      "text/plain": [
       "array([ 1. ,  1.1, 76. ])"
      ]
     },
     "execution_count": 22,
     "metadata": {},
     "output_type": "execute_result"
    }
   ],
   "execution_count": 22
  },
  {
   "metadata": {
    "ExecuteTime": {
     "end_time": "2025-09-12T22:48:55.577715Z",
     "start_time": "2025-09-12T22:48:55.568681Z"
    }
   },
   "cell_type": "code",
   "source": "arr2[[True, False], :2] # this will represent row1 and upto 2nd column",
   "id": "3f48b269ce9749d9",
   "outputs": [
    {
     "data": {
      "text/plain": [
       "array([[ 8, 98]])"
      ]
     },
     "execution_count": 23,
     "metadata": {},
     "output_type": "execute_result"
    }
   ],
   "execution_count": 23
  },
  {
   "metadata": {
    "ExecuteTime": {
     "end_time": "2025-09-12T22:49:02.817360Z",
     "start_time": "2025-09-12T22:49:02.811113Z"
    }
   },
   "cell_type": "code",
   "source": "arr2",
   "id": "9d3ee2f022132e2b",
   "outputs": [
    {
     "data": {
      "text/plain": [
       "array([[  8,  98,  76, -45],\n",
       "       [  0,  87,  34,  21]])"
      ]
     },
     "execution_count": 24,
     "metadata": {},
     "output_type": "execute_result"
    }
   ],
   "execution_count": 24
  }
 ],
 "metadata": {
  "kernelspec": {
   "display_name": "Python 3",
   "language": "python",
   "name": "python3"
  },
  "language_info": {
   "codemirror_mode": {
    "name": "ipython",
    "version": 2
   },
   "file_extension": ".py",
   "mimetype": "text/x-python",
   "name": "python",
   "nbconvert_exporter": "python",
   "pygments_lexer": "ipython2",
   "version": "2.7.6"
  }
 },
 "nbformat": 4,
 "nbformat_minor": 5
}
