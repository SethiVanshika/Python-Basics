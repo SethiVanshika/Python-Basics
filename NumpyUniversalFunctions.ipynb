{
 "cells": [
  {
   "cell_type": "code",
   "id": "initial_id",
   "metadata": {
    "collapsed": true,
    "ExecuteTime": {
     "end_time": "2025-09-12T22:56:31.439723Z",
     "start_time": "2025-09-12T22:56:31.428754Z"
    }
   },
   "source": [
    "# Function that performs elementwise operations on data in arrays\n",
    "import numpy as np\n",
    "# many ufuncs operate on a single array\n",
    "arr = np.array([1,4,9,16])\n",
    "np.sqrt(arr)"
   ],
   "outputs": [
    {
     "data": {
      "text/plain": [
       "array([1., 2., 3., 4.])"
      ]
     },
     "execution_count": 3,
     "metadata": {},
     "output_type": "execute_result"
    }
   ],
   "execution_count": 3
  },
  {
   "metadata": {
    "ExecuteTime": {
     "end_time": "2025-09-12T22:56:40.983171Z",
     "start_time": "2025-09-12T22:56:40.971799Z"
    }
   },
   "cell_type": "code",
   "source": "np.log(arr)",
   "id": "49bcec417708715d",
   "outputs": [
    {
     "data": {
      "text/plain": [
       "array([0.        , 1.38629436, 2.19722458, 2.77258872])"
      ]
     },
     "execution_count": 4,
     "metadata": {},
     "output_type": "execute_result"
    }
   ],
   "execution_count": 4
  },
  {
   "metadata": {
    "ExecuteTime": {
     "end_time": "2025-09-12T22:58:10.058735Z",
     "start_time": "2025-09-12T22:58:10.049189Z"
    }
   },
   "cell_type": "code",
   "source": [
    "# some ufuncs operate on multiple array(Binary Universal Functions)\n",
    "arr1 = np.array([1,-9, 3,5])\n",
    "arr2 = np.array([2,11,4,32])\n",
    "np.maximum(arr1, arr2)\n",
    "np.minimum(arr1, arr2)"
   ],
   "id": "6521101ba4af6fca",
   "outputs": [
    {
     "data": {
      "text/plain": [
       "array([ 1, -9,  3,  5])"
      ]
     },
     "execution_count": 5,
     "metadata": {},
     "output_type": "execute_result"
    }
   ],
   "execution_count": 5
  }
 ],
 "metadata": {
  "kernelspec": {
   "display_name": "Python 3",
   "language": "python",
   "name": "python3"
  },
  "language_info": {
   "codemirror_mode": {
    "name": "ipython",
    "version": 2
   },
   "file_extension": ".py",
   "mimetype": "text/x-python",
   "name": "python",
   "nbconvert_exporter": "python",
   "pygments_lexer": "ipython2",
   "version": "2.7.6"
  }
 },
 "nbformat": 4,
 "nbformat_minor": 5
}
