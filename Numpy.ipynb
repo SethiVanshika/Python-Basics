{
 "cells": [
  {
   "cell_type": "code",
   "id": "initial_id",
   "metadata": {
    "collapsed": true,
    "ExecuteTime": {
     "end_time": "2025-09-12T22:10:32.442388Z",
     "start_time": "2025-09-12T22:10:32.437090Z"
    }
   },
   "source": [
    "#Numpy - \"Numerical Python\" Foundation for pandas and high performance scientific computing/data analysis\n",
    "\n",
    "#1. Numpy Arrays\n",
    "#2. Basic Operations\n",
    "#3 Indexing\n",
    "#4 Universal Functions\n",
    "#5 Array methods for data analysis\n",
    "#6 Linear Algebra"
   ],
   "outputs": [],
   "execution_count": 1
  },
  {
   "metadata": {
    "ExecuteTime": {
     "end_time": "2025-09-12T22:13:36.409830Z",
     "start_time": "2025-09-12T22:13:36.401256Z"
    }
   },
   "cell_type": "code",
   "source": [
    "import numpy as np\n",
    "#use np.some_numpy_method to use numpy\n",
    "np.abs(-6)"
   ],
   "id": "15eafbf0f4c03836",
   "outputs": [
    {
     "data": {
      "text/plain": [
       "np.int64(6)"
      ]
     },
     "execution_count": 4,
     "metadata": {},
     "output_type": "execute_result"
    }
   ],
   "execution_count": 4
  },
  {
   "metadata": {
    "ExecuteTime": {
     "end_time": "2025-09-12T22:14:32.992473Z",
     "start_time": "2025-09-12T22:14:31.937400Z"
    }
   },
   "cell_type": "code",
   "source": [
    "#import only as absolute value function from numpy\n",
    "from numpy import array, dot, sign\n",
    "\n",
    "#import all functions from numpy\n",
    "from numpy import *\n"
   ],
   "id": "7427782d25662583",
   "outputs": [],
   "execution_count": 6
  },
  {
   "metadata": {
    "ExecuteTime": {
     "end_time": "2025-09-12T22:23:43.658161Z",
     "start_time": "2025-09-12T22:23:43.640627Z"
    }
   },
   "cell_type": "code",
   "source": [
    "#Numpy Arrays\n",
    "#1D Array\n",
    "list1 =[1,1.1,-8,4.3]\n",
    "arr1 = np.array(list1)\n",
    "arr1"
   ],
   "id": "8d4ed43e844f01a9",
   "outputs": [
    {
     "data": {
      "text/plain": [
       "array([ 1. ,  1.1, -8. ,  4.3])"
      ]
     },
     "execution_count": 17,
     "metadata": {},
     "output_type": "execute_result"
    }
   ],
   "execution_count": 17
  },
  {
   "metadata": {},
   "cell_type": "markdown",
   "source": "",
   "id": "6b2543f5e6f2a103"
  },
  {
   "metadata": {
    "ExecuteTime": {
     "end_time": "2025-09-12T22:19:38.866959Z",
     "start_time": "2025-09-12T22:19:38.842465Z"
    }
   },
   "cell_type": "code",
   "source": [
    "#2D Array\n",
    "list2 = [[1,1.1,-3,34], [-0.4, 10, 23, 87]]  #both the sub-list should be of same size\n",
    "arr2 = np.array(list2)\n",
    "arr2"
   ],
   "id": "173a373168c54a50",
   "outputs": [
    {
     "data": {
      "text/plain": [
       "array([[ 1. ,  1.1, -3. , 34. ],\n",
       "       [-0.4, 10. , 23. , 87. ]])"
      ]
     },
     "execution_count": 11,
     "metadata": {},
     "output_type": "execute_result"
    }
   ],
   "execution_count": 11
  },
  {
   "metadata": {
    "ExecuteTime": {
     "end_time": "2025-09-12T22:19:46.158006Z",
     "start_time": "2025-09-12T22:19:46.148311Z"
    }
   },
   "cell_type": "code",
   "source": "arr1.shape",
   "id": "faffa4762352478a",
   "outputs": [
    {
     "data": {
      "text/plain": [
       "(4,)"
      ]
     },
     "execution_count": 13,
     "metadata": {},
     "output_type": "execute_result"
    }
   ],
   "execution_count": 13
  },
  {
   "metadata": {
    "ExecuteTime": {
     "end_time": "2025-09-12T22:19:49.922919Z",
     "start_time": "2025-09-12T22:19:49.917389Z"
    }
   },
   "cell_type": "code",
   "source": "arr2.shape",
   "id": "74d8027d4ba12e9",
   "outputs": [
    {
     "data": {
      "text/plain": [
       "(2, 4)"
      ]
     },
     "execution_count": 14,
     "metadata": {},
     "output_type": "execute_result"
    }
   ],
   "execution_count": 14
  },
  {
   "metadata": {
    "ExecuteTime": {
     "end_time": "2025-09-12T22:25:41.264362Z",
     "start_time": "2025-09-12T22:25:41.249528Z"
    }
   },
   "cell_type": "code",
   "source": [
    "#Basic Operations\n",
    "#Operations between equal-size arrays or arrays and scalars operate element-wise\n",
    "#No loops needed\n",
    "#numpy makes array - scalar operations easier\n",
    "arr1-5  #cannot be implemented directly on list it should be numpy array"
   ],
   "id": "807dbfc47dc53c07",
   "outputs": [
    {
     "data": {
      "text/plain": [
       "array([ -4. ,  -3.9, -13. ,  -0.7])"
      ]
     },
     "execution_count": 20,
     "metadata": {},
     "output_type": "execute_result"
    }
   ],
   "execution_count": 20
  },
  {
   "metadata": {
    "ExecuteTime": {
     "end_time": "2025-09-12T22:27:15.221369Z",
     "start_time": "2025-09-12T22:27:15.204481Z"
    }
   },
   "cell_type": "code",
   "source": [
    "#if we want to do using list: clunky loop\n",
    "new_list=[]\n",
    "for x in list1:\n",
    "    new_list.append(x)\n",
    "print(new_list)"
   ],
   "id": "5ddb85e31e8a14c8",
   "outputs": [
    {
     "name": "stdout",
     "output_type": "stream",
     "text": [
      "[1, 1.1, -8, 4.3]\n"
     ]
    }
   ],
   "execution_count": 21
  },
  {
   "metadata": {
    "ExecuteTime": {
     "end_time": "2025-09-12T22:28:31.178252Z",
     "start_time": "2025-09-12T22:28:31.159468Z"
    }
   },
   "cell_type": "code",
   "source": [
    "#numpy makes array to array operations easier\n",
    "arr1*arr1"
   ],
   "id": "e0aa5a00b1292837",
   "outputs": [
    {
     "data": {
      "text/plain": [
       "array([ 1.  ,  1.21, 64.  , 18.49])"
      ]
     },
     "execution_count": 23,
     "metadata": {},
     "output_type": "execute_result"
    }
   ],
   "execution_count": 23
  },
  {
   "metadata": {
    "ExecuteTime": {
     "end_time": "2025-09-12T22:29:38.919443Z",
     "start_time": "2025-09-12T22:29:38.902242Z"
    }
   },
   "cell_type": "code",
   "source": [
    "#numpy makes array to scalar boolean logic easier\n",
    "arr1 > 0"
   ],
   "id": "b73ff77dc74086e2",
   "outputs": [
    {
     "data": {
      "text/plain": [
       "array([ True,  True, False,  True])"
      ]
     },
     "execution_count": 25,
     "metadata": {},
     "output_type": "execute_result"
    }
   ],
   "execution_count": 25
  },
  {
   "metadata": {
    "ExecuteTime": {
     "end_time": "2025-09-12T22:31:11.446152Z",
     "start_time": "2025-09-12T22:31:11.427827Z"
    }
   },
   "cell_type": "code",
   "source": [
    "#using lists : very clunky loop\n",
    "is_pos =[]\n",
    "for x in list1:\n",
    "    is_pos.append(x > 0)\n",
    "\n",
    "is_pos"
   ],
   "id": "e656ee6f5698c781",
   "outputs": [
    {
     "data": {
      "text/plain": [
       "[True, True, False, True]"
      ]
     },
     "execution_count": 27,
     "metadata": {},
     "output_type": "execute_result"
    }
   ],
   "execution_count": 27
  },
  {
   "metadata": {
    "ExecuteTime": {
     "end_time": "2025-09-12T22:31:33.412857Z",
     "start_time": "2025-09-12T22:31:33.395828Z"
    }
   },
   "cell_type": "code",
   "source": "arr1>0",
   "id": "ef60a454b2495f03",
   "outputs": [
    {
     "data": {
      "text/plain": [
       "array([ True,  True, False,  True])"
      ]
     },
     "execution_count": 28,
     "metadata": {},
     "output_type": "execute_result"
    }
   ],
   "execution_count": 28
  },
  {
   "metadata": {
    "ExecuteTime": {
     "end_time": "2025-09-12T22:33:05.958637Z",
     "start_time": "2025-09-12T22:33:05.929919Z"
    }
   },
   "cell_type": "code",
   "source": [
    "#numpy makes array to array boolean logic easier\n",
    "arr1 = np.array([1,89,0.9,34])\n",
    "arr2 = np.array([1,2,3,4])\n",
    "arr1> arr2"
   ],
   "id": "112ca069054e15be",
   "outputs": [
    {
     "data": {
      "text/plain": [
       "array([False,  True, False,  True])"
      ]
     },
     "execution_count": 29,
     "metadata": {},
     "output_type": "execute_result"
    }
   ],
   "execution_count": 29
  },
  {
   "metadata": {
    "ExecuteTime": {
     "end_time": "2025-09-12T22:34:01.762978Z",
     "start_time": "2025-09-12T22:34:01.743099Z"
    }
   },
   "cell_type": "code",
   "source": [
    "#numpy makes logical operations on boolean array easier\n",
    "bool1 = (arr1>0)\n",
    "bool1"
   ],
   "id": "42c64f81882da0dd",
   "outputs": [
    {
     "data": {
      "text/plain": [
       "array([ True,  True,  True,  True])"
      ]
     },
     "execution_count": 30,
     "metadata": {},
     "output_type": "execute_result"
    }
   ],
   "execution_count": 30
  },
  {
   "metadata": {
    "ExecuteTime": {
     "end_time": "2025-09-12T22:34:56.683645Z",
     "start_time": "2025-09-12T22:34:56.667982Z"
    }
   },
   "cell_type": "code",
   "source": [
    "bool2 = (arr1>1)\n",
    "bool2"
   ],
   "id": "add559ee631faa01",
   "outputs": [
    {
     "data": {
      "text/plain": [
       "array([False,  True, False,  True])"
      ]
     },
     "execution_count": 32,
     "metadata": {},
     "output_type": "execute_result"
    }
   ],
   "execution_count": 32
  },
  {
   "metadata": {
    "ExecuteTime": {
     "end_time": "2025-09-12T22:35:14.068126Z",
     "start_time": "2025-09-12T22:35:14.061705Z"
    }
   },
   "cell_type": "code",
   "source": "bool1 & bool2",
   "id": "fb60a05619063dd4",
   "outputs": [
    {
     "data": {
      "text/plain": [
       "array([False,  True, False,  True])"
      ]
     },
     "execution_count": 33,
     "metadata": {},
     "output_type": "execute_result"
    }
   ],
   "execution_count": 33
  },
  {
   "metadata": {
    "ExecuteTime": {
     "end_time": "2025-09-12T22:35:27.033748Z",
     "start_time": "2025-09-12T22:35:27.025981Z"
    }
   },
   "cell_type": "code",
   "source": "bool1 | bool2",
   "id": "c7ed400d184656f6",
   "outputs": [
    {
     "data": {
      "text/plain": [
       "array([ True,  True,  True,  True])"
      ]
     },
     "execution_count": 34,
     "metadata": {},
     "output_type": "execute_result"
    }
   ],
   "execution_count": 34
  }
 ],
 "metadata": {
  "kernelspec": {
   "display_name": "Python 3",
   "language": "python",
   "name": "python3"
  },
  "language_info": {
   "codemirror_mode": {
    "name": "ipython",
    "version": 2
   },
   "file_extension": ".py",
   "mimetype": "text/x-python",
   "name": "python",
   "nbconvert_exporter": "python",
   "pygments_lexer": "ipython2",
   "version": "2.7.6"
  }
 },
 "nbformat": 4,
 "nbformat_minor": 5
}
