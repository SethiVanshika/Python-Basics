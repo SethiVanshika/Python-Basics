{
 "cells": [
  {
   "metadata": {},
   "cell_type": "markdown",
   "source": [
    "Missing Data\n",
    "1. Identifying missing Data\n",
    "2. Dropping missing Data\n",
    "3. Filling in missing Data\n",
    "4. Pandas data functions automatically ignores missing values"
   ],
   "id": "802cc9c680d2114a"
  },
  {
   "metadata": {
    "ExecuteTime": {
     "end_time": "2025-09-14T00:42:42.550333Z",
     "start_time": "2025-09-14T00:42:41.912114Z"
    }
   },
   "cell_type": "code",
   "source": [
    "import pandas as pd\n",
    "import numpy as np\n",
    "\n",
    "ser = pd.Series({'AAPL': 0.01, 'MSFT': 0.02, 'TSLA':np.nan, 'LULU': 0.05})\n",
    "\n",
    "index = ['20201201','20201202','20201203','20201204']\n",
    "columns = ['AAPL','MSFT','TSLA','LULU']\n",
    "\n",
    "data =[[np.nan,0.03,0.05,0.005],\n",
    "       [np.nan,np.nan,-0.05,-0.0025],\n",
    "       [np.nan,np.nan,np.nan,np.nan],\n",
    "       [np.nan,0.015,0.03,0.01]]\n",
    "\n",
    "df=pd.DataFrame(data,index=index,columns=columns)\n",
    "df"
   ],
   "id": "b054838677118f7f",
   "outputs": [
    {
     "data": {
      "text/plain": [
       "          AAPL   MSFT  TSLA    LULU\n",
       "20201201   NaN  0.030  0.05  0.0050\n",
       "20201202   NaN    NaN -0.05 -0.0025\n",
       "20201203   NaN    NaN   NaN     NaN\n",
       "20201204   NaN  0.015  0.03  0.0100"
      ],
      "text/html": [
       "<div>\n",
       "<style scoped>\n",
       "    .dataframe tbody tr th:only-of-type {\n",
       "        vertical-align: middle;\n",
       "    }\n",
       "\n",
       "    .dataframe tbody tr th {\n",
       "        vertical-align: top;\n",
       "    }\n",
       "\n",
       "    .dataframe thead th {\n",
       "        text-align: right;\n",
       "    }\n",
       "</style>\n",
       "<table border=\"1\" class=\"dataframe\">\n",
       "  <thead>\n",
       "    <tr style=\"text-align: right;\">\n",
       "      <th></th>\n",
       "      <th>AAPL</th>\n",
       "      <th>MSFT</th>\n",
       "      <th>TSLA</th>\n",
       "      <th>LULU</th>\n",
       "    </tr>\n",
       "  </thead>\n",
       "  <tbody>\n",
       "    <tr>\n",
       "      <th>20201201</th>\n",
       "      <td>NaN</td>\n",
       "      <td>0.030</td>\n",
       "      <td>0.05</td>\n",
       "      <td>0.0050</td>\n",
       "    </tr>\n",
       "    <tr>\n",
       "      <th>20201202</th>\n",
       "      <td>NaN</td>\n",
       "      <td>NaN</td>\n",
       "      <td>-0.05</td>\n",
       "      <td>-0.0025</td>\n",
       "    </tr>\n",
       "    <tr>\n",
       "      <th>20201203</th>\n",
       "      <td>NaN</td>\n",
       "      <td>NaN</td>\n",
       "      <td>NaN</td>\n",
       "      <td>NaN</td>\n",
       "    </tr>\n",
       "    <tr>\n",
       "      <th>20201204</th>\n",
       "      <td>NaN</td>\n",
       "      <td>0.015</td>\n",
       "      <td>0.03</td>\n",
       "      <td>0.0100</td>\n",
       "    </tr>\n",
       "  </tbody>\n",
       "</table>\n",
       "</div>"
      ]
     },
     "execution_count": 1,
     "metadata": {},
     "output_type": "execute_result"
    }
   ],
   "execution_count": 1
  },
  {
   "metadata": {},
   "cell_type": "markdown",
   "source": "Identifying missing data",
   "id": "26ab652dce15b1e9"
  },
  {
   "metadata": {
    "ExecuteTime": {
     "end_time": "2025-09-14T00:44:30.753652Z",
     "start_time": "2025-09-14T00:44:30.744056Z"
    }
   },
   "cell_type": "code",
   "source": [
    "#missing data is represented by np.nan\n",
    "nan=np.nan\n",
    "nan"
   ],
   "id": "5c614a110ef2388e",
   "outputs": [
    {
     "data": {
      "text/plain": [
       "nan"
      ]
     },
     "execution_count": 2,
     "metadata": {},
     "output_type": "execute_result"
    }
   ],
   "execution_count": 2
  },
  {
   "metadata": {
    "ExecuteTime": {
     "end_time": "2025-09-14T00:44:45.627856Z",
     "start_time": "2025-09-14T00:44:45.619920Z"
    }
   },
   "cell_type": "code",
   "source": "pd.isnull(nan)",
   "id": "4899c18819244b93",
   "outputs": [
    {
     "data": {
      "text/plain": [
       "True"
      ]
     },
     "execution_count": 3,
     "metadata": {},
     "output_type": "execute_result"
    }
   ],
   "execution_count": 3
  },
  {
   "metadata": {
    "ExecuteTime": {
     "end_time": "2025-09-14T00:45:02.164493Z",
     "start_time": "2025-09-14T00:45:02.157313Z"
    }
   },
   "cell_type": "code",
   "source": "pd.isnull(0)",
   "id": "426d9e2a14fbac8c",
   "outputs": [
    {
     "data": {
      "text/plain": [
       "False"
      ]
     },
     "execution_count": 4,
     "metadata": {},
     "output_type": "execute_result"
    }
   ],
   "execution_count": 4
  },
  {
   "metadata": {
    "ExecuteTime": {
     "end_time": "2025-09-14T00:45:06.617470Z",
     "start_time": "2025-09-14T00:45:06.608339Z"
    }
   },
   "cell_type": "code",
   "source": "ser",
   "id": "e51017a5441eff06",
   "outputs": [
    {
     "data": {
      "text/plain": [
       "AAPL    0.01\n",
       "MSFT    0.02\n",
       "TSLA     NaN\n",
       "LULU    0.05\n",
       "dtype: float64"
      ]
     },
     "execution_count": 5,
     "metadata": {},
     "output_type": "execute_result"
    }
   ],
   "execution_count": 5
  },
  {
   "metadata": {
    "ExecuteTime": {
     "end_time": "2025-09-14T00:45:16.048931Z",
     "start_time": "2025-09-14T00:45:16.040702Z"
    }
   },
   "cell_type": "code",
   "source": "ser.isnull()",
   "id": "105bf9d3064f6ef0",
   "outputs": [
    {
     "data": {
      "text/plain": [
       "AAPL    False\n",
       "MSFT    False\n",
       "TSLA     True\n",
       "LULU    False\n",
       "dtype: bool"
      ]
     },
     "execution_count": 6,
     "metadata": {},
     "output_type": "execute_result"
    }
   ],
   "execution_count": 6
  },
  {
   "metadata": {
    "ExecuteTime": {
     "end_time": "2025-09-14T00:45:31.402211Z",
     "start_time": "2025-09-14T00:45:31.393756Z"
    }
   },
   "cell_type": "code",
   "source": "ser.notnull()",
   "id": "693f6b38d12eeda2",
   "outputs": [
    {
     "data": {
      "text/plain": [
       "AAPL     True\n",
       "MSFT     True\n",
       "TSLA    False\n",
       "LULU     True\n",
       "dtype: bool"
      ]
     },
     "execution_count": 7,
     "metadata": {},
     "output_type": "execute_result"
    }
   ],
   "execution_count": 7
  },
  {
   "metadata": {
    "ExecuteTime": {
     "end_time": "2025-09-14T00:45:42.952953Z",
     "start_time": "2025-09-14T00:45:42.946030Z"
    }
   },
   "cell_type": "code",
   "source": "ser.count()",
   "id": "95a9c130591c7e4e",
   "outputs": [
    {
     "data": {
      "text/plain": [
       "np.int64(3)"
      ]
     },
     "execution_count": 8,
     "metadata": {},
     "output_type": "execute_result"
    }
   ],
   "execution_count": 8
  },
  {
   "metadata": {
    "ExecuteTime": {
     "end_time": "2025-09-14T00:45:50.867942Z",
     "start_time": "2025-09-14T00:45:50.857502Z"
    }
   },
   "cell_type": "code",
   "source": "df.isnull()",
   "id": "95441aa6b9b210c0",
   "outputs": [
    {
     "data": {
      "text/plain": [
       "          AAPL   MSFT   TSLA   LULU\n",
       "20201201  True  False  False  False\n",
       "20201202  True   True  False  False\n",
       "20201203  True   True   True   True\n",
       "20201204  True  False  False  False"
      ],
      "text/html": [
       "<div>\n",
       "<style scoped>\n",
       "    .dataframe tbody tr th:only-of-type {\n",
       "        vertical-align: middle;\n",
       "    }\n",
       "\n",
       "    .dataframe tbody tr th {\n",
       "        vertical-align: top;\n",
       "    }\n",
       "\n",
       "    .dataframe thead th {\n",
       "        text-align: right;\n",
       "    }\n",
       "</style>\n",
       "<table border=\"1\" class=\"dataframe\">\n",
       "  <thead>\n",
       "    <tr style=\"text-align: right;\">\n",
       "      <th></th>\n",
       "      <th>AAPL</th>\n",
       "      <th>MSFT</th>\n",
       "      <th>TSLA</th>\n",
       "      <th>LULU</th>\n",
       "    </tr>\n",
       "  </thead>\n",
       "  <tbody>\n",
       "    <tr>\n",
       "      <th>20201201</th>\n",
       "      <td>True</td>\n",
       "      <td>False</td>\n",
       "      <td>False</td>\n",
       "      <td>False</td>\n",
       "    </tr>\n",
       "    <tr>\n",
       "      <th>20201202</th>\n",
       "      <td>True</td>\n",
       "      <td>True</td>\n",
       "      <td>False</td>\n",
       "      <td>False</td>\n",
       "    </tr>\n",
       "    <tr>\n",
       "      <th>20201203</th>\n",
       "      <td>True</td>\n",
       "      <td>True</td>\n",
       "      <td>True</td>\n",
       "      <td>True</td>\n",
       "    </tr>\n",
       "    <tr>\n",
       "      <th>20201204</th>\n",
       "      <td>True</td>\n",
       "      <td>False</td>\n",
       "      <td>False</td>\n",
       "      <td>False</td>\n",
       "    </tr>\n",
       "  </tbody>\n",
       "</table>\n",
       "</div>"
      ]
     },
     "execution_count": 9,
     "metadata": {},
     "output_type": "execute_result"
    }
   ],
   "execution_count": 9
  },
  {
   "metadata": {},
   "cell_type": "markdown",
   "source": "Dropping missing Data",
   "id": "119449cab952f26f"
  },
  {
   "metadata": {
    "ExecuteTime": {
     "end_time": "2025-09-14T00:46:34.327767Z",
     "start_time": "2025-09-14T00:46:34.319064Z"
    }
   },
   "cell_type": "code",
   "source": "ser[ser.notnull()]",
   "id": "826386ef477d98c0",
   "outputs": [
    {
     "data": {
      "text/plain": [
       "AAPL    0.01\n",
       "MSFT    0.02\n",
       "LULU    0.05\n",
       "dtype: float64"
      ]
     },
     "execution_count": 10,
     "metadata": {},
     "output_type": "execute_result"
    }
   ],
   "execution_count": 10
  },
  {
   "metadata": {
    "ExecuteTime": {
     "end_time": "2025-09-14T00:46:49.741929Z",
     "start_time": "2025-09-14T00:46:49.732504Z"
    }
   },
   "cell_type": "code",
   "source": "ser.dropna()",
   "id": "4624581c137f1dbc",
   "outputs": [
    {
     "data": {
      "text/plain": [
       "AAPL    0.01\n",
       "MSFT    0.02\n",
       "LULU    0.05\n",
       "dtype: float64"
      ]
     },
     "execution_count": 11,
     "metadata": {},
     "output_type": "execute_result"
    }
   ],
   "execution_count": 11
  },
  {
   "metadata": {
    "ExecuteTime": {
     "end_time": "2025-09-14T00:47:45.192276Z",
     "start_time": "2025-09-14T00:47:45.181983Z"
    }
   },
   "cell_type": "code",
   "source": [
    "#By default dropna drops any row containing NaN\n",
    "df.dropna()"
   ],
   "id": "24ae2e181984452d",
   "outputs": [
    {
     "data": {
      "text/plain": [
       "Empty DataFrame\n",
       "Columns: [AAPL, MSFT, TSLA, LULU]\n",
       "Index: []"
      ],
      "text/html": [
       "<div>\n",
       "<style scoped>\n",
       "    .dataframe tbody tr th:only-of-type {\n",
       "        vertical-align: middle;\n",
       "    }\n",
       "\n",
       "    .dataframe tbody tr th {\n",
       "        vertical-align: top;\n",
       "    }\n",
       "\n",
       "    .dataframe thead th {\n",
       "        text-align: right;\n",
       "    }\n",
       "</style>\n",
       "<table border=\"1\" class=\"dataframe\">\n",
       "  <thead>\n",
       "    <tr style=\"text-align: right;\">\n",
       "      <th></th>\n",
       "      <th>AAPL</th>\n",
       "      <th>MSFT</th>\n",
       "      <th>TSLA</th>\n",
       "      <th>LULU</th>\n",
       "    </tr>\n",
       "  </thead>\n",
       "  <tbody>\n",
       "  </tbody>\n",
       "</table>\n",
       "</div>"
      ]
     },
     "execution_count": 12,
     "metadata": {},
     "output_type": "execute_result"
    }
   ],
   "execution_count": 12
  },
  {
   "metadata": {
    "ExecuteTime": {
     "end_time": "2025-09-14T00:47:49.873483Z",
     "start_time": "2025-09-14T00:47:49.864851Z"
    }
   },
   "cell_type": "code",
   "source": "df",
   "id": "ff65148050fa5d6e",
   "outputs": [
    {
     "data": {
      "text/plain": [
       "          AAPL   MSFT  TSLA    LULU\n",
       "20201201   NaN  0.030  0.05  0.0050\n",
       "20201202   NaN    NaN -0.05 -0.0025\n",
       "20201203   NaN    NaN   NaN     NaN\n",
       "20201204   NaN  0.015  0.03  0.0100"
      ],
      "text/html": [
       "<div>\n",
       "<style scoped>\n",
       "    .dataframe tbody tr th:only-of-type {\n",
       "        vertical-align: middle;\n",
       "    }\n",
       "\n",
       "    .dataframe tbody tr th {\n",
       "        vertical-align: top;\n",
       "    }\n",
       "\n",
       "    .dataframe thead th {\n",
       "        text-align: right;\n",
       "    }\n",
       "</style>\n",
       "<table border=\"1\" class=\"dataframe\">\n",
       "  <thead>\n",
       "    <tr style=\"text-align: right;\">\n",
       "      <th></th>\n",
       "      <th>AAPL</th>\n",
       "      <th>MSFT</th>\n",
       "      <th>TSLA</th>\n",
       "      <th>LULU</th>\n",
       "    </tr>\n",
       "  </thead>\n",
       "  <tbody>\n",
       "    <tr>\n",
       "      <th>20201201</th>\n",
       "      <td>NaN</td>\n",
       "      <td>0.030</td>\n",
       "      <td>0.05</td>\n",
       "      <td>0.0050</td>\n",
       "    </tr>\n",
       "    <tr>\n",
       "      <th>20201202</th>\n",
       "      <td>NaN</td>\n",
       "      <td>NaN</td>\n",
       "      <td>-0.05</td>\n",
       "      <td>-0.0025</td>\n",
       "    </tr>\n",
       "    <tr>\n",
       "      <th>20201203</th>\n",
       "      <td>NaN</td>\n",
       "      <td>NaN</td>\n",
       "      <td>NaN</td>\n",
       "      <td>NaN</td>\n",
       "    </tr>\n",
       "    <tr>\n",
       "      <th>20201204</th>\n",
       "      <td>NaN</td>\n",
       "      <td>0.015</td>\n",
       "      <td>0.03</td>\n",
       "      <td>0.0100</td>\n",
       "    </tr>\n",
       "  </tbody>\n",
       "</table>\n",
       "</div>"
      ]
     },
     "execution_count": 13,
     "metadata": {},
     "output_type": "execute_result"
    }
   ],
   "execution_count": 13
  },
  {
   "metadata": {
    "ExecuteTime": {
     "end_time": "2025-09-14T00:48:05.420112Z",
     "start_time": "2025-09-14T00:48:05.406718Z"
    }
   },
   "cell_type": "code",
   "source": "df.dropna(how='all')",
   "id": "dd43d7d690592e3e",
   "outputs": [
    {
     "data": {
      "text/plain": [
       "          AAPL   MSFT  TSLA    LULU\n",
       "20201201   NaN  0.030  0.05  0.0050\n",
       "20201202   NaN    NaN -0.05 -0.0025\n",
       "20201204   NaN  0.015  0.03  0.0100"
      ],
      "text/html": [
       "<div>\n",
       "<style scoped>\n",
       "    .dataframe tbody tr th:only-of-type {\n",
       "        vertical-align: middle;\n",
       "    }\n",
       "\n",
       "    .dataframe tbody tr th {\n",
       "        vertical-align: top;\n",
       "    }\n",
       "\n",
       "    .dataframe thead th {\n",
       "        text-align: right;\n",
       "    }\n",
       "</style>\n",
       "<table border=\"1\" class=\"dataframe\">\n",
       "  <thead>\n",
       "    <tr style=\"text-align: right;\">\n",
       "      <th></th>\n",
       "      <th>AAPL</th>\n",
       "      <th>MSFT</th>\n",
       "      <th>TSLA</th>\n",
       "      <th>LULU</th>\n",
       "    </tr>\n",
       "  </thead>\n",
       "  <tbody>\n",
       "    <tr>\n",
       "      <th>20201201</th>\n",
       "      <td>NaN</td>\n",
       "      <td>0.030</td>\n",
       "      <td>0.05</td>\n",
       "      <td>0.0050</td>\n",
       "    </tr>\n",
       "    <tr>\n",
       "      <th>20201202</th>\n",
       "      <td>NaN</td>\n",
       "      <td>NaN</td>\n",
       "      <td>-0.05</td>\n",
       "      <td>-0.0025</td>\n",
       "    </tr>\n",
       "    <tr>\n",
       "      <th>20201204</th>\n",
       "      <td>NaN</td>\n",
       "      <td>0.015</td>\n",
       "      <td>0.03</td>\n",
       "      <td>0.0100</td>\n",
       "    </tr>\n",
       "  </tbody>\n",
       "</table>\n",
       "</div>"
      ]
     },
     "execution_count": 14,
     "metadata": {},
     "output_type": "execute_result"
    }
   ],
   "execution_count": 14
  },
  {
   "metadata": {
    "ExecuteTime": {
     "end_time": "2025-09-14T00:48:26.929612Z",
     "start_time": "2025-09-14T00:48:26.918044Z"
    }
   },
   "cell_type": "code",
   "source": "df.dropna(thresh=3)",
   "id": "37e41a6b7b018270",
   "outputs": [
    {
     "data": {
      "text/plain": [
       "          AAPL   MSFT  TSLA   LULU\n",
       "20201201   NaN  0.030  0.05  0.005\n",
       "20201204   NaN  0.015  0.03  0.010"
      ],
      "text/html": [
       "<div>\n",
       "<style scoped>\n",
       "    .dataframe tbody tr th:only-of-type {\n",
       "        vertical-align: middle;\n",
       "    }\n",
       "\n",
       "    .dataframe tbody tr th {\n",
       "        vertical-align: top;\n",
       "    }\n",
       "\n",
       "    .dataframe thead th {\n",
       "        text-align: right;\n",
       "    }\n",
       "</style>\n",
       "<table border=\"1\" class=\"dataframe\">\n",
       "  <thead>\n",
       "    <tr style=\"text-align: right;\">\n",
       "      <th></th>\n",
       "      <th>AAPL</th>\n",
       "      <th>MSFT</th>\n",
       "      <th>TSLA</th>\n",
       "      <th>LULU</th>\n",
       "    </tr>\n",
       "  </thead>\n",
       "  <tbody>\n",
       "    <tr>\n",
       "      <th>20201201</th>\n",
       "      <td>NaN</td>\n",
       "      <td>0.030</td>\n",
       "      <td>0.05</td>\n",
       "      <td>0.005</td>\n",
       "    </tr>\n",
       "    <tr>\n",
       "      <th>20201204</th>\n",
       "      <td>NaN</td>\n",
       "      <td>0.015</td>\n",
       "      <td>0.03</td>\n",
       "      <td>0.010</td>\n",
       "    </tr>\n",
       "  </tbody>\n",
       "</table>\n",
       "</div>"
      ]
     },
     "execution_count": 15,
     "metadata": {},
     "output_type": "execute_result"
    }
   ],
   "execution_count": 15
  },
  {
   "metadata": {
    "ExecuteTime": {
     "end_time": "2025-09-14T00:48:52.152951Z",
     "start_time": "2025-09-14T00:48:52.141826Z"
    }
   },
   "cell_type": "code",
   "source": "df.dropna(axis=1, thresh=3)",
   "id": "566eb696e582d6eb",
   "outputs": [
    {
     "data": {
      "text/plain": [
       "          TSLA    LULU\n",
       "20201201  0.05  0.0050\n",
       "20201202 -0.05 -0.0025\n",
       "20201203   NaN     NaN\n",
       "20201204  0.03  0.0100"
      ],
      "text/html": [
       "<div>\n",
       "<style scoped>\n",
       "    .dataframe tbody tr th:only-of-type {\n",
       "        vertical-align: middle;\n",
       "    }\n",
       "\n",
       "    .dataframe tbody tr th {\n",
       "        vertical-align: top;\n",
       "    }\n",
       "\n",
       "    .dataframe thead th {\n",
       "        text-align: right;\n",
       "    }\n",
       "</style>\n",
       "<table border=\"1\" class=\"dataframe\">\n",
       "  <thead>\n",
       "    <tr style=\"text-align: right;\">\n",
       "      <th></th>\n",
       "      <th>TSLA</th>\n",
       "      <th>LULU</th>\n",
       "    </tr>\n",
       "  </thead>\n",
       "  <tbody>\n",
       "    <tr>\n",
       "      <th>20201201</th>\n",
       "      <td>0.05</td>\n",
       "      <td>0.0050</td>\n",
       "    </tr>\n",
       "    <tr>\n",
       "      <th>20201202</th>\n",
       "      <td>-0.05</td>\n",
       "      <td>-0.0025</td>\n",
       "    </tr>\n",
       "    <tr>\n",
       "      <th>20201203</th>\n",
       "      <td>NaN</td>\n",
       "      <td>NaN</td>\n",
       "    </tr>\n",
       "    <tr>\n",
       "      <th>20201204</th>\n",
       "      <td>0.03</td>\n",
       "      <td>0.0100</td>\n",
       "    </tr>\n",
       "  </tbody>\n",
       "</table>\n",
       "</div>"
      ]
     },
     "execution_count": 16,
     "metadata": {},
     "output_type": "execute_result"
    }
   ],
   "execution_count": 16
  },
  {
   "metadata": {},
   "cell_type": "markdown",
   "source": "Filling Missing Data",
   "id": "b8f7e0264955203c"
  },
  {
   "metadata": {
    "ExecuteTime": {
     "end_time": "2025-09-14T00:49:42.129859Z",
     "start_time": "2025-09-14T00:49:42.122848Z"
    }
   },
   "cell_type": "code",
   "source": "ser",
   "id": "ec5d06ddf9a6a3a6",
   "outputs": [
    {
     "data": {
      "text/plain": [
       "AAPL    0.01\n",
       "MSFT    0.02\n",
       "TSLA     NaN\n",
       "LULU    0.05\n",
       "dtype: float64"
      ]
     },
     "execution_count": 17,
     "metadata": {},
     "output_type": "execute_result"
    }
   ],
   "execution_count": 17
  },
  {
   "metadata": {
    "ExecuteTime": {
     "end_time": "2025-09-14T00:49:57.270120Z",
     "start_time": "2025-09-14T00:49:57.256924Z"
    }
   },
   "cell_type": "code",
   "source": "ser.fillna(0)",
   "id": "6525fbc293b02aac",
   "outputs": [
    {
     "data": {
      "text/plain": [
       "AAPL    0.01\n",
       "MSFT    0.02\n",
       "TSLA    0.00\n",
       "LULU    0.05\n",
       "dtype: float64"
      ]
     },
     "execution_count": 19,
     "metadata": {},
     "output_type": "execute_result"
    }
   ],
   "execution_count": 19
  },
  {
   "metadata": {
    "ExecuteTime": {
     "end_time": "2025-09-14T00:50:10.485490Z",
     "start_time": "2025-09-14T00:50:10.475248Z"
    }
   },
   "cell_type": "code",
   "source": "df",
   "id": "c1899e820cffacf5",
   "outputs": [
    {
     "data": {
      "text/plain": [
       "          AAPL   MSFT  TSLA    LULU\n",
       "20201201   NaN  0.030  0.05  0.0050\n",
       "20201202   NaN    NaN -0.05 -0.0025\n",
       "20201203   NaN    NaN   NaN     NaN\n",
       "20201204   NaN  0.015  0.03  0.0100"
      ],
      "text/html": [
       "<div>\n",
       "<style scoped>\n",
       "    .dataframe tbody tr th:only-of-type {\n",
       "        vertical-align: middle;\n",
       "    }\n",
       "\n",
       "    .dataframe tbody tr th {\n",
       "        vertical-align: top;\n",
       "    }\n",
       "\n",
       "    .dataframe thead th {\n",
       "        text-align: right;\n",
       "    }\n",
       "</style>\n",
       "<table border=\"1\" class=\"dataframe\">\n",
       "  <thead>\n",
       "    <tr style=\"text-align: right;\">\n",
       "      <th></th>\n",
       "      <th>AAPL</th>\n",
       "      <th>MSFT</th>\n",
       "      <th>TSLA</th>\n",
       "      <th>LULU</th>\n",
       "    </tr>\n",
       "  </thead>\n",
       "  <tbody>\n",
       "    <tr>\n",
       "      <th>20201201</th>\n",
       "      <td>NaN</td>\n",
       "      <td>0.030</td>\n",
       "      <td>0.05</td>\n",
       "      <td>0.0050</td>\n",
       "    </tr>\n",
       "    <tr>\n",
       "      <th>20201202</th>\n",
       "      <td>NaN</td>\n",
       "      <td>NaN</td>\n",
       "      <td>-0.05</td>\n",
       "      <td>-0.0025</td>\n",
       "    </tr>\n",
       "    <tr>\n",
       "      <th>20201203</th>\n",
       "      <td>NaN</td>\n",
       "      <td>NaN</td>\n",
       "      <td>NaN</td>\n",
       "      <td>NaN</td>\n",
       "    </tr>\n",
       "    <tr>\n",
       "      <th>20201204</th>\n",
       "      <td>NaN</td>\n",
       "      <td>0.015</td>\n",
       "      <td>0.03</td>\n",
       "      <td>0.0100</td>\n",
       "    </tr>\n",
       "  </tbody>\n",
       "</table>\n",
       "</div>"
      ]
     },
     "execution_count": 20,
     "metadata": {},
     "output_type": "execute_result"
    }
   ],
   "execution_count": 20
  },
  {
   "metadata": {
    "ExecuteTime": {
     "end_time": "2025-09-14T00:50:21.254783Z",
     "start_time": "2025-09-14T00:50:21.244567Z"
    }
   },
   "cell_type": "code",
   "source": "df.fillna(0)",
   "id": "f791c06224bde124",
   "outputs": [
    {
     "data": {
      "text/plain": [
       "          AAPL   MSFT  TSLA    LULU\n",
       "20201201   0.0  0.030  0.05  0.0050\n",
       "20201202   0.0  0.000 -0.05 -0.0025\n",
       "20201203   0.0  0.000  0.00  0.0000\n",
       "20201204   0.0  0.015  0.03  0.0100"
      ],
      "text/html": [
       "<div>\n",
       "<style scoped>\n",
       "    .dataframe tbody tr th:only-of-type {\n",
       "        vertical-align: middle;\n",
       "    }\n",
       "\n",
       "    .dataframe tbody tr th {\n",
       "        vertical-align: top;\n",
       "    }\n",
       "\n",
       "    .dataframe thead th {\n",
       "        text-align: right;\n",
       "    }\n",
       "</style>\n",
       "<table border=\"1\" class=\"dataframe\">\n",
       "  <thead>\n",
       "    <tr style=\"text-align: right;\">\n",
       "      <th></th>\n",
       "      <th>AAPL</th>\n",
       "      <th>MSFT</th>\n",
       "      <th>TSLA</th>\n",
       "      <th>LULU</th>\n",
       "    </tr>\n",
       "  </thead>\n",
       "  <tbody>\n",
       "    <tr>\n",
       "      <th>20201201</th>\n",
       "      <td>0.0</td>\n",
       "      <td>0.030</td>\n",
       "      <td>0.05</td>\n",
       "      <td>0.0050</td>\n",
       "    </tr>\n",
       "    <tr>\n",
       "      <th>20201202</th>\n",
       "      <td>0.0</td>\n",
       "      <td>0.000</td>\n",
       "      <td>-0.05</td>\n",
       "      <td>-0.0025</td>\n",
       "    </tr>\n",
       "    <tr>\n",
       "      <th>20201203</th>\n",
       "      <td>0.0</td>\n",
       "      <td>0.000</td>\n",
       "      <td>0.00</td>\n",
       "      <td>0.0000</td>\n",
       "    </tr>\n",
       "    <tr>\n",
       "      <th>20201204</th>\n",
       "      <td>0.0</td>\n",
       "      <td>0.015</td>\n",
       "      <td>0.03</td>\n",
       "      <td>0.0100</td>\n",
       "    </tr>\n",
       "  </tbody>\n",
       "</table>\n",
       "</div>"
      ]
     },
     "execution_count": 21,
     "metadata": {},
     "output_type": "execute_result"
    }
   ],
   "execution_count": 21
  },
  {
   "metadata": {
    "ExecuteTime": {
     "end_time": "2025-09-14T00:51:02.297105Z",
     "start_time": "2025-09-14T00:51:02.285752Z"
    }
   },
   "cell_type": "code",
   "source": "df.fillna({'AAPL':0.08,'MSFT':0.08,'TSLA':0.08,'LULU':0.08})",
   "id": "f2fd8709ff1c4941",
   "outputs": [
    {
     "data": {
      "text/plain": [
       "          AAPL   MSFT  TSLA    LULU\n",
       "20201201  0.08  0.030  0.05  0.0050\n",
       "20201202  0.08  0.080 -0.05 -0.0025\n",
       "20201203  0.08  0.080  0.08  0.0800\n",
       "20201204  0.08  0.015  0.03  0.0100"
      ],
      "text/html": [
       "<div>\n",
       "<style scoped>\n",
       "    .dataframe tbody tr th:only-of-type {\n",
       "        vertical-align: middle;\n",
       "    }\n",
       "\n",
       "    .dataframe tbody tr th {\n",
       "        vertical-align: top;\n",
       "    }\n",
       "\n",
       "    .dataframe thead th {\n",
       "        text-align: right;\n",
       "    }\n",
       "</style>\n",
       "<table border=\"1\" class=\"dataframe\">\n",
       "  <thead>\n",
       "    <tr style=\"text-align: right;\">\n",
       "      <th></th>\n",
       "      <th>AAPL</th>\n",
       "      <th>MSFT</th>\n",
       "      <th>TSLA</th>\n",
       "      <th>LULU</th>\n",
       "    </tr>\n",
       "  </thead>\n",
       "  <tbody>\n",
       "    <tr>\n",
       "      <th>20201201</th>\n",
       "      <td>0.08</td>\n",
       "      <td>0.030</td>\n",
       "      <td>0.05</td>\n",
       "      <td>0.0050</td>\n",
       "    </tr>\n",
       "    <tr>\n",
       "      <th>20201202</th>\n",
       "      <td>0.08</td>\n",
       "      <td>0.080</td>\n",
       "      <td>-0.05</td>\n",
       "      <td>-0.0025</td>\n",
       "    </tr>\n",
       "    <tr>\n",
       "      <th>20201203</th>\n",
       "      <td>0.08</td>\n",
       "      <td>0.080</td>\n",
       "      <td>0.08</td>\n",
       "      <td>0.0800</td>\n",
       "    </tr>\n",
       "    <tr>\n",
       "      <th>20201204</th>\n",
       "      <td>0.08</td>\n",
       "      <td>0.015</td>\n",
       "      <td>0.03</td>\n",
       "      <td>0.0100</td>\n",
       "    </tr>\n",
       "  </tbody>\n",
       "</table>\n",
       "</div>"
      ]
     },
     "execution_count": 22,
     "metadata": {},
     "output_type": "execute_result"
    }
   ],
   "execution_count": 22
  },
  {
   "metadata": {
    "ExecuteTime": {
     "end_time": "2025-09-14T00:51:34.607478Z",
     "start_time": "2025-09-14T00:51:34.598873Z"
    }
   },
   "cell_type": "code",
   "source": [
    "avg = df.mean()\n",
    "avg"
   ],
   "id": "725cf80b02978316",
   "outputs": [
    {
     "data": {
      "text/plain": [
       "AAPL         NaN\n",
       "MSFT    0.022500\n",
       "TSLA    0.010000\n",
       "LULU    0.004167\n",
       "dtype: float64"
      ]
     },
     "execution_count": 24,
     "metadata": {},
     "output_type": "execute_result"
    }
   ],
   "execution_count": 24
  },
  {
   "metadata": {
    "ExecuteTime": {
     "end_time": "2025-09-14T00:51:44.724088Z",
     "start_time": "2025-09-14T00:51:44.712291Z"
    }
   },
   "cell_type": "code",
   "source": "df.fillna(avg)",
   "id": "c984a04726a19f97",
   "outputs": [
    {
     "data": {
      "text/plain": [
       "          AAPL    MSFT  TSLA      LULU\n",
       "20201201   NaN  0.0300  0.05  0.005000\n",
       "20201202   NaN  0.0225 -0.05 -0.002500\n",
       "20201203   NaN  0.0225  0.01  0.004167\n",
       "20201204   NaN  0.0150  0.03  0.010000"
      ],
      "text/html": [
       "<div>\n",
       "<style scoped>\n",
       "    .dataframe tbody tr th:only-of-type {\n",
       "        vertical-align: middle;\n",
       "    }\n",
       "\n",
       "    .dataframe tbody tr th {\n",
       "        vertical-align: top;\n",
       "    }\n",
       "\n",
       "    .dataframe thead th {\n",
       "        text-align: right;\n",
       "    }\n",
       "</style>\n",
       "<table border=\"1\" class=\"dataframe\">\n",
       "  <thead>\n",
       "    <tr style=\"text-align: right;\">\n",
       "      <th></th>\n",
       "      <th>AAPL</th>\n",
       "      <th>MSFT</th>\n",
       "      <th>TSLA</th>\n",
       "      <th>LULU</th>\n",
       "    </tr>\n",
       "  </thead>\n",
       "  <tbody>\n",
       "    <tr>\n",
       "      <th>20201201</th>\n",
       "      <td>NaN</td>\n",
       "      <td>0.0300</td>\n",
       "      <td>0.05</td>\n",
       "      <td>0.005000</td>\n",
       "    </tr>\n",
       "    <tr>\n",
       "      <th>20201202</th>\n",
       "      <td>NaN</td>\n",
       "      <td>0.0225</td>\n",
       "      <td>-0.05</td>\n",
       "      <td>-0.002500</td>\n",
       "    </tr>\n",
       "    <tr>\n",
       "      <th>20201203</th>\n",
       "      <td>NaN</td>\n",
       "      <td>0.0225</td>\n",
       "      <td>0.01</td>\n",
       "      <td>0.004167</td>\n",
       "    </tr>\n",
       "    <tr>\n",
       "      <th>20201204</th>\n",
       "      <td>NaN</td>\n",
       "      <td>0.0150</td>\n",
       "      <td>0.03</td>\n",
       "      <td>0.010000</td>\n",
       "    </tr>\n",
       "  </tbody>\n",
       "</table>\n",
       "</div>"
      ]
     },
     "execution_count": 25,
     "metadata": {},
     "output_type": "execute_result"
    }
   ],
   "execution_count": 25
  },
  {
   "metadata": {
    "ExecuteTime": {
     "end_time": "2025-09-14T00:52:19.867595Z",
     "start_time": "2025-09-14T00:52:19.840147Z"
    }
   },
   "cell_type": "code",
   "source": "df.fillna(method='ffill', limit = 1)",
   "id": "f148621a97700019",
   "outputs": [
    {
     "name": "stderr",
     "output_type": "stream",
     "text": [
      "C:\\Users\\vansh\\AppData\\Local\\Temp\\ipykernel_152\\3749316404.py:1: FutureWarning: DataFrame.fillna with 'method' is deprecated and will raise in a future version. Use obj.ffill() or obj.bfill() instead.\n",
      "  df.fillna(method='ffill', limit = 1)\n"
     ]
    },
    {
     "data": {
      "text/plain": [
       "          AAPL   MSFT  TSLA    LULU\n",
       "20201201   NaN  0.030  0.05  0.0050\n",
       "20201202   NaN  0.030 -0.05 -0.0025\n",
       "20201203   NaN    NaN -0.05 -0.0025\n",
       "20201204   NaN  0.015  0.03  0.0100"
      ],
      "text/html": [
       "<div>\n",
       "<style scoped>\n",
       "    .dataframe tbody tr th:only-of-type {\n",
       "        vertical-align: middle;\n",
       "    }\n",
       "\n",
       "    .dataframe tbody tr th {\n",
       "        vertical-align: top;\n",
       "    }\n",
       "\n",
       "    .dataframe thead th {\n",
       "        text-align: right;\n",
       "    }\n",
       "</style>\n",
       "<table border=\"1\" class=\"dataframe\">\n",
       "  <thead>\n",
       "    <tr style=\"text-align: right;\">\n",
       "      <th></th>\n",
       "      <th>AAPL</th>\n",
       "      <th>MSFT</th>\n",
       "      <th>TSLA</th>\n",
       "      <th>LULU</th>\n",
       "    </tr>\n",
       "  </thead>\n",
       "  <tbody>\n",
       "    <tr>\n",
       "      <th>20201201</th>\n",
       "      <td>NaN</td>\n",
       "      <td>0.030</td>\n",
       "      <td>0.05</td>\n",
       "      <td>0.0050</td>\n",
       "    </tr>\n",
       "    <tr>\n",
       "      <th>20201202</th>\n",
       "      <td>NaN</td>\n",
       "      <td>0.030</td>\n",
       "      <td>-0.05</td>\n",
       "      <td>-0.0025</td>\n",
       "    </tr>\n",
       "    <tr>\n",
       "      <th>20201203</th>\n",
       "      <td>NaN</td>\n",
       "      <td>NaN</td>\n",
       "      <td>-0.05</td>\n",
       "      <td>-0.0025</td>\n",
       "    </tr>\n",
       "    <tr>\n",
       "      <th>20201204</th>\n",
       "      <td>NaN</td>\n",
       "      <td>0.015</td>\n",
       "      <td>0.03</td>\n",
       "      <td>0.0100</td>\n",
       "    </tr>\n",
       "  </tbody>\n",
       "</table>\n",
       "</div>"
      ]
     },
     "execution_count": 26,
     "metadata": {},
     "output_type": "execute_result"
    }
   ],
   "execution_count": 26
  },
  {
   "metadata": {},
   "cell_type": "markdown",
   "source": "Pandas functions Auto Exclude NaN",
   "id": "1d4d5516d0f4c2c4"
  },
  {
   "metadata": {
    "ExecuteTime": {
     "end_time": "2025-09-14T00:53:19.052575Z",
     "start_time": "2025-09-14T00:53:19.043504Z"
    }
   },
   "cell_type": "code",
   "source": "df.mean()",
   "id": "2681ef82937452f1",
   "outputs": [
    {
     "data": {
      "text/plain": [
       "AAPL         NaN\n",
       "MSFT    0.022500\n",
       "TSLA    0.010000\n",
       "LULU    0.004167\n",
       "dtype: float64"
      ]
     },
     "execution_count": 27,
     "metadata": {},
     "output_type": "execute_result"
    }
   ],
   "execution_count": 27
  },
  {
   "metadata": {
    "ExecuteTime": {
     "end_time": "2025-09-14T00:54:08.135574Z",
     "start_time": "2025-09-14T00:54:08.127714Z"
    }
   },
   "cell_type": "code",
   "source": [
    "#only use non-NaN values\n",
    "df.fillna(0).sum()/df.count()"
   ],
   "id": "76eaf4cee165de86",
   "outputs": [
    {
     "data": {
      "text/plain": [
       "AAPL         NaN\n",
       "MSFT    0.022500\n",
       "TSLA    0.010000\n",
       "LULU    0.004167\n",
       "dtype: float64"
      ]
     },
     "execution_count": 28,
     "metadata": {},
     "output_type": "execute_result"
    }
   ],
   "execution_count": 28
  },
  {
   "metadata": {
    "ExecuteTime": {
     "end_time": "2025-09-14T00:54:28.230682Z",
     "start_time": "2025-09-14T00:54:28.222175Z"
    }
   },
   "cell_type": "code",
   "source": "np.mean(df.values,1)",
   "id": "dd15b79d80d9fbc0",
   "outputs": [
    {
     "data": {
      "text/plain": [
       "array([nan, nan, nan, nan])"
      ]
     },
     "execution_count": 29,
     "metadata": {},
     "output_type": "execute_result"
    }
   ],
   "execution_count": 29
  },
  {
   "metadata": {
    "ExecuteTime": {
     "end_time": "2025-09-14T00:54:34.617435Z",
     "start_time": "2025-09-14T00:54:34.607584Z"
    }
   },
   "cell_type": "code",
   "source": "df.rank()",
   "id": "b00b1308555200af",
   "outputs": [
    {
     "data": {
      "text/plain": [
       "          AAPL  MSFT  TSLA  LULU\n",
       "20201201   NaN   2.0   3.0   2.0\n",
       "20201202   NaN   NaN   1.0   1.0\n",
       "20201203   NaN   NaN   NaN   NaN\n",
       "20201204   NaN   1.0   2.0   3.0"
      ],
      "text/html": [
       "<div>\n",
       "<style scoped>\n",
       "    .dataframe tbody tr th:only-of-type {\n",
       "        vertical-align: middle;\n",
       "    }\n",
       "\n",
       "    .dataframe tbody tr th {\n",
       "        vertical-align: top;\n",
       "    }\n",
       "\n",
       "    .dataframe thead th {\n",
       "        text-align: right;\n",
       "    }\n",
       "</style>\n",
       "<table border=\"1\" class=\"dataframe\">\n",
       "  <thead>\n",
       "    <tr style=\"text-align: right;\">\n",
       "      <th></th>\n",
       "      <th>AAPL</th>\n",
       "      <th>MSFT</th>\n",
       "      <th>TSLA</th>\n",
       "      <th>LULU</th>\n",
       "    </tr>\n",
       "  </thead>\n",
       "  <tbody>\n",
       "    <tr>\n",
       "      <th>20201201</th>\n",
       "      <td>NaN</td>\n",
       "      <td>2.0</td>\n",
       "      <td>3.0</td>\n",
       "      <td>2.0</td>\n",
       "    </tr>\n",
       "    <tr>\n",
       "      <th>20201202</th>\n",
       "      <td>NaN</td>\n",
       "      <td>NaN</td>\n",
       "      <td>1.0</td>\n",
       "      <td>1.0</td>\n",
       "    </tr>\n",
       "    <tr>\n",
       "      <th>20201203</th>\n",
       "      <td>NaN</td>\n",
       "      <td>NaN</td>\n",
       "      <td>NaN</td>\n",
       "      <td>NaN</td>\n",
       "    </tr>\n",
       "    <tr>\n",
       "      <th>20201204</th>\n",
       "      <td>NaN</td>\n",
       "      <td>1.0</td>\n",
       "      <td>2.0</td>\n",
       "      <td>3.0</td>\n",
       "    </tr>\n",
       "  </tbody>\n",
       "</table>\n",
       "</div>"
      ]
     },
     "execution_count": 30,
     "metadata": {},
     "output_type": "execute_result"
    }
   ],
   "execution_count": 30
  }
 ],
 "metadata": {
  "kernelspec": {
   "display_name": "Python 3",
   "language": "python",
   "name": "python3"
  },
  "language_info": {
   "codemirror_mode": {
    "name": "ipython",
    "version": 2
   },
   "file_extension": ".py",
   "mimetype": "text/x-python",
   "name": "python",
   "nbconvert_exporter": "python",
   "pygments_lexer": "ipython2",
   "version": "2.7.6"
  }
 },
 "nbformat": 4,
 "nbformat_minor": 5
}
