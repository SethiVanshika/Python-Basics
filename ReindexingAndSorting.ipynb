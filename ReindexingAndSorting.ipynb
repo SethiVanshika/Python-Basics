{
 "cells": [
  {
   "metadata": {},
   "cell_type": "markdown",
   "source": [
    "ReIndexing\n",
    "1.Series\n",
    "2.DataFrame"
   ],
   "id": "bf8a8206224d75f4"
  },
  {
   "metadata": {
    "ExecuteTime": {
     "end_time": "2025-09-14T01:12:25.080206Z",
     "start_time": "2025-09-14T01:12:24.075274Z"
    }
   },
   "cell_type": "code",
   "source": [
    "import pandas as pd\n",
    "\n",
    "#series reindexing\n",
    "ser=pd.Series({'AAPL':-0.01, 'MSFT':-0.02,'TSLA':0.015})\n",
    "ser"
   ],
   "id": "e896c09c76848acd",
   "outputs": [
    {
     "data": {
      "text/plain": [
       "AAPL   -0.010\n",
       "MSFT   -0.020\n",
       "TSLA    0.015\n",
       "dtype: float64"
      ]
     },
     "execution_count": 1,
     "metadata": {},
     "output_type": "execute_result"
    }
   ],
   "execution_count": 1
  },
  {
   "metadata": {
    "ExecuteTime": {
     "end_time": "2025-09-14T01:14:03.596241Z",
     "start_time": "2025-09-14T01:14:03.577008Z"
    }
   },
   "cell_type": "code",
   "source": [
    "#re-order existing index and add new ticker\n",
    "ser.reindex(['TSLA','MSFT','AAPL'])"
   ],
   "id": "82950ac278835ba7",
   "outputs": [
    {
     "data": {
      "text/plain": [
       "TSLA    0.015\n",
       "MSFT   -0.020\n",
       "AAPL   -0.010\n",
       "dtype: float64"
      ]
     },
     "execution_count": 2,
     "metadata": {},
     "output_type": "execute_result"
    }
   ],
   "execution_count": 2
  },
  {
   "metadata": {},
   "cell_type": "code",
   "outputs": [],
   "execution_count": null,
   "source": [
    "# standard series retrieval doesnot let you pass new items\n",
    "ser[['TSLA','LULU','AAPL','MSFT']]"
   ],
   "id": "5c20ae7b3fcd6c0a"
  },
  {
   "metadata": {
    "ExecuteTime": {
     "end_time": "2025-09-14T01:19:14.950580Z",
     "start_time": "2025-09-14T01:19:14.942274Z"
    }
   },
   "cell_type": "code",
   "source": [
    "#However, you can re-order existing entries using standard series retrieval\n",
    "ser[['TSLA','AAPL','MSFT']]"
   ],
   "id": "76fdaa59660d2eda",
   "outputs": [
    {
     "data": {
      "text/plain": [
       "TSLA    0.015\n",
       "AAPL   -0.010\n",
       "MSFT   -0.020\n",
       "dtype: float64"
      ]
     },
     "execution_count": 5,
     "metadata": {},
     "output_type": "execute_result"
    }
   ],
   "execution_count": 5
  },
  {
   "metadata": {
    "ExecuteTime": {
     "end_time": "2025-09-14T01:19:51.992121Z",
     "start_time": "2025-09-14T01:19:51.984357Z"
    }
   },
   "cell_type": "code",
   "source": [
    "#If you want to exclude entries, use drop\n",
    "ser.drop('TSLA')"
   ],
   "id": "d706207e686b3b5c",
   "outputs": [
    {
     "data": {
      "text/plain": [
       "AAPL   -0.01\n",
       "MSFT   -0.02\n",
       "dtype: float64"
      ]
     },
     "execution_count": 6,
     "metadata": {},
     "output_type": "execute_result"
    }
   ],
   "execution_count": 6
  },
  {
   "metadata": {
    "ExecuteTime": {
     "end_time": "2025-09-14T01:22:43.556458Z",
     "start_time": "2025-09-14T01:22:43.533941Z"
    }
   },
   "cell_type": "code",
   "source": [
    "#DataFrame Reindexing\n",
    "data = {'AAPL':[-0.01,0.015,-0.025,-0.03],\n",
    "        'MSFT':[-0.03,0.005,-0.0015,0.015],\n",
    "        'TSLA':[0.05,-0.05,-0.3,0.02]}\n",
    "\n",
    "index = ['20201201','20201202','20201203','20201204']\n",
    "df=pd.DataFrame(data,index=index)\n",
    "df"
   ],
   "id": "1c1ba9baf6b6aef6",
   "outputs": [
    {
     "data": {
      "text/plain": [
       "           AAPL    MSFT  TSLA\n",
       "20201201 -0.010 -0.0300  0.05\n",
       "20201202  0.015  0.0050 -0.05\n",
       "20201203 -0.025 -0.0015 -0.30\n",
       "20201204 -0.030  0.0150  0.02"
      ],
      "text/html": [
       "<div>\n",
       "<style scoped>\n",
       "    .dataframe tbody tr th:only-of-type {\n",
       "        vertical-align: middle;\n",
       "    }\n",
       "\n",
       "    .dataframe tbody tr th {\n",
       "        vertical-align: top;\n",
       "    }\n",
       "\n",
       "    .dataframe thead th {\n",
       "        text-align: right;\n",
       "    }\n",
       "</style>\n",
       "<table border=\"1\" class=\"dataframe\">\n",
       "  <thead>\n",
       "    <tr style=\"text-align: right;\">\n",
       "      <th></th>\n",
       "      <th>AAPL</th>\n",
       "      <th>MSFT</th>\n",
       "      <th>TSLA</th>\n",
       "    </tr>\n",
       "  </thead>\n",
       "  <tbody>\n",
       "    <tr>\n",
       "      <th>20201201</th>\n",
       "      <td>-0.010</td>\n",
       "      <td>-0.0300</td>\n",
       "      <td>0.05</td>\n",
       "    </tr>\n",
       "    <tr>\n",
       "      <th>20201202</th>\n",
       "      <td>0.015</td>\n",
       "      <td>0.0050</td>\n",
       "      <td>-0.05</td>\n",
       "    </tr>\n",
       "    <tr>\n",
       "      <th>20201203</th>\n",
       "      <td>-0.025</td>\n",
       "      <td>-0.0015</td>\n",
       "      <td>-0.30</td>\n",
       "    </tr>\n",
       "    <tr>\n",
       "      <th>20201204</th>\n",
       "      <td>-0.030</td>\n",
       "      <td>0.0150</td>\n",
       "      <td>0.02</td>\n",
       "    </tr>\n",
       "  </tbody>\n",
       "</table>\n",
       "</div>"
      ]
     },
     "execution_count": 7,
     "metadata": {},
     "output_type": "execute_result"
    }
   ],
   "execution_count": 7
  },
  {
   "metadata": {
    "ExecuteTime": {
     "end_time": "2025-09-14T01:23:28.384820Z",
     "start_time": "2025-09-14T01:23:28.373283Z"
    }
   },
   "cell_type": "code",
   "source": [
    "new_index = ['20201205','20201206','20201207','20201208']\n",
    "df.reindex(new_index)"
   ],
   "id": "975fce6751acdb4a",
   "outputs": [
    {
     "data": {
      "text/plain": [
       "          AAPL  MSFT  TSLA\n",
       "20201205   NaN   NaN   NaN\n",
       "20201206   NaN   NaN   NaN\n",
       "20201207   NaN   NaN   NaN\n",
       "20201208   NaN   NaN   NaN"
      ],
      "text/html": [
       "<div>\n",
       "<style scoped>\n",
       "    .dataframe tbody tr th:only-of-type {\n",
       "        vertical-align: middle;\n",
       "    }\n",
       "\n",
       "    .dataframe tbody tr th {\n",
       "        vertical-align: top;\n",
       "    }\n",
       "\n",
       "    .dataframe thead th {\n",
       "        text-align: right;\n",
       "    }\n",
       "</style>\n",
       "<table border=\"1\" class=\"dataframe\">\n",
       "  <thead>\n",
       "    <tr style=\"text-align: right;\">\n",
       "      <th></th>\n",
       "      <th>AAPL</th>\n",
       "      <th>MSFT</th>\n",
       "      <th>TSLA</th>\n",
       "    </tr>\n",
       "  </thead>\n",
       "  <tbody>\n",
       "    <tr>\n",
       "      <th>20201205</th>\n",
       "      <td>NaN</td>\n",
       "      <td>NaN</td>\n",
       "      <td>NaN</td>\n",
       "    </tr>\n",
       "    <tr>\n",
       "      <th>20201206</th>\n",
       "      <td>NaN</td>\n",
       "      <td>NaN</td>\n",
       "      <td>NaN</td>\n",
       "    </tr>\n",
       "    <tr>\n",
       "      <th>20201207</th>\n",
       "      <td>NaN</td>\n",
       "      <td>NaN</td>\n",
       "      <td>NaN</td>\n",
       "    </tr>\n",
       "    <tr>\n",
       "      <th>20201208</th>\n",
       "      <td>NaN</td>\n",
       "      <td>NaN</td>\n",
       "      <td>NaN</td>\n",
       "    </tr>\n",
       "  </tbody>\n",
       "</table>\n",
       "</div>"
      ]
     },
     "execution_count": 8,
     "metadata": {},
     "output_type": "execute_result"
    }
   ],
   "execution_count": 8
  },
  {
   "metadata": {
    "ExecuteTime": {
     "end_time": "2025-09-14T01:24:52.325788Z",
     "start_time": "2025-09-14T01:24:52.302252Z"
    }
   },
   "cell_type": "code",
   "source": [
    "new_columns=['TSLA','LULU','AAPL','MSFT']\n",
    "df.reindex(new_index, columns=new_columns)"
   ],
   "id": "94c14808dc80ee19",
   "outputs": [
    {
     "data": {
      "text/plain": [
       "          TSLA  LULU  AAPL  MSFT\n",
       "20201205   NaN   NaN   NaN   NaN\n",
       "20201206   NaN   NaN   NaN   NaN\n",
       "20201207   NaN   NaN   NaN   NaN\n",
       "20201208   NaN   NaN   NaN   NaN"
      ],
      "text/html": [
       "<div>\n",
       "<style scoped>\n",
       "    .dataframe tbody tr th:only-of-type {\n",
       "        vertical-align: middle;\n",
       "    }\n",
       "\n",
       "    .dataframe tbody tr th {\n",
       "        vertical-align: top;\n",
       "    }\n",
       "\n",
       "    .dataframe thead th {\n",
       "        text-align: right;\n",
       "    }\n",
       "</style>\n",
       "<table border=\"1\" class=\"dataframe\">\n",
       "  <thead>\n",
       "    <tr style=\"text-align: right;\">\n",
       "      <th></th>\n",
       "      <th>TSLA</th>\n",
       "      <th>LULU</th>\n",
       "      <th>AAPL</th>\n",
       "      <th>MSFT</th>\n",
       "    </tr>\n",
       "  </thead>\n",
       "  <tbody>\n",
       "    <tr>\n",
       "      <th>20201205</th>\n",
       "      <td>NaN</td>\n",
       "      <td>NaN</td>\n",
       "      <td>NaN</td>\n",
       "      <td>NaN</td>\n",
       "    </tr>\n",
       "    <tr>\n",
       "      <th>20201206</th>\n",
       "      <td>NaN</td>\n",
       "      <td>NaN</td>\n",
       "      <td>NaN</td>\n",
       "      <td>NaN</td>\n",
       "    </tr>\n",
       "    <tr>\n",
       "      <th>20201207</th>\n",
       "      <td>NaN</td>\n",
       "      <td>NaN</td>\n",
       "      <td>NaN</td>\n",
       "      <td>NaN</td>\n",
       "    </tr>\n",
       "    <tr>\n",
       "      <th>20201208</th>\n",
       "      <td>NaN</td>\n",
       "      <td>NaN</td>\n",
       "      <td>NaN</td>\n",
       "      <td>NaN</td>\n",
       "    </tr>\n",
       "  </tbody>\n",
       "</table>\n",
       "</div>"
      ]
     },
     "execution_count": 9,
     "metadata": {},
     "output_type": "execute_result"
    }
   ],
   "execution_count": 9
  },
  {
   "metadata": {},
   "cell_type": "code",
   "outputs": [],
   "execution_count": null,
   "source": [
    "#loc only allows you to reindex with existing entries\n",
    "df.loc[new_index,new_columns]"
   ],
   "id": "49901c0eefea26a1"
  },
  {
   "metadata": {
    "ExecuteTime": {
     "end_time": "2025-09-14T01:28:29.729814Z",
     "start_time": "2025-09-14T01:28:29.703035Z"
    }
   },
   "cell_type": "code",
   "source": [
    "df.loc[['20201204','20201203','20201202','20201201'],['TSLA','AAPL','MSFT']]\n",
    "df.reindex(new_index, columns=new_columns)"
   ],
   "id": "82e1c8d03372095f",
   "outputs": [
    {
     "data": {
      "text/plain": [
       "          TSLA  LULU  AAPL  MSFT\n",
       "20201205   NaN   NaN   NaN   NaN\n",
       "20201206   NaN   NaN   NaN   NaN\n",
       "20201207   NaN   NaN   NaN   NaN\n",
       "20201208   NaN   NaN   NaN   NaN"
      ],
      "text/html": [
       "<div>\n",
       "<style scoped>\n",
       "    .dataframe tbody tr th:only-of-type {\n",
       "        vertical-align: middle;\n",
       "    }\n",
       "\n",
       "    .dataframe tbody tr th {\n",
       "        vertical-align: top;\n",
       "    }\n",
       "\n",
       "    .dataframe thead th {\n",
       "        text-align: right;\n",
       "    }\n",
       "</style>\n",
       "<table border=\"1\" class=\"dataframe\">\n",
       "  <thead>\n",
       "    <tr style=\"text-align: right;\">\n",
       "      <th></th>\n",
       "      <th>TSLA</th>\n",
       "      <th>LULU</th>\n",
       "      <th>AAPL</th>\n",
       "      <th>MSFT</th>\n",
       "    </tr>\n",
       "  </thead>\n",
       "  <tbody>\n",
       "    <tr>\n",
       "      <th>20201205</th>\n",
       "      <td>NaN</td>\n",
       "      <td>NaN</td>\n",
       "      <td>NaN</td>\n",
       "      <td>NaN</td>\n",
       "    </tr>\n",
       "    <tr>\n",
       "      <th>20201206</th>\n",
       "      <td>NaN</td>\n",
       "      <td>NaN</td>\n",
       "      <td>NaN</td>\n",
       "      <td>NaN</td>\n",
       "    </tr>\n",
       "    <tr>\n",
       "      <th>20201207</th>\n",
       "      <td>NaN</td>\n",
       "      <td>NaN</td>\n",
       "      <td>NaN</td>\n",
       "      <td>NaN</td>\n",
       "    </tr>\n",
       "    <tr>\n",
       "      <th>20201208</th>\n",
       "      <td>NaN</td>\n",
       "      <td>NaN</td>\n",
       "      <td>NaN</td>\n",
       "      <td>NaN</td>\n",
       "    </tr>\n",
       "  </tbody>\n",
       "</table>\n",
       "</div>"
      ]
     },
     "execution_count": 13,
     "metadata": {},
     "output_type": "execute_result"
    }
   ],
   "execution_count": 13
  },
  {
   "metadata": {
    "ExecuteTime": {
     "end_time": "2025-09-14T01:28:54.832061Z",
     "start_time": "2025-09-14T01:28:54.823436Z"
    }
   },
   "cell_type": "code",
   "source": [
    "#Dropping\n",
    "df.drop('20201204')"
   ],
   "id": "1cccef5986a1d11b",
   "outputs": [
    {
     "data": {
      "text/plain": [
       "           AAPL    MSFT  TSLA\n",
       "20201201 -0.010 -0.0300  0.05\n",
       "20201202  0.015  0.0050 -0.05\n",
       "20201203 -0.025 -0.0015 -0.30"
      ],
      "text/html": [
       "<div>\n",
       "<style scoped>\n",
       "    .dataframe tbody tr th:only-of-type {\n",
       "        vertical-align: middle;\n",
       "    }\n",
       "\n",
       "    .dataframe tbody tr th {\n",
       "        vertical-align: top;\n",
       "    }\n",
       "\n",
       "    .dataframe thead th {\n",
       "        text-align: right;\n",
       "    }\n",
       "</style>\n",
       "<table border=\"1\" class=\"dataframe\">\n",
       "  <thead>\n",
       "    <tr style=\"text-align: right;\">\n",
       "      <th></th>\n",
       "      <th>AAPL</th>\n",
       "      <th>MSFT</th>\n",
       "      <th>TSLA</th>\n",
       "    </tr>\n",
       "  </thead>\n",
       "  <tbody>\n",
       "    <tr>\n",
       "      <th>20201201</th>\n",
       "      <td>-0.010</td>\n",
       "      <td>-0.0300</td>\n",
       "      <td>0.05</td>\n",
       "    </tr>\n",
       "    <tr>\n",
       "      <th>20201202</th>\n",
       "      <td>0.015</td>\n",
       "      <td>0.0050</td>\n",
       "      <td>-0.05</td>\n",
       "    </tr>\n",
       "    <tr>\n",
       "      <th>20201203</th>\n",
       "      <td>-0.025</td>\n",
       "      <td>-0.0015</td>\n",
       "      <td>-0.30</td>\n",
       "    </tr>\n",
       "  </tbody>\n",
       "</table>\n",
       "</div>"
      ]
     },
     "execution_count": 14,
     "metadata": {},
     "output_type": "execute_result"
    }
   ],
   "execution_count": 14
  },
  {
   "metadata": {
    "ExecuteTime": {
     "end_time": "2025-09-14T01:29:14.413684Z",
     "start_time": "2025-09-14T01:29:14.403329Z"
    }
   },
   "cell_type": "code",
   "source": "df.drop('TSLA',axis=1)",
   "id": "e039a6e6c49d77f0",
   "outputs": [
    {
     "data": {
      "text/plain": [
       "           AAPL    MSFT\n",
       "20201201 -0.010 -0.0300\n",
       "20201202  0.015  0.0050\n",
       "20201203 -0.025 -0.0015\n",
       "20201204 -0.030  0.0150"
      ],
      "text/html": [
       "<div>\n",
       "<style scoped>\n",
       "    .dataframe tbody tr th:only-of-type {\n",
       "        vertical-align: middle;\n",
       "    }\n",
       "\n",
       "    .dataframe tbody tr th {\n",
       "        vertical-align: top;\n",
       "    }\n",
       "\n",
       "    .dataframe thead th {\n",
       "        text-align: right;\n",
       "    }\n",
       "</style>\n",
       "<table border=\"1\" class=\"dataframe\">\n",
       "  <thead>\n",
       "    <tr style=\"text-align: right;\">\n",
       "      <th></th>\n",
       "      <th>AAPL</th>\n",
       "      <th>MSFT</th>\n",
       "    </tr>\n",
       "  </thead>\n",
       "  <tbody>\n",
       "    <tr>\n",
       "      <th>20201201</th>\n",
       "      <td>-0.010</td>\n",
       "      <td>-0.0300</td>\n",
       "    </tr>\n",
       "    <tr>\n",
       "      <th>20201202</th>\n",
       "      <td>0.015</td>\n",
       "      <td>0.0050</td>\n",
       "    </tr>\n",
       "    <tr>\n",
       "      <th>20201203</th>\n",
       "      <td>-0.025</td>\n",
       "      <td>-0.0015</td>\n",
       "    </tr>\n",
       "    <tr>\n",
       "      <th>20201204</th>\n",
       "      <td>-0.030</td>\n",
       "      <td>0.0150</td>\n",
       "    </tr>\n",
       "  </tbody>\n",
       "</table>\n",
       "</div>"
      ]
     },
     "execution_count": 15,
     "metadata": {},
     "output_type": "execute_result"
    }
   ],
   "execution_count": 15
  },
  {
   "metadata": {},
   "cell_type": "markdown",
   "source": [
    "Sorting\n",
    "1. Series\n",
    "2. DataFrame"
   ],
   "id": "8a6bfcfe626ba0a0"
  },
  {
   "metadata": {
    "ExecuteTime": {
     "end_time": "2025-09-14T01:31:53.868674Z",
     "start_time": "2025-09-14T01:31:53.859406Z"
    }
   },
   "cell_type": "code",
   "source": [
    "#series sorting\n",
    "ser=pd.Series([-0.01,0.02,-0.05,-0.02],index=['20201203','20201202','20201204','20201201'])\n",
    "ser"
   ],
   "id": "7aec626511be014f",
   "outputs": [
    {
     "data": {
      "text/plain": [
       "20201203   -0.01\n",
       "20201202    0.02\n",
       "20201204   -0.05\n",
       "20201201   -0.02\n",
       "dtype: float64"
      ]
     },
     "execution_count": 16,
     "metadata": {},
     "output_type": "execute_result"
    }
   ],
   "execution_count": 16
  },
  {
   "metadata": {
    "ExecuteTime": {
     "end_time": "2025-09-14T01:32:17.182607Z",
     "start_time": "2025-09-14T01:32:17.174696Z"
    }
   },
   "cell_type": "code",
   "source": "ser.sort_index()",
   "id": "30748c49bb008b",
   "outputs": [
    {
     "data": {
      "text/plain": [
       "20201201   -0.02\n",
       "20201202    0.02\n",
       "20201203   -0.01\n",
       "20201204   -0.05\n",
       "dtype: float64"
      ]
     },
     "execution_count": 17,
     "metadata": {},
     "output_type": "execute_result"
    }
   ],
   "execution_count": 17
  },
  {
   "metadata": {
    "ExecuteTime": {
     "end_time": "2025-09-14T01:32:31.048372Z",
     "start_time": "2025-09-14T01:32:31.025691Z"
    }
   },
   "cell_type": "code",
   "source": "ser.sort_values()",
   "id": "8eaec2498c699676",
   "outputs": [
    {
     "data": {
      "text/plain": [
       "20201204   -0.05\n",
       "20201201   -0.02\n",
       "20201203   -0.01\n",
       "20201202    0.02\n",
       "dtype: float64"
      ]
     },
     "execution_count": 18,
     "metadata": {},
     "output_type": "execute_result"
    }
   ],
   "execution_count": 18
  },
  {
   "metadata": {
    "ExecuteTime": {
     "end_time": "2025-09-14T01:33:32.063876Z",
     "start_time": "2025-09-14T01:33:32.053959Z"
    }
   },
   "cell_type": "code",
   "source": [
    "#DataFrame Reindexing\n",
    "data = {'AAPL':[-0.01,0.02,-0.05,-0.02],\n",
    "        'MSFT':[-0.03,0.005,-0.0015,0.015],\n",
    "        'TSLA':[0.05,-0.05,-0.3,0.02]}\n",
    "index = ['20201203','20201202','20201204','20201201']\n",
    "df=pd.DataFrame(data,index=index)\n",
    "df"
   ],
   "id": "14d99f8b66706bfe",
   "outputs": [
    {
     "data": {
      "text/plain": [
       "          AAPL    MSFT  TSLA\n",
       "20201203 -0.01 -0.0300  0.05\n",
       "20201202  0.02  0.0050 -0.05\n",
       "20201204 -0.05 -0.0015 -0.30\n",
       "20201201 -0.02  0.0150  0.02"
      ],
      "text/html": [
       "<div>\n",
       "<style scoped>\n",
       "    .dataframe tbody tr th:only-of-type {\n",
       "        vertical-align: middle;\n",
       "    }\n",
       "\n",
       "    .dataframe tbody tr th {\n",
       "        vertical-align: top;\n",
       "    }\n",
       "\n",
       "    .dataframe thead th {\n",
       "        text-align: right;\n",
       "    }\n",
       "</style>\n",
       "<table border=\"1\" class=\"dataframe\">\n",
       "  <thead>\n",
       "    <tr style=\"text-align: right;\">\n",
       "      <th></th>\n",
       "      <th>AAPL</th>\n",
       "      <th>MSFT</th>\n",
       "      <th>TSLA</th>\n",
       "    </tr>\n",
       "  </thead>\n",
       "  <tbody>\n",
       "    <tr>\n",
       "      <th>20201203</th>\n",
       "      <td>-0.01</td>\n",
       "      <td>-0.0300</td>\n",
       "      <td>0.05</td>\n",
       "    </tr>\n",
       "    <tr>\n",
       "      <th>20201202</th>\n",
       "      <td>0.02</td>\n",
       "      <td>0.0050</td>\n",
       "      <td>-0.05</td>\n",
       "    </tr>\n",
       "    <tr>\n",
       "      <th>20201204</th>\n",
       "      <td>-0.05</td>\n",
       "      <td>-0.0015</td>\n",
       "      <td>-0.30</td>\n",
       "    </tr>\n",
       "    <tr>\n",
       "      <th>20201201</th>\n",
       "      <td>-0.02</td>\n",
       "      <td>0.0150</td>\n",
       "      <td>0.02</td>\n",
       "    </tr>\n",
       "  </tbody>\n",
       "</table>\n",
       "</div>"
      ]
     },
     "execution_count": 19,
     "metadata": {},
     "output_type": "execute_result"
    }
   ],
   "execution_count": 19
  },
  {
   "metadata": {
    "ExecuteTime": {
     "end_time": "2025-09-14T01:33:45.018512Z",
     "start_time": "2025-09-14T01:33:45.006826Z"
    }
   },
   "cell_type": "code",
   "source": "df.sort_index()",
   "id": "9d6fcd6054a524d",
   "outputs": [
    {
     "data": {
      "text/plain": [
       "          AAPL    MSFT  TSLA\n",
       "20201201 -0.02  0.0150  0.02\n",
       "20201202  0.02  0.0050 -0.05\n",
       "20201203 -0.01 -0.0300  0.05\n",
       "20201204 -0.05 -0.0015 -0.30"
      ],
      "text/html": [
       "<div>\n",
       "<style scoped>\n",
       "    .dataframe tbody tr th:only-of-type {\n",
       "        vertical-align: middle;\n",
       "    }\n",
       "\n",
       "    .dataframe tbody tr th {\n",
       "        vertical-align: top;\n",
       "    }\n",
       "\n",
       "    .dataframe thead th {\n",
       "        text-align: right;\n",
       "    }\n",
       "</style>\n",
       "<table border=\"1\" class=\"dataframe\">\n",
       "  <thead>\n",
       "    <tr style=\"text-align: right;\">\n",
       "      <th></th>\n",
       "      <th>AAPL</th>\n",
       "      <th>MSFT</th>\n",
       "      <th>TSLA</th>\n",
       "    </tr>\n",
       "  </thead>\n",
       "  <tbody>\n",
       "    <tr>\n",
       "      <th>20201201</th>\n",
       "      <td>-0.02</td>\n",
       "      <td>0.0150</td>\n",
       "      <td>0.02</td>\n",
       "    </tr>\n",
       "    <tr>\n",
       "      <th>20201202</th>\n",
       "      <td>0.02</td>\n",
       "      <td>0.0050</td>\n",
       "      <td>-0.05</td>\n",
       "    </tr>\n",
       "    <tr>\n",
       "      <th>20201203</th>\n",
       "      <td>-0.01</td>\n",
       "      <td>-0.0300</td>\n",
       "      <td>0.05</td>\n",
       "    </tr>\n",
       "    <tr>\n",
       "      <th>20201204</th>\n",
       "      <td>-0.05</td>\n",
       "      <td>-0.0015</td>\n",
       "      <td>-0.30</td>\n",
       "    </tr>\n",
       "  </tbody>\n",
       "</table>\n",
       "</div>"
      ]
     },
     "execution_count": 20,
     "metadata": {},
     "output_type": "execute_result"
    }
   ],
   "execution_count": 20
  },
  {
   "metadata": {
    "ExecuteTime": {
     "end_time": "2025-09-14T01:34:46.209209Z",
     "start_time": "2025-09-14T01:34:46.201411Z"
    }
   },
   "cell_type": "code",
   "source": "ser.sort_index()",
   "id": "a1bb4c33fbfa5c76",
   "outputs": [
    {
     "data": {
      "text/plain": [
       "20201201   -0.02\n",
       "20201202    0.02\n",
       "20201203   -0.01\n",
       "20201204   -0.05\n",
       "dtype: float64"
      ]
     },
     "execution_count": 21,
     "metadata": {},
     "output_type": "execute_result"
    }
   ],
   "execution_count": 21
  },
  {
   "metadata": {
    "ExecuteTime": {
     "end_time": "2025-09-14T01:35:04.952294Z",
     "start_time": "2025-09-14T01:35:04.944807Z"
    }
   },
   "cell_type": "code",
   "source": "ser.sort_index(ascending=False)",
   "id": "7a2194e0eb9b469a",
   "outputs": [
    {
     "data": {
      "text/plain": [
       "20201204   -0.05\n",
       "20201203   -0.01\n",
       "20201202    0.02\n",
       "20201201   -0.02\n",
       "dtype: float64"
      ]
     },
     "execution_count": 22,
     "metadata": {},
     "output_type": "execute_result"
    }
   ],
   "execution_count": 22
  },
  {
   "metadata": {
    "ExecuteTime": {
     "end_time": "2025-09-14T01:35:20.573309Z",
     "start_time": "2025-09-14T01:35:20.564280Z"
    }
   },
   "cell_type": "code",
   "source": "ser.sort_values()",
   "id": "f4096a7f1230cae3",
   "outputs": [
    {
     "data": {
      "text/plain": [
       "20201204   -0.05\n",
       "20201201   -0.02\n",
       "20201203   -0.01\n",
       "20201202    0.02\n",
       "dtype: float64"
      ]
     },
     "execution_count": 23,
     "metadata": {},
     "output_type": "execute_result"
    }
   ],
   "execution_count": 23
  },
  {
   "metadata": {
    "ExecuteTime": {
     "end_time": "2025-09-14T01:36:48.141251Z",
     "start_time": "2025-09-14T01:36:48.128660Z"
    }
   },
   "cell_type": "code",
   "source": [
    "#DataFrame Reindexing\n",
    "data = {'AAPL':[-0.01,0.02,-0.05,-0.02],\n",
    "        'MSFT':[-0.03,0.005,-0.0015,0.015],\n",
    "        'TSLA':[0.05,-0.05,-0.3,0.02]}\n",
    "index = ['20201203','20201202','20201204','20201201']\n",
    "df=pd.DataFrame(data,index=index)\n",
    "df"
   ],
   "id": "87034bc13834cc3b",
   "outputs": [
    {
     "data": {
      "text/plain": [
       "          AAPL    MSFT  TSLA\n",
       "20201203 -0.01 -0.0300  0.05\n",
       "20201202  0.02  0.0050 -0.05\n",
       "20201204 -0.05 -0.0015 -0.30\n",
       "20201201 -0.02  0.0150  0.02"
      ],
      "text/html": [
       "<div>\n",
       "<style scoped>\n",
       "    .dataframe tbody tr th:only-of-type {\n",
       "        vertical-align: middle;\n",
       "    }\n",
       "\n",
       "    .dataframe tbody tr th {\n",
       "        vertical-align: top;\n",
       "    }\n",
       "\n",
       "    .dataframe thead th {\n",
       "        text-align: right;\n",
       "    }\n",
       "</style>\n",
       "<table border=\"1\" class=\"dataframe\">\n",
       "  <thead>\n",
       "    <tr style=\"text-align: right;\">\n",
       "      <th></th>\n",
       "      <th>AAPL</th>\n",
       "      <th>MSFT</th>\n",
       "      <th>TSLA</th>\n",
       "    </tr>\n",
       "  </thead>\n",
       "  <tbody>\n",
       "    <tr>\n",
       "      <th>20201203</th>\n",
       "      <td>-0.01</td>\n",
       "      <td>-0.0300</td>\n",
       "      <td>0.05</td>\n",
       "    </tr>\n",
       "    <tr>\n",
       "      <th>20201202</th>\n",
       "      <td>0.02</td>\n",
       "      <td>0.0050</td>\n",
       "      <td>-0.05</td>\n",
       "    </tr>\n",
       "    <tr>\n",
       "      <th>20201204</th>\n",
       "      <td>-0.05</td>\n",
       "      <td>-0.0015</td>\n",
       "      <td>-0.30</td>\n",
       "    </tr>\n",
       "    <tr>\n",
       "      <th>20201201</th>\n",
       "      <td>-0.02</td>\n",
       "      <td>0.0150</td>\n",
       "      <td>0.02</td>\n",
       "    </tr>\n",
       "  </tbody>\n",
       "</table>\n",
       "</div>"
      ]
     },
     "execution_count": 24,
     "metadata": {},
     "output_type": "execute_result"
    }
   ],
   "execution_count": 24
  },
  {
   "metadata": {
    "ExecuteTime": {
     "end_time": "2025-09-14T01:36:56.423019Z",
     "start_time": "2025-09-14T01:36:56.412477Z"
    }
   },
   "cell_type": "code",
   "source": "df.sort_index()",
   "id": "6e48244c4d0cc626",
   "outputs": [
    {
     "data": {
      "text/plain": [
       "          AAPL    MSFT  TSLA\n",
       "20201201 -0.02  0.0150  0.02\n",
       "20201202  0.02  0.0050 -0.05\n",
       "20201203 -0.01 -0.0300  0.05\n",
       "20201204 -0.05 -0.0015 -0.30"
      ],
      "text/html": [
       "<div>\n",
       "<style scoped>\n",
       "    .dataframe tbody tr th:only-of-type {\n",
       "        vertical-align: middle;\n",
       "    }\n",
       "\n",
       "    .dataframe tbody tr th {\n",
       "        vertical-align: top;\n",
       "    }\n",
       "\n",
       "    .dataframe thead th {\n",
       "        text-align: right;\n",
       "    }\n",
       "</style>\n",
       "<table border=\"1\" class=\"dataframe\">\n",
       "  <thead>\n",
       "    <tr style=\"text-align: right;\">\n",
       "      <th></th>\n",
       "      <th>AAPL</th>\n",
       "      <th>MSFT</th>\n",
       "      <th>TSLA</th>\n",
       "    </tr>\n",
       "  </thead>\n",
       "  <tbody>\n",
       "    <tr>\n",
       "      <th>20201201</th>\n",
       "      <td>-0.02</td>\n",
       "      <td>0.0150</td>\n",
       "      <td>0.02</td>\n",
       "    </tr>\n",
       "    <tr>\n",
       "      <th>20201202</th>\n",
       "      <td>0.02</td>\n",
       "      <td>0.0050</td>\n",
       "      <td>-0.05</td>\n",
       "    </tr>\n",
       "    <tr>\n",
       "      <th>20201203</th>\n",
       "      <td>-0.01</td>\n",
       "      <td>-0.0300</td>\n",
       "      <td>0.05</td>\n",
       "    </tr>\n",
       "    <tr>\n",
       "      <th>20201204</th>\n",
       "      <td>-0.05</td>\n",
       "      <td>-0.0015</td>\n",
       "      <td>-0.30</td>\n",
       "    </tr>\n",
       "  </tbody>\n",
       "</table>\n",
       "</div>"
      ]
     },
     "execution_count": 25,
     "metadata": {},
     "output_type": "execute_result"
    }
   ],
   "execution_count": 25
  },
  {
   "metadata": {
    "ExecuteTime": {
     "end_time": "2025-09-14T01:37:19.785234Z",
     "start_time": "2025-09-14T01:37:19.775927Z"
    }
   },
   "cell_type": "code",
   "source": "df.sort_index(axis=1)",
   "id": "ab68aa36bbae7654",
   "outputs": [
    {
     "data": {
      "text/plain": [
       "          AAPL    MSFT  TSLA\n",
       "20201203 -0.01 -0.0300  0.05\n",
       "20201202  0.02  0.0050 -0.05\n",
       "20201204 -0.05 -0.0015 -0.30\n",
       "20201201 -0.02  0.0150  0.02"
      ],
      "text/html": [
       "<div>\n",
       "<style scoped>\n",
       "    .dataframe tbody tr th:only-of-type {\n",
       "        vertical-align: middle;\n",
       "    }\n",
       "\n",
       "    .dataframe tbody tr th {\n",
       "        vertical-align: top;\n",
       "    }\n",
       "\n",
       "    .dataframe thead th {\n",
       "        text-align: right;\n",
       "    }\n",
       "</style>\n",
       "<table border=\"1\" class=\"dataframe\">\n",
       "  <thead>\n",
       "    <tr style=\"text-align: right;\">\n",
       "      <th></th>\n",
       "      <th>AAPL</th>\n",
       "      <th>MSFT</th>\n",
       "      <th>TSLA</th>\n",
       "    </tr>\n",
       "  </thead>\n",
       "  <tbody>\n",
       "    <tr>\n",
       "      <th>20201203</th>\n",
       "      <td>-0.01</td>\n",
       "      <td>-0.0300</td>\n",
       "      <td>0.05</td>\n",
       "    </tr>\n",
       "    <tr>\n",
       "      <th>20201202</th>\n",
       "      <td>0.02</td>\n",
       "      <td>0.0050</td>\n",
       "      <td>-0.05</td>\n",
       "    </tr>\n",
       "    <tr>\n",
       "      <th>20201204</th>\n",
       "      <td>-0.05</td>\n",
       "      <td>-0.0015</td>\n",
       "      <td>-0.30</td>\n",
       "    </tr>\n",
       "    <tr>\n",
       "      <th>20201201</th>\n",
       "      <td>-0.02</td>\n",
       "      <td>0.0150</td>\n",
       "      <td>0.02</td>\n",
       "    </tr>\n",
       "  </tbody>\n",
       "</table>\n",
       "</div>"
      ]
     },
     "execution_count": 26,
     "metadata": {},
     "output_type": "execute_result"
    }
   ],
   "execution_count": 26
  },
  {
   "metadata": {
    "ExecuteTime": {
     "end_time": "2025-09-14T01:37:35.330323Z",
     "start_time": "2025-09-14T01:37:35.318357Z"
    }
   },
   "cell_type": "code",
   "source": "df.sort_values('AAPL')",
   "id": "738d093447cf16e",
   "outputs": [
    {
     "data": {
      "text/plain": [
       "          AAPL    MSFT  TSLA\n",
       "20201204 -0.05 -0.0015 -0.30\n",
       "20201201 -0.02  0.0150  0.02\n",
       "20201203 -0.01 -0.0300  0.05\n",
       "20201202  0.02  0.0050 -0.05"
      ],
      "text/html": [
       "<div>\n",
       "<style scoped>\n",
       "    .dataframe tbody tr th:only-of-type {\n",
       "        vertical-align: middle;\n",
       "    }\n",
       "\n",
       "    .dataframe tbody tr th {\n",
       "        vertical-align: top;\n",
       "    }\n",
       "\n",
       "    .dataframe thead th {\n",
       "        text-align: right;\n",
       "    }\n",
       "</style>\n",
       "<table border=\"1\" class=\"dataframe\">\n",
       "  <thead>\n",
       "    <tr style=\"text-align: right;\">\n",
       "      <th></th>\n",
       "      <th>AAPL</th>\n",
       "      <th>MSFT</th>\n",
       "      <th>TSLA</th>\n",
       "    </tr>\n",
       "  </thead>\n",
       "  <tbody>\n",
       "    <tr>\n",
       "      <th>20201204</th>\n",
       "      <td>-0.05</td>\n",
       "      <td>-0.0015</td>\n",
       "      <td>-0.30</td>\n",
       "    </tr>\n",
       "    <tr>\n",
       "      <th>20201201</th>\n",
       "      <td>-0.02</td>\n",
       "      <td>0.0150</td>\n",
       "      <td>0.02</td>\n",
       "    </tr>\n",
       "    <tr>\n",
       "      <th>20201203</th>\n",
       "      <td>-0.01</td>\n",
       "      <td>-0.0300</td>\n",
       "      <td>0.05</td>\n",
       "    </tr>\n",
       "    <tr>\n",
       "      <th>20201202</th>\n",
       "      <td>0.02</td>\n",
       "      <td>0.0050</td>\n",
       "      <td>-0.05</td>\n",
       "    </tr>\n",
       "  </tbody>\n",
       "</table>\n",
       "</div>"
      ]
     },
     "execution_count": 27,
     "metadata": {},
     "output_type": "execute_result"
    }
   ],
   "execution_count": 27
  },
  {
   "metadata": {
    "ExecuteTime": {
     "end_time": "2025-09-14T01:38:54.225640Z",
     "start_time": "2025-09-14T01:38:54.214902Z"
    }
   },
   "cell_type": "code",
   "source": "df.sort_index(axis=1,ascending=False)",
   "id": "fd809f887e73c338",
   "outputs": [
    {
     "data": {
      "text/plain": [
       "          TSLA    MSFT  AAPL\n",
       "20201203  0.05 -0.0300 -0.01\n",
       "20201202 -0.05  0.0050  0.02\n",
       "20201204 -0.30 -0.0015 -0.05\n",
       "20201201  0.02  0.0150 -0.02"
      ],
      "text/html": [
       "<div>\n",
       "<style scoped>\n",
       "    .dataframe tbody tr th:only-of-type {\n",
       "        vertical-align: middle;\n",
       "    }\n",
       "\n",
       "    .dataframe tbody tr th {\n",
       "        vertical-align: top;\n",
       "    }\n",
       "\n",
       "    .dataframe thead th {\n",
       "        text-align: right;\n",
       "    }\n",
       "</style>\n",
       "<table border=\"1\" class=\"dataframe\">\n",
       "  <thead>\n",
       "    <tr style=\"text-align: right;\">\n",
       "      <th></th>\n",
       "      <th>TSLA</th>\n",
       "      <th>MSFT</th>\n",
       "      <th>AAPL</th>\n",
       "    </tr>\n",
       "  </thead>\n",
       "  <tbody>\n",
       "    <tr>\n",
       "      <th>20201203</th>\n",
       "      <td>0.05</td>\n",
       "      <td>-0.0300</td>\n",
       "      <td>-0.01</td>\n",
       "    </tr>\n",
       "    <tr>\n",
       "      <th>20201202</th>\n",
       "      <td>-0.05</td>\n",
       "      <td>0.0050</td>\n",
       "      <td>0.02</td>\n",
       "    </tr>\n",
       "    <tr>\n",
       "      <th>20201204</th>\n",
       "      <td>-0.30</td>\n",
       "      <td>-0.0015</td>\n",
       "      <td>-0.05</td>\n",
       "    </tr>\n",
       "    <tr>\n",
       "      <th>20201201</th>\n",
       "      <td>0.02</td>\n",
       "      <td>0.0150</td>\n",
       "      <td>-0.02</td>\n",
       "    </tr>\n",
       "  </tbody>\n",
       "</table>\n",
       "</div>"
      ]
     },
     "execution_count": 28,
     "metadata": {},
     "output_type": "execute_result"
    }
   ],
   "execution_count": 28
  }
 ],
 "metadata": {
  "kernelspec": {
   "display_name": "Python 3",
   "language": "python",
   "name": "python3"
  },
  "language_info": {
   "codemirror_mode": {
    "name": "ipython",
    "version": 2
   },
   "file_extension": ".py",
   "mimetype": "text/x-python",
   "name": "python",
   "nbconvert_exporter": "python",
   "pygments_lexer": "ipython2",
   "version": "2.7.6"
  }
 },
 "nbformat": 4,
 "nbformat_minor": 5
}
