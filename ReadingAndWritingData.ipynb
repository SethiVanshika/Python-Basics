{
 "cells": [
  {
   "metadata": {},
   "cell_type": "markdown",
   "source": [
    "Reading & Writing Data\n",
    "1. Write/Read CSV\n",
    "2. Write/Read Excel\n",
    "3. Write/read pickle files"
   ],
   "id": "57de8b9ddb8d213e"
  },
  {
   "metadata": {
    "ExecuteTime": {
     "end_time": "2025-09-16T01:24:29.678331Z",
     "start_time": "2025-09-16T01:24:29.636949Z"
    }
   },
   "cell_type": "code",
   "source": [
    "import pandas as pd\n",
    "\n",
    "index = ['20201201','20201202','20201203','20201204']\n",
    "columns = ['AAPL','MSFT','GOOG','AMZN']\n",
    "\n",
    "data = [[-0.01,0.03,0.05,0.005],\n",
    "        [0.015,0.005,-0.05,-0.0025],\n",
    "        [-0.025,0.0015,-0.03,0.01],\n",
    "        [-0.03,0.015,-0.03,0.01]]\n",
    "\n",
    "df = pd.DataFrame(data,index = index,columns = columns)\n",
    "df"
   ],
   "id": "e6a02b2ee0061040",
   "outputs": [
    {
     "data": {
      "text/plain": [
       "           AAPL    MSFT  GOOG    AMZN\n",
       "20201201 -0.010  0.0300  0.05  0.0050\n",
       "20201202  0.015  0.0050 -0.05 -0.0025\n",
       "20201203 -0.025  0.0015 -0.03  0.0100\n",
       "20201204 -0.030  0.0150 -0.03  0.0100"
      ],
      "text/html": [
       "<div>\n",
       "<style scoped>\n",
       "    .dataframe tbody tr th:only-of-type {\n",
       "        vertical-align: middle;\n",
       "    }\n",
       "\n",
       "    .dataframe tbody tr th {\n",
       "        vertical-align: top;\n",
       "    }\n",
       "\n",
       "    .dataframe thead th {\n",
       "        text-align: right;\n",
       "    }\n",
       "</style>\n",
       "<table border=\"1\" class=\"dataframe\">\n",
       "  <thead>\n",
       "    <tr style=\"text-align: right;\">\n",
       "      <th></th>\n",
       "      <th>AAPL</th>\n",
       "      <th>MSFT</th>\n",
       "      <th>GOOG</th>\n",
       "      <th>AMZN</th>\n",
       "    </tr>\n",
       "  </thead>\n",
       "  <tbody>\n",
       "    <tr>\n",
       "      <th>20201201</th>\n",
       "      <td>-0.010</td>\n",
       "      <td>0.0300</td>\n",
       "      <td>0.05</td>\n",
       "      <td>0.0050</td>\n",
       "    </tr>\n",
       "    <tr>\n",
       "      <th>20201202</th>\n",
       "      <td>0.015</td>\n",
       "      <td>0.0050</td>\n",
       "      <td>-0.05</td>\n",
       "      <td>-0.0025</td>\n",
       "    </tr>\n",
       "    <tr>\n",
       "      <th>20201203</th>\n",
       "      <td>-0.025</td>\n",
       "      <td>0.0015</td>\n",
       "      <td>-0.03</td>\n",
       "      <td>0.0100</td>\n",
       "    </tr>\n",
       "    <tr>\n",
       "      <th>20201204</th>\n",
       "      <td>-0.030</td>\n",
       "      <td>0.0150</td>\n",
       "      <td>-0.03</td>\n",
       "      <td>0.0100</td>\n",
       "    </tr>\n",
       "  </tbody>\n",
       "</table>\n",
       "</div>"
      ]
     },
     "execution_count": 2,
     "metadata": {},
     "output_type": "execute_result"
    }
   ],
   "execution_count": 2
  },
  {
   "metadata": {
    "ExecuteTime": {
     "end_time": "2025-09-16T01:25:12.722463Z",
     "start_time": "2025-09-16T01:25:12.707386Z"
    }
   },
   "cell_type": "code",
   "source": "df.to_csv('df_example.csv',index_label='Date')",
   "id": "da531f2c4856490",
   "outputs": [],
   "execution_count": 3
  },
  {
   "metadata": {
    "ExecuteTime": {
     "end_time": "2025-09-16T01:26:01.722857Z",
     "start_time": "2025-09-16T01:26:01.693181Z"
    }
   },
   "cell_type": "code",
   "source": [
    "from_csv = pd.read_csv('df_example.csv')\n",
    "from_csv"
   ],
   "id": "187095e1dc1c644b",
   "outputs": [
    {
     "data": {
      "text/plain": [
       "       Date   AAPL    MSFT  GOOG    AMZN\n",
       "0  20201201 -0.010  0.0300  0.05  0.0050\n",
       "1  20201202  0.015  0.0050 -0.05 -0.0025\n",
       "2  20201203 -0.025  0.0015 -0.03  0.0100\n",
       "3  20201204 -0.030  0.0150 -0.03  0.0100"
      ],
      "text/html": [
       "<div>\n",
       "<style scoped>\n",
       "    .dataframe tbody tr th:only-of-type {\n",
       "        vertical-align: middle;\n",
       "    }\n",
       "\n",
       "    .dataframe tbody tr th {\n",
       "        vertical-align: top;\n",
       "    }\n",
       "\n",
       "    .dataframe thead th {\n",
       "        text-align: right;\n",
       "    }\n",
       "</style>\n",
       "<table border=\"1\" class=\"dataframe\">\n",
       "  <thead>\n",
       "    <tr style=\"text-align: right;\">\n",
       "      <th></th>\n",
       "      <th>Date</th>\n",
       "      <th>AAPL</th>\n",
       "      <th>MSFT</th>\n",
       "      <th>GOOG</th>\n",
       "      <th>AMZN</th>\n",
       "    </tr>\n",
       "  </thead>\n",
       "  <tbody>\n",
       "    <tr>\n",
       "      <th>0</th>\n",
       "      <td>20201201</td>\n",
       "      <td>-0.010</td>\n",
       "      <td>0.0300</td>\n",
       "      <td>0.05</td>\n",
       "      <td>0.0050</td>\n",
       "    </tr>\n",
       "    <tr>\n",
       "      <th>1</th>\n",
       "      <td>20201202</td>\n",
       "      <td>0.015</td>\n",
       "      <td>0.0050</td>\n",
       "      <td>-0.05</td>\n",
       "      <td>-0.0025</td>\n",
       "    </tr>\n",
       "    <tr>\n",
       "      <th>2</th>\n",
       "      <td>20201203</td>\n",
       "      <td>-0.025</td>\n",
       "      <td>0.0015</td>\n",
       "      <td>-0.03</td>\n",
       "      <td>0.0100</td>\n",
       "    </tr>\n",
       "    <tr>\n",
       "      <th>3</th>\n",
       "      <td>20201204</td>\n",
       "      <td>-0.030</td>\n",
       "      <td>0.0150</td>\n",
       "      <td>-0.03</td>\n",
       "      <td>0.0100</td>\n",
       "    </tr>\n",
       "  </tbody>\n",
       "</table>\n",
       "</div>"
      ]
     },
     "execution_count": 4,
     "metadata": {},
     "output_type": "execute_result"
    }
   ],
   "execution_count": 4
  },
  {
   "metadata": {
    "ExecuteTime": {
     "end_time": "2025-09-16T01:26:24.522526Z",
     "start_time": "2025-09-16T01:26:24.493045Z"
    }
   },
   "cell_type": "code",
   "source": "from_csv.set_index('Date')",
   "id": "dc311e0cc194214c",
   "outputs": [
    {
     "data": {
      "text/plain": [
       "           AAPL    MSFT  GOOG    AMZN\n",
       "Date                                 \n",
       "20201201 -0.010  0.0300  0.05  0.0050\n",
       "20201202  0.015  0.0050 -0.05 -0.0025\n",
       "20201203 -0.025  0.0015 -0.03  0.0100\n",
       "20201204 -0.030  0.0150 -0.03  0.0100"
      ],
      "text/html": [
       "<div>\n",
       "<style scoped>\n",
       "    .dataframe tbody tr th:only-of-type {\n",
       "        vertical-align: middle;\n",
       "    }\n",
       "\n",
       "    .dataframe tbody tr th {\n",
       "        vertical-align: top;\n",
       "    }\n",
       "\n",
       "    .dataframe thead th {\n",
       "        text-align: right;\n",
       "    }\n",
       "</style>\n",
       "<table border=\"1\" class=\"dataframe\">\n",
       "  <thead>\n",
       "    <tr style=\"text-align: right;\">\n",
       "      <th></th>\n",
       "      <th>AAPL</th>\n",
       "      <th>MSFT</th>\n",
       "      <th>GOOG</th>\n",
       "      <th>AMZN</th>\n",
       "    </tr>\n",
       "    <tr>\n",
       "      <th>Date</th>\n",
       "      <th></th>\n",
       "      <th></th>\n",
       "      <th></th>\n",
       "      <th></th>\n",
       "    </tr>\n",
       "  </thead>\n",
       "  <tbody>\n",
       "    <tr>\n",
       "      <th>20201201</th>\n",
       "      <td>-0.010</td>\n",
       "      <td>0.0300</td>\n",
       "      <td>0.05</td>\n",
       "      <td>0.0050</td>\n",
       "    </tr>\n",
       "    <tr>\n",
       "      <th>20201202</th>\n",
       "      <td>0.015</td>\n",
       "      <td>0.0050</td>\n",
       "      <td>-0.05</td>\n",
       "      <td>-0.0025</td>\n",
       "    </tr>\n",
       "    <tr>\n",
       "      <th>20201203</th>\n",
       "      <td>-0.025</td>\n",
       "      <td>0.0015</td>\n",
       "      <td>-0.03</td>\n",
       "      <td>0.0100</td>\n",
       "    </tr>\n",
       "    <tr>\n",
       "      <th>20201204</th>\n",
       "      <td>-0.030</td>\n",
       "      <td>0.0150</td>\n",
       "      <td>-0.03</td>\n",
       "      <td>0.0100</td>\n",
       "    </tr>\n",
       "  </tbody>\n",
       "</table>\n",
       "</div>"
      ]
     },
     "execution_count": 5,
     "metadata": {},
     "output_type": "execute_result"
    }
   ],
   "execution_count": 5
  },
  {
   "metadata": {
    "ExecuteTime": {
     "end_time": "2025-09-16T01:30:29.912893Z",
     "start_time": "2025-09-16T01:30:29.904129Z"
    }
   },
   "cell_type": "code",
   "source": "df.to_pickle('df_example.pkl')",
   "id": "f831b5d43a8e5c55",
   "outputs": [],
   "execution_count": 7
  },
  {
   "metadata": {
    "ExecuteTime": {
     "end_time": "2025-09-16T01:30:58.521788Z",
     "start_time": "2025-09-16T01:30:58.491269Z"
    }
   },
   "cell_type": "code",
   "source": "pd.read_pickle('df_example.pkl')",
   "id": "8364d12398e1683f",
   "outputs": [
    {
     "data": {
      "text/plain": [
       "           AAPL    MSFT  GOOG    AMZN\n",
       "20201201 -0.010  0.0300  0.05  0.0050\n",
       "20201202  0.015  0.0050 -0.05 -0.0025\n",
       "20201203 -0.025  0.0015 -0.03  0.0100\n",
       "20201204 -0.030  0.0150 -0.03  0.0100"
      ],
      "text/html": [
       "<div>\n",
       "<style scoped>\n",
       "    .dataframe tbody tr th:only-of-type {\n",
       "        vertical-align: middle;\n",
       "    }\n",
       "\n",
       "    .dataframe tbody tr th {\n",
       "        vertical-align: top;\n",
       "    }\n",
       "\n",
       "    .dataframe thead th {\n",
       "        text-align: right;\n",
       "    }\n",
       "</style>\n",
       "<table border=\"1\" class=\"dataframe\">\n",
       "  <thead>\n",
       "    <tr style=\"text-align: right;\">\n",
       "      <th></th>\n",
       "      <th>AAPL</th>\n",
       "      <th>MSFT</th>\n",
       "      <th>GOOG</th>\n",
       "      <th>AMZN</th>\n",
       "    </tr>\n",
       "  </thead>\n",
       "  <tbody>\n",
       "    <tr>\n",
       "      <th>20201201</th>\n",
       "      <td>-0.010</td>\n",
       "      <td>0.0300</td>\n",
       "      <td>0.05</td>\n",
       "      <td>0.0050</td>\n",
       "    </tr>\n",
       "    <tr>\n",
       "      <th>20201202</th>\n",
       "      <td>0.015</td>\n",
       "      <td>0.0050</td>\n",
       "      <td>-0.05</td>\n",
       "      <td>-0.0025</td>\n",
       "    </tr>\n",
       "    <tr>\n",
       "      <th>20201203</th>\n",
       "      <td>-0.025</td>\n",
       "      <td>0.0015</td>\n",
       "      <td>-0.03</td>\n",
       "      <td>0.0100</td>\n",
       "    </tr>\n",
       "    <tr>\n",
       "      <th>20201204</th>\n",
       "      <td>-0.030</td>\n",
       "      <td>0.0150</td>\n",
       "      <td>-0.03</td>\n",
       "      <td>0.0100</td>\n",
       "    </tr>\n",
       "  </tbody>\n",
       "</table>\n",
       "</div>"
      ]
     },
     "execution_count": 9,
     "metadata": {},
     "output_type": "execute_result"
    }
   ],
   "execution_count": 9
  }
 ],
 "metadata": {
  "kernelspec": {
   "display_name": "Python 3",
   "language": "python",
   "name": "python3"
  },
  "language_info": {
   "codemirror_mode": {
    "name": "ipython",
    "version": 2
   },
   "file_extension": ".py",
   "mimetype": "text/x-python",
   "name": "python",
   "nbconvert_exporter": "python",
   "pygments_lexer": "ipython2",
   "version": "2.7.6"
  }
 },
 "nbformat": 4,
 "nbformat_minor": 5
}
