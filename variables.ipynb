{
 "cells": [
  {
   "metadata": {},
   "cell_type": "markdown",
   "source": [
    "# This is a sample Jupyter Notebook\n",
    "\n",
    "Below is an example of a code cell. \n",
    "Put your cursor into the cell and press Shift+Enter to execute it and select the next one, or click 'Run Cell' button.\n",
    "\n",
    "Press Double Shift to search everywhere for classes, files, tool windows, actions, and settings.\n",
    "\n",
    "To learn more about Jupyter Notebooks in PyCharm, see [help](https://www.jetbrains.com/help/pycharm/ipython-notebook-support.html).\n",
    "For an overview of PyCharm, go to Help -> Learn IDE features or refer to [our documentation](https://www.jetbrains.com/help/pycharm/getting-started.html)."
   ],
   "id": "8a77807f92f26ee"
  },
  {
   "metadata": {
    "ExecuteTime": {
     "end_time": "2025-09-10T01:31:49.793487Z",
     "start_time": "2025-09-10T01:31:49.779970Z"
    }
   },
   "cell_type": "code",
   "source": [
    "from PIL.ImageChops import subtract_modulo, multiply\n",
    "\n",
    "print(\"Hello World!\")\n"
   ],
   "id": "fbc121e30a2defb3",
   "outputs": [
    {
     "name": "stdout",
     "output_type": "stream",
     "text": [
      "Hello World!\n"
     ]
    }
   ],
   "execution_count": 1
  },
  {
   "metadata": {
    "ExecuteTime": {
     "end_time": "2025-09-10T01:40:25.222588Z",
     "start_time": "2025-09-10T01:40:25.205498Z"
    }
   },
   "cell_type": "code",
   "source": [
    "#variables\n",
    "appl_ret = 9.4\n",
    "market_ret =2.4\n",
    "print(appl_ret, market_ret)\n",
    "excess_ret = appl_ret - market_ret\n",
    "print(excess_ret)"
   ],
   "id": "5d81724bc451ce52",
   "outputs": [
    {
     "name": "stdout",
     "output_type": "stream",
     "text": [
      "9.4 2.4\n",
      "7.0\n"
     ]
    }
   ],
   "execution_count": 4
  },
  {
   "metadata": {
    "ExecuteTime": {
     "end_time": "2025-09-10T01:41:54.536805Z",
     "start_time": "2025-09-10T01:41:54.532337Z"
    }
   },
   "cell_type": "code",
   "source": [
    "#Data Types -> Integers and float\n",
    "num_int =5\n",
    "num_float = 2.56\n",
    "print(type(num_int))\n",
    "print(type(num_float))"
   ],
   "id": "c5336064733909cf",
   "outputs": [
    {
     "name": "stdout",
     "output_type": "stream",
     "text": [
      "<class 'int'>\n"
     ]
    }
   ],
   "execution_count": 5
  },
  {
   "metadata": {
    "ExecuteTime": {
     "end_time": "2025-09-10T01:45:14.245933Z",
     "start_time": "2025-09-10T01:45:14.229158Z"
    }
   },
   "cell_type": "code",
   "source": [
    "x=2\n",
    "y=9\n",
    "add=x+y\n",
    "print(add)\n",
    "subtract = y-x\n",
    "print(subtract)\n",
    "\n"
   ],
   "id": "a23ef3ff2fc5f666",
   "outputs": [
    {
     "name": "stdout",
     "output_type": "stream",
     "text": [
      "11\n",
      "7\n"
     ]
    }
   ],
   "execution_count": 12
  },
  {
   "metadata": {
    "ExecuteTime": {
     "end_time": "2025-09-10T01:48:24.370718Z",
     "start_time": "2025-09-10T01:48:24.352634Z"
    }
   },
   "cell_type": "code",
   "source": [
    "#Strings = in single quote or double quote\n",
    "ticker = 'AAPL US Equity'\n",
    "print(ticker)\n",
    "print(type(ticker))"
   ],
   "id": "260c67907cfaf6c0",
   "outputs": [
    {
     "name": "stdout",
     "output_type": "stream",
     "text": [
      "AAPL US Equity\n",
      "<class 'str'>\n"
     ]
    }
   ],
   "execution_count": 13
  },
  {
   "metadata": {
    "ExecuteTime": {
     "end_time": "2025-09-10T01:51:00.364750Z",
     "start_time": "2025-09-10T01:51:00.357806Z"
    }
   },
   "cell_type": "code",
   "source": [
    "#a string is an array : individual characters can be retreived\n",
    "dt = '20251030'\n",
    "print(dt[0])\n",
    "print(dt[0:4])\n",
    "print(dt[4:6])\n",
    "print(dt[6:8])"
   ],
   "id": "8120ee516b5bba7c",
   "outputs": [
    {
     "name": "stdout",
     "output_type": "stream",
     "text": [
      "2\n",
      "2025\n",
      "10\n",
      "30\n"
     ]
    }
   ],
   "execution_count": 17
  },
  {
   "metadata": {
    "ExecuteTime": {
     "end_time": "2025-09-10T01:52:25.235770Z",
     "start_time": "2025-09-10T01:52:25.229255Z"
    }
   },
   "cell_type": "code",
   "source": [
    "#string is an array can loop through a string\n",
    "for x in dt:\n",
    "    print(x)"
   ],
   "id": "8a2e55b52edb2ae8",
   "outputs": [
    {
     "name": "stdout",
     "output_type": "stream",
     "text": [
      "2\n",
      "0\n",
      "2\n",
      "5\n",
      "1\n",
      "0\n",
      "3\n",
      "0\n"
     ]
    }
   ],
   "execution_count": 18
  },
  {
   "metadata": {
    "ExecuteTime": {
     "end_time": "2025-09-10T01:53:32.545352Z",
     "start_time": "2025-09-10T01:53:32.528072Z"
    }
   },
   "cell_type": "code",
   "source": [
    "#String contains\n",
    "print('Equity' in ticker)"
   ],
   "id": "f7835b9e2fd96dcc",
   "outputs": [
    {
     "name": "stdout",
     "output_type": "stream",
     "text": [
      "True\n"
     ]
    }
   ],
   "execution_count": 19
  },
  {
   "metadata": {
    "ExecuteTime": {
     "end_time": "2025-09-10T01:55:08.176506Z",
     "start_time": "2025-09-10T01:55:08.170300Z"
    }
   },
   "cell_type": "code",
   "source": [
    "#String can be changed to all uppercase and all lowercase\n",
    "print(ticker.upper())\n",
    "print(ticker.lower())"
   ],
   "id": "6f67a30bda23349c",
   "outputs": [
    {
     "name": "stdout",
     "output_type": "stream",
     "text": [
      "AAPL US EQUITY\n",
      "aapl us equity\n"
     ]
    }
   ],
   "execution_count": 21
  },
  {
   "metadata": {
    "ExecuteTime": {
     "end_time": "2025-09-10T01:56:51.755791Z",
     "start_time": "2025-09-10T01:56:51.749502Z"
    }
   },
   "cell_type": "code",
   "source": [
    "#strip out whitespace\n",
    "ticker = ticker.strip(' ')"
   ],
   "id": "a37920e4241b2a16",
   "outputs": [],
   "execution_count": 22
  },
  {
   "metadata": {
    "ExecuteTime": {
     "end_time": "2025-09-10T01:59:41.368899Z",
     "start_time": "2025-09-10T01:59:41.351624Z"
    }
   },
   "cell_type": "code",
   "source": [
    "#replace part of string with another part\n",
    "ticker.replace('US Equity','Japan Equity')"
   ],
   "id": "450b644f288b3abc",
   "outputs": [
    {
     "data": {
      "text/plain": [
       "'AAPL Japan Equity'"
      ]
     },
     "execution_count": 23,
     "metadata": {},
     "output_type": "execute_result"
    }
   ],
   "execution_count": 23
  },
  {
   "metadata": {
    "ExecuteTime": {
     "end_time": "2025-09-10T02:03:23.044710Z",
     "start_time": "2025-09-10T02:03:23.030550Z"
    }
   },
   "cell_type": "code",
   "source": [
    "#split up a string\n",
    "tick_split = ticker.split(' ')\n",
    "print(tick_split)\n",
    "print(tick_split[0])\n",
    "print(tick_split[1])"
   ],
   "id": "768fa1e658e773cd",
   "outputs": [
    {
     "name": "stdout",
     "output_type": "stream",
     "text": [
      "['AAPL', 'US', 'Equity']\n",
      "AAPL\n",
      "US\n"
     ]
    }
   ],
   "execution_count": 26
  },
  {
   "metadata": {
    "ExecuteTime": {
     "end_time": "2025-09-10T02:06:45.941944Z",
     "start_time": "2025-09-10T02:06:45.935545Z"
    }
   },
   "cell_type": "code",
   "source": [
    "print(' '.join(tick_split))\n",
    "print(tick_split)\n",
    "print(tick_split[0])\n",
    "print(tick_split[1])\n"
   ],
   "id": "378edfc72b5dcc87",
   "outputs": [
    {
     "name": "stdout",
     "output_type": "stream",
     "text": [
      "AAPL US Equity\n",
      "['AAPL', 'US', 'Equity']\n",
      "AAPL\n",
      "US\n"
     ]
    }
   ],
   "execution_count": 28
  },
  {
   "metadata": {
    "ExecuteTime": {
     "end_time": "2025-09-10T02:10:19.091245Z",
     "start_time": "2025-09-10T02:10:19.074559Z"
    }
   },
   "cell_type": "code",
   "source": [
    "#Booleans\n",
    "a=True\n",
    "b=False\n",
    "print(a)\n",
    "print(b)"
   ],
   "id": "47d3e13a7abb6b0c",
   "outputs": [
    {
     "name": "stdout",
     "output_type": "stream",
     "text": [
      "True\n",
      "False\n"
     ]
    }
   ],
   "execution_count": 30
  },
  {
   "metadata": {
    "ExecuteTime": {
     "end_time": "2025-09-10T02:11:02.495771Z",
     "start_time": "2025-09-10T02:11:02.489206Z"
    }
   },
   "cell_type": "code",
   "source": [
    "print(type(a))\n",
    "print(type(b))"
   ],
   "id": "8d4a7ee419083d84",
   "outputs": [
    {
     "name": "stdout",
     "output_type": "stream",
     "text": [
      "<class 'bool'>\n",
      "<class 'bool'>\n"
     ]
    }
   ],
   "execution_count": 31
  },
  {
   "metadata": {
    "ExecuteTime": {
     "end_time": "2025-09-10T02:12:37.826634Z",
     "start_time": "2025-09-10T02:12:37.805839Z"
    }
   },
   "cell_type": "code",
   "source": [
    "#generating booleans using operators on numbers\n",
    "x=7\n",
    "y=9\n",
    "print(x==y)\n",
    "print(x>y)\n",
    "print(x<y)"
   ],
   "id": "ac56fd7cfd607010",
   "outputs": [
    {
     "name": "stdout",
     "output_type": "stream",
     "text": [
      "False\n",
      "False\n",
      "True\n"
     ]
    }
   ],
   "execution_count": 32
  },
  {
   "metadata": {
    "ExecuteTime": {
     "end_time": "2025-09-10T02:16:15.821487Z",
     "start_time": "2025-09-10T02:16:15.813313Z"
    }
   },
   "cell_type": "code",
   "source": [
    "#create a list using square brackets\n",
    "stocks = ['AAPL','GOOG', 'IBM', 'MSFT']\n",
    "print(stocks)\n",
    "print(type(stocks))\n"
   ],
   "id": "57e39495583f7250",
   "outputs": [
    {
     "name": "stdout",
     "output_type": "stream",
     "text": [
      "['AAPL', 'GOOG', 'IBM', 'MSFT']\n",
      "<class 'list'>\n"
     ]
    }
   ],
   "execution_count": 33
  },
  {
   "metadata": {
    "ExecuteTime": {
     "end_time": "2025-09-10T02:17:14.467108Z",
     "start_time": "2025-09-10T02:17:14.442072Z"
    }
   },
   "cell_type": "code",
   "source": [
    "#List can be of any data type\n",
    "returns = [0.01, -0.01, 0.02, 0.03, 0.04, 0.05]\n",
    "print(returns)\n",
    "print(type(returns))"
   ],
   "id": "c2b4c49848e6c2b6",
   "outputs": [
    {
     "name": "stdout",
     "output_type": "stream",
     "text": [
      "[0.01, -0.01, 0.02, 0.03, 0.04, 0.05]\n",
      "<class 'list'>\n"
     ]
    }
   ],
   "execution_count": 34
  },
  {
   "metadata": {
    "ExecuteTime": {
     "end_time": "2025-09-10T02:21:30.118634Z",
     "start_time": "2025-09-10T02:21:30.108476Z"
    }
   },
   "cell_type": "code",
   "source": [
    "#retrieving values\n",
    "#positive indexing\n",
    "\n",
    "print(stocks[0])\n",
    "print(stocks[2])\n",
    "print(stocks[3])"
   ],
   "id": "bb1591c7a878acec",
   "outputs": [
    {
     "name": "stdout",
     "output_type": "stream",
     "text": [
      "AAPL\n",
      "IBM\n",
      "MSFT\n"
     ]
    }
   ],
   "execution_count": 35
  },
  {
   "metadata": {
    "ExecuteTime": {
     "end_time": "2025-09-10T02:23:16.600505Z",
     "start_time": "2025-09-10T02:23:16.589749Z"
    }
   },
   "cell_type": "code",
   "source": [
    "#negative indexing\n",
    "print(stocks[-1])\n",
    "print(stocks[-2])\n",
    "print(stocks[-4])"
   ],
   "id": "b83db96170f06957",
   "outputs": [
    {
     "name": "stdout",
     "output_type": "stream",
     "text": [
      "MSFT\n",
      "IBM\n",
      "AAPL\n"
     ]
    }
   ],
   "execution_count": 36
  },
  {
   "metadata": {
    "ExecuteTime": {
     "end_time": "2025-09-10T02:24:58.500935Z",
     "start_time": "2025-09-10T02:24:58.492597Z"
    }
   },
   "cell_type": "code",
   "source": [
    "#Index ranging w positives\n",
    "print(stocks[1:3])"
   ],
   "id": "b94c99b506f04d6c",
   "outputs": [
    {
     "name": "stdout",
     "output_type": "stream",
     "text": [
      "['GOOG', 'IBM']\n"
     ]
    }
   ],
   "execution_count": 37
  },
  {
   "metadata": {
    "ExecuteTime": {
     "end_time": "2025-09-10T02:28:22.141062Z",
     "start_time": "2025-09-10T02:28:22.131787Z"
    }
   },
   "cell_type": "code",
   "source": [
    "#index ranging w negatives\n",
    "print(stocks[-3:-1])"
   ],
   "id": "af56956f893a4aa2",
   "outputs": [
    {
     "name": "stdout",
     "output_type": "stream",
     "text": [
      "['GOOG', 'IBM']\n"
     ]
    }
   ],
   "execution_count": 41
  },
  {
   "metadata": {
    "ExecuteTime": {
     "end_time": "2025-09-10T02:31:03.324193Z",
     "start_time": "2025-09-10T02:31:03.316784Z"
    }
   },
   "cell_type": "code",
   "source": [
    "#check if an item exists\n",
    "print('TSLA' in stocks)"
   ],
   "id": "42984045d52213e5",
   "outputs": [
    {
     "name": "stdout",
     "output_type": "stream",
     "text": [
      "False\n"
     ]
    }
   ],
   "execution_count": 42
  }
 ],
 "metadata": {
  "kernelspec": {
   "display_name": "Python 3",
   "language": "python",
   "name": "python3"
  },
  "language_info": {
   "codemirror_mode": {
    "name": "ipython",
    "version": 2
   },
   "file_extension": ".py",
   "mimetype": "text/x-python",
   "name": "python",
   "nbconvert_exporter": "python",
   "pygments_lexer": "ipython2",
   "version": "2.7.6"
  }
 },
 "nbformat": 4,
 "nbformat_minor": 5
}
