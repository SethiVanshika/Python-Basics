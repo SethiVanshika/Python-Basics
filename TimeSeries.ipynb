{
 "cells": [
  {
   "metadata": {
    "ExecuteTime": {
     "end_time": "2025-09-16T15:08:06.836472Z",
     "start_time": "2025-09-16T15:08:06.825927Z"
    }
   },
   "cell_type": "code",
   "source": [
    "import pandas as pd\n",
    "import numpy as np\n",
    "\n",
    "dt = '20110107'\n",
    "dt = pd.to_datetime(dt)\n",
    "dt"
   ],
   "id": "e892c5027016f283",
   "outputs": [
    {
     "data": {
      "text/plain": [
       "Timestamp('2011-01-07 00:00:00')"
      ]
     },
     "execution_count": 3,
     "metadata": {},
     "output_type": "execute_result"
    }
   ],
   "execution_count": 3
  },
  {
   "metadata": {
    "ExecuteTime": {
     "end_time": "2025-09-16T15:08:29.686476Z",
     "start_time": "2025-09-16T15:08:29.676756Z"
    }
   },
   "cell_type": "code",
   "source": "pd.to_datetime('2011-01-07')",
   "id": "3bd740871877af57",
   "outputs": [
    {
     "data": {
      "text/plain": [
       "Timestamp('2011-01-07 00:00:00')"
      ]
     },
     "execution_count": 4,
     "metadata": {},
     "output_type": "execute_result"
    }
   ],
   "execution_count": 4
  },
  {
   "metadata": {
    "ExecuteTime": {
     "end_time": "2025-09-16T15:09:45.442059Z",
     "start_time": "2025-09-16T15:09:45.435659Z"
    }
   },
   "cell_type": "code",
   "source": [
    "#get time fields\n",
    "print(dt.year)\n",
    "print(dt.month)\n",
    "print(dt.day)\n",
    "#maybe you care about price behavior on a particular hour, minute or second of the day?\n",
    "print(dt.hour)\n",
    "print(dt.minute)\n",
    "print(dt.second)"
   ],
   "id": "fc54d248e062bd47",
   "outputs": [
    {
     "name": "stdout",
     "output_type": "stream",
     "text": [
      "2011\n",
      "1\n",
      "7\n",
      "0\n",
      "0\n",
      "0\n"
     ]
    }
   ],
   "execution_count": 5
  },
  {
   "metadata": {
    "ExecuteTime": {
     "end_time": "2025-09-16T15:10:08.121521Z",
     "start_time": "2025-09-16T15:10:08.112574Z"
    }
   },
   "cell_type": "code",
   "source": [
    "#useful for checking if weekend\n",
    "dt.weekday()"
   ],
   "id": "a689349c5bd09022",
   "outputs": [
    {
     "data": {
      "text/plain": [
       "4"
      ]
     },
     "execution_count": 6,
     "metadata": {},
     "output_type": "execute_result"
    }
   ],
   "execution_count": 6
  },
  {
   "metadata": {
    "ExecuteTime": {
     "end_time": "2025-09-16T15:11:06.705720Z",
     "start_time": "2025-09-16T15:11:06.684300Z"
    }
   },
   "cell_type": "code",
   "source": [
    "# handles hours/minutes/seconds as well\n",
    "pd.to_datetime('20110107  12:10:30')"
   ],
   "id": "9452daeb888c6e73",
   "outputs": [
    {
     "data": {
      "text/plain": [
       "Timestamp('2011-01-07 12:10:30')"
      ]
     },
     "execution_count": 7,
     "metadata": {},
     "output_type": "execute_result"
    }
   ],
   "execution_count": 7
  },
  {
   "metadata": {
    "ExecuteTime": {
     "end_time": "2025-09-16T15:12:21.216423Z",
     "start_time": "2025-09-16T15:12:21.201158Z"
    }
   },
   "cell_type": "code",
   "source": [
    "#convert back to string\n",
    "dt.strftime('%Y%m%d')"
   ],
   "id": "c66bac28521b1c9e",
   "outputs": [
    {
     "data": {
      "text/plain": [
       "'20110107'"
      ]
     },
     "execution_count": 9,
     "metadata": {},
     "output_type": "execute_result"
    }
   ],
   "execution_count": 9
  },
  {
   "metadata": {
    "ExecuteTime": {
     "end_time": "2025-09-16T15:13:04.361562Z",
     "start_time": "2025-09-16T15:13:04.337822Z"
    }
   },
   "cell_type": "code",
   "source": [
    "#can shift dates\n",
    "dt + pd.tseries.offsets.Day()"
   ],
   "id": "4c53a40929561d67",
   "outputs": [
    {
     "data": {
      "text/plain": [
       "Timestamp('2011-01-08 00:00:00')"
      ]
     },
     "execution_count": 10,
     "metadata": {},
     "output_type": "execute_result"
    }
   ],
   "execution_count": 10
  },
  {
   "metadata": {
    "ExecuteTime": {
     "end_time": "2025-09-16T15:13:50.186142Z",
     "start_time": "2025-09-16T15:13:50.178883Z"
    }
   },
   "cell_type": "code",
   "source": [
    "#can shift by multiple time units\n",
    "dt + pd.tseries.offsets.Day()"
   ],
   "id": "7ab16196c45c9c63",
   "outputs": [
    {
     "data": {
      "text/plain": [
       "Timestamp('2011-01-08 00:00:00')"
      ]
     },
     "execution_count": 11,
     "metadata": {},
     "output_type": "execute_result"
    }
   ],
   "execution_count": 11
  },
  {
   "metadata": {
    "ExecuteTime": {
     "end_time": "2025-09-16T15:14:50.565397Z",
     "start_time": "2025-09-16T15:14:50.544482Z"
    }
   },
   "cell_type": "code",
   "source": [
    "# shift only by business day(skip weekends)\n",
    "dt + pd.tseries.offsets.BDay()"
   ],
   "id": "8ddab186ab7e0894",
   "outputs": [
    {
     "data": {
      "text/plain": [
       "Timestamp('2011-01-10 00:00:00')"
      ]
     },
     "execution_count": 12,
     "metadata": {},
     "output_type": "execute_result"
    }
   ],
   "execution_count": 12
  },
  {
   "metadata": {
    "ExecuteTime": {
     "end_time": "2025-09-16T15:19:10.959335Z",
     "start_time": "2025-09-16T15:19:10.935877Z"
    }
   },
   "cell_type": "code",
   "source": [
    "#roll forward / backword\n",
    "print(pd.tseries.offsets.MonthEnd().rollforward(dt))\n",
    "print(pd.tseries.offsets.MonthEnd().rollback(dt))"
   ],
   "id": "d7219d30a1458ef2",
   "outputs": [
    {
     "name": "stdout",
     "output_type": "stream",
     "text": [
      "2011-01-31 00:00:00\n",
      "2010-12-31 00:00:00\n"
     ]
    }
   ],
   "execution_count": 13
  },
  {
   "metadata": {
    "ExecuteTime": {
     "end_time": "2025-09-16T15:20:32.485475Z",
     "start_time": "2025-09-16T15:20:32.463865Z"
    }
   },
   "cell_type": "code",
   "source": [
    "#subtract two times\n",
    "#maybe for checking days till next earnings\n",
    "\n",
    "dt1 = pd.to_datetime('20110101')\n",
    "dt2 = pd.to_datetime('20120630')\n",
    "\n",
    "diff = dt2 - dt1\n",
    "diff"
   ],
   "id": "7edc3776ba552cd3",
   "outputs": [
    {
     "data": {
      "text/plain": [
       "Timedelta('546 days 00:00:00')"
      ]
     },
     "execution_count": 14,
     "metadata": {},
     "output_type": "execute_result"
    }
   ],
   "execution_count": 14
  },
  {
   "metadata": {
    "ExecuteTime": {
     "end_time": "2025-09-16T15:20:38.242903Z",
     "start_time": "2025-09-16T15:20:38.234076Z"
    }
   },
   "cell_type": "code",
   "source": "diff.days",
   "id": "1b926ffdd42445ab",
   "outputs": [
    {
     "data": {
      "text/plain": [
       "546"
      ]
     },
     "execution_count": 15,
     "metadata": {},
     "output_type": "execute_result"
    }
   ],
   "execution_count": 15
  },
  {
   "metadata": {
    "ExecuteTime": {
     "end_time": "2025-09-16T15:22:39.967743Z",
     "start_time": "2025-09-16T15:22:39.936437Z"
    }
   },
   "cell_type": "code",
   "source": [
    "#faster way to create multiple timestamp objects. Useful for converting excel dates from strings to timestamps\n",
    "date = ['20110102', '20110103', '20110105']\n",
    "dt_index = pd.DatetimeIndex(date)\n",
    "dt_index"
   ],
   "id": "271701f0ce106523",
   "outputs": [
    {
     "data": {
      "text/plain": [
       "DatetimeIndex(['2011-01-02', '2011-01-03', '2011-01-05'], dtype='datetime64[ns]', freq=None)"
      ]
     },
     "execution_count": 16,
     "metadata": {},
     "output_type": "execute_result"
    }
   ],
   "execution_count": 16
  },
  {
   "metadata": {
    "ExecuteTime": {
     "end_time": "2025-09-16T15:22:50.400729Z",
     "start_time": "2025-09-16T15:22:50.393197Z"
    }
   },
   "cell_type": "code",
   "source": "dt_index[0]",
   "id": "cef8d6477d2b4929",
   "outputs": [
    {
     "data": {
      "text/plain": [
       "Timestamp('2011-01-02 00:00:00')"
      ]
     },
     "execution_count": 17,
     "metadata": {},
     "output_type": "execute_result"
    }
   ],
   "execution_count": 17
  },
  {
   "metadata": {
    "ExecuteTime": {
     "end_time": "2025-09-16T15:24:13.435530Z",
     "start_time": "2025-09-16T15:24:13.409894Z"
    }
   },
   "cell_type": "code",
   "source": [
    "#get time range\n",
    "days = pd.date_range(dt1,dt2, freq='D')"
   ],
   "id": "e960cd7fe3b15dbb",
   "outputs": [],
   "execution_count": 18
  },
  {
   "metadata": {
    "ExecuteTime": {
     "end_time": "2025-09-16T15:25:41.355322Z",
     "start_time": "2025-09-16T15:25:41.345321Z"
    }
   },
   "cell_type": "code",
   "source": [
    "# can use strings as inputs and also monthly frequency\n",
    "months = pd.date_range('20110101','20121231',freq='M')"
   ],
   "id": "69fbd42938869f42",
   "outputs": [
    {
     "name": "stderr",
     "output_type": "stream",
     "text": [
      "C:\\Users\\vansh\\AppData\\Local\\Temp\\ipykernel_3424\\3489374309.py:2: FutureWarning: 'M' is deprecated and will be removed in a future version, please use 'ME' instead.\n",
      "  months = pd.date_range('20110101','20121231',freq='M')\n"
     ]
    }
   ],
   "execution_count": 19
  },
  {
   "metadata": {
    "ExecuteTime": {
     "end_time": "2025-09-16T15:29:40.221662Z",
     "start_time": "2025-09-16T15:29:40.021537Z"
    }
   },
   "cell_type": "code",
   "source": [
    "#DataFrames with pandas datetime index\n",
    "univ = ['SPY', 'TLT', 'VXX', 'QQQ']\n",
    "days = pd.date_range('20190101','20210630', freq='min')\n",
    "df = pd.DataFrame(np.random.randn(len(days), len(univ)), index=days, columns=univ)\n",
    "df"
   ],
   "id": "e6fcd6c98fd1f1b3",
   "outputs": [
    {
     "data": {
      "text/plain": [
       "                          SPY       TLT       VXX       QQQ\n",
       "2019-01-01 00:00:00  1.335127  1.923201 -0.194784 -0.046646\n",
       "2019-01-01 00:01:00  2.464517 -0.138832  0.438266 -1.491423\n",
       "2019-01-01 00:02:00  0.281060  2.020120  1.596849  0.121366\n",
       "2019-01-01 00:03:00 -0.420897  0.768468 -0.579175 -0.673029\n",
       "2019-01-01 00:04:00 -1.429182  0.354764  1.055156 -0.215394\n",
       "...                       ...       ...       ...       ...\n",
       "2021-06-29 23:56:00 -0.590540 -1.581295  0.714806  0.339061\n",
       "2021-06-29 23:57:00  0.450214  0.379810 -1.965671 -0.013561\n",
       "2021-06-29 23:58:00  0.804565  1.828686  0.380865  0.262795\n",
       "2021-06-29 23:59:00  0.750897  0.194549  0.485391 -0.464864\n",
       "2021-06-30 00:00:00 -0.927473 -0.864370  0.295103  1.262059\n",
       "\n",
       "[1311841 rows x 4 columns]"
      ],
      "text/html": [
       "<div>\n",
       "<style scoped>\n",
       "    .dataframe tbody tr th:only-of-type {\n",
       "        vertical-align: middle;\n",
       "    }\n",
       "\n",
       "    .dataframe tbody tr th {\n",
       "        vertical-align: top;\n",
       "    }\n",
       "\n",
       "    .dataframe thead th {\n",
       "        text-align: right;\n",
       "    }\n",
       "</style>\n",
       "<table border=\"1\" class=\"dataframe\">\n",
       "  <thead>\n",
       "    <tr style=\"text-align: right;\">\n",
       "      <th></th>\n",
       "      <th>SPY</th>\n",
       "      <th>TLT</th>\n",
       "      <th>VXX</th>\n",
       "      <th>QQQ</th>\n",
       "    </tr>\n",
       "  </thead>\n",
       "  <tbody>\n",
       "    <tr>\n",
       "      <th>2019-01-01 00:00:00</th>\n",
       "      <td>1.335127</td>\n",
       "      <td>1.923201</td>\n",
       "      <td>-0.194784</td>\n",
       "      <td>-0.046646</td>\n",
       "    </tr>\n",
       "    <tr>\n",
       "      <th>2019-01-01 00:01:00</th>\n",
       "      <td>2.464517</td>\n",
       "      <td>-0.138832</td>\n",
       "      <td>0.438266</td>\n",
       "      <td>-1.491423</td>\n",
       "    </tr>\n",
       "    <tr>\n",
       "      <th>2019-01-01 00:02:00</th>\n",
       "      <td>0.281060</td>\n",
       "      <td>2.020120</td>\n",
       "      <td>1.596849</td>\n",
       "      <td>0.121366</td>\n",
       "    </tr>\n",
       "    <tr>\n",
       "      <th>2019-01-01 00:03:00</th>\n",
       "      <td>-0.420897</td>\n",
       "      <td>0.768468</td>\n",
       "      <td>-0.579175</td>\n",
       "      <td>-0.673029</td>\n",
       "    </tr>\n",
       "    <tr>\n",
       "      <th>2019-01-01 00:04:00</th>\n",
       "      <td>-1.429182</td>\n",
       "      <td>0.354764</td>\n",
       "      <td>1.055156</td>\n",
       "      <td>-0.215394</td>\n",
       "    </tr>\n",
       "    <tr>\n",
       "      <th>...</th>\n",
       "      <td>...</td>\n",
       "      <td>...</td>\n",
       "      <td>...</td>\n",
       "      <td>...</td>\n",
       "    </tr>\n",
       "    <tr>\n",
       "      <th>2021-06-29 23:56:00</th>\n",
       "      <td>-0.590540</td>\n",
       "      <td>-1.581295</td>\n",
       "      <td>0.714806</td>\n",
       "      <td>0.339061</td>\n",
       "    </tr>\n",
       "    <tr>\n",
       "      <th>2021-06-29 23:57:00</th>\n",
       "      <td>0.450214</td>\n",
       "      <td>0.379810</td>\n",
       "      <td>-1.965671</td>\n",
       "      <td>-0.013561</td>\n",
       "    </tr>\n",
       "    <tr>\n",
       "      <th>2021-06-29 23:58:00</th>\n",
       "      <td>0.804565</td>\n",
       "      <td>1.828686</td>\n",
       "      <td>0.380865</td>\n",
       "      <td>0.262795</td>\n",
       "    </tr>\n",
       "    <tr>\n",
       "      <th>2021-06-29 23:59:00</th>\n",
       "      <td>0.750897</td>\n",
       "      <td>0.194549</td>\n",
       "      <td>0.485391</td>\n",
       "      <td>-0.464864</td>\n",
       "    </tr>\n",
       "    <tr>\n",
       "      <th>2021-06-30 00:00:00</th>\n",
       "      <td>-0.927473</td>\n",
       "      <td>-0.864370</td>\n",
       "      <td>0.295103</td>\n",
       "      <td>1.262059</td>\n",
       "    </tr>\n",
       "  </tbody>\n",
       "</table>\n",
       "<p>1311841 rows × 4 columns</p>\n",
       "</div>"
      ]
     },
     "execution_count": 20,
     "metadata": {},
     "output_type": "execute_result"
    }
   ],
   "execution_count": 20
  },
  {
   "metadata": {
    "ExecuteTime": {
     "end_time": "2025-09-16T15:30:12.808654Z",
     "start_time": "2025-09-16T15:30:12.646092Z"
    }
   },
   "cell_type": "code",
   "source": "df.loc['2019-01-01  00:00:00']",
   "id": "be745202ddd085be",
   "outputs": [
    {
     "data": {
      "text/plain": [
       "SPY    1.335127\n",
       "TLT    1.923201\n",
       "VXX   -0.194784\n",
       "QQQ   -0.046646\n",
       "Name: 2019-01-01 00:00:00, dtype: float64"
      ]
     },
     "execution_count": 21,
     "metadata": {},
     "output_type": "execute_result"
    }
   ],
   "execution_count": 21
  },
  {
   "metadata": {
    "ExecuteTime": {
     "end_time": "2025-09-16T15:30:33.286183Z",
     "start_time": "2025-09-16T15:30:33.264208Z"
    }
   },
   "cell_type": "code",
   "source": "df.loc['2019-01-01']",
   "id": "bf90b29b46c1471b",
   "outputs": [
    {
     "data": {
      "text/plain": [
       "                          SPY       TLT       VXX       QQQ\n",
       "2019-01-01 00:00:00  1.335127  1.923201 -0.194784 -0.046646\n",
       "2019-01-01 00:01:00  2.464517 -0.138832  0.438266 -1.491423\n",
       "2019-01-01 00:02:00  0.281060  2.020120  1.596849  0.121366\n",
       "2019-01-01 00:03:00 -0.420897  0.768468 -0.579175 -0.673029\n",
       "2019-01-01 00:04:00 -1.429182  0.354764  1.055156 -0.215394\n",
       "...                       ...       ...       ...       ...\n",
       "2019-01-01 23:55:00  0.528729  0.069294  0.438672 -0.103752\n",
       "2019-01-01 23:56:00  1.386553  0.659808  0.263697 -0.682362\n",
       "2019-01-01 23:57:00 -0.029650  0.736601  0.014522 -1.050535\n",
       "2019-01-01 23:58:00 -1.054997  0.327683 -0.834611 -0.006404\n",
       "2019-01-01 23:59:00 -1.343156  0.524987  0.742551  3.531406\n",
       "\n",
       "[1440 rows x 4 columns]"
      ],
      "text/html": [
       "<div>\n",
       "<style scoped>\n",
       "    .dataframe tbody tr th:only-of-type {\n",
       "        vertical-align: middle;\n",
       "    }\n",
       "\n",
       "    .dataframe tbody tr th {\n",
       "        vertical-align: top;\n",
       "    }\n",
       "\n",
       "    .dataframe thead th {\n",
       "        text-align: right;\n",
       "    }\n",
       "</style>\n",
       "<table border=\"1\" class=\"dataframe\">\n",
       "  <thead>\n",
       "    <tr style=\"text-align: right;\">\n",
       "      <th></th>\n",
       "      <th>SPY</th>\n",
       "      <th>TLT</th>\n",
       "      <th>VXX</th>\n",
       "      <th>QQQ</th>\n",
       "    </tr>\n",
       "  </thead>\n",
       "  <tbody>\n",
       "    <tr>\n",
       "      <th>2019-01-01 00:00:00</th>\n",
       "      <td>1.335127</td>\n",
       "      <td>1.923201</td>\n",
       "      <td>-0.194784</td>\n",
       "      <td>-0.046646</td>\n",
       "    </tr>\n",
       "    <tr>\n",
       "      <th>2019-01-01 00:01:00</th>\n",
       "      <td>2.464517</td>\n",
       "      <td>-0.138832</td>\n",
       "      <td>0.438266</td>\n",
       "      <td>-1.491423</td>\n",
       "    </tr>\n",
       "    <tr>\n",
       "      <th>2019-01-01 00:02:00</th>\n",
       "      <td>0.281060</td>\n",
       "      <td>2.020120</td>\n",
       "      <td>1.596849</td>\n",
       "      <td>0.121366</td>\n",
       "    </tr>\n",
       "    <tr>\n",
       "      <th>2019-01-01 00:03:00</th>\n",
       "      <td>-0.420897</td>\n",
       "      <td>0.768468</td>\n",
       "      <td>-0.579175</td>\n",
       "      <td>-0.673029</td>\n",
       "    </tr>\n",
       "    <tr>\n",
       "      <th>2019-01-01 00:04:00</th>\n",
       "      <td>-1.429182</td>\n",
       "      <td>0.354764</td>\n",
       "      <td>1.055156</td>\n",
       "      <td>-0.215394</td>\n",
       "    </tr>\n",
       "    <tr>\n",
       "      <th>...</th>\n",
       "      <td>...</td>\n",
       "      <td>...</td>\n",
       "      <td>...</td>\n",
       "      <td>...</td>\n",
       "    </tr>\n",
       "    <tr>\n",
       "      <th>2019-01-01 23:55:00</th>\n",
       "      <td>0.528729</td>\n",
       "      <td>0.069294</td>\n",
       "      <td>0.438672</td>\n",
       "      <td>-0.103752</td>\n",
       "    </tr>\n",
       "    <tr>\n",
       "      <th>2019-01-01 23:56:00</th>\n",
       "      <td>1.386553</td>\n",
       "      <td>0.659808</td>\n",
       "      <td>0.263697</td>\n",
       "      <td>-0.682362</td>\n",
       "    </tr>\n",
       "    <tr>\n",
       "      <th>2019-01-01 23:57:00</th>\n",
       "      <td>-0.029650</td>\n",
       "      <td>0.736601</td>\n",
       "      <td>0.014522</td>\n",
       "      <td>-1.050535</td>\n",
       "    </tr>\n",
       "    <tr>\n",
       "      <th>2019-01-01 23:58:00</th>\n",
       "      <td>-1.054997</td>\n",
       "      <td>0.327683</td>\n",
       "      <td>-0.834611</td>\n",
       "      <td>-0.006404</td>\n",
       "    </tr>\n",
       "    <tr>\n",
       "      <th>2019-01-01 23:59:00</th>\n",
       "      <td>-1.343156</td>\n",
       "      <td>0.524987</td>\n",
       "      <td>0.742551</td>\n",
       "      <td>3.531406</td>\n",
       "    </tr>\n",
       "  </tbody>\n",
       "</table>\n",
       "<p>1440 rows × 4 columns</p>\n",
       "</div>"
      ]
     },
     "execution_count": 22,
     "metadata": {},
     "output_type": "execute_result"
    }
   ],
   "execution_count": 22
  },
  {
   "metadata": {
    "ExecuteTime": {
     "end_time": "2025-09-16T15:40:45.154952Z",
     "start_time": "2025-09-16T15:40:45.051951Z"
    }
   },
   "cell_type": "code",
   "source": "df.resample('M').sum()",
   "id": "37aff5a6fa07aa9e",
   "outputs": [
    {
     "name": "stderr",
     "output_type": "stream",
     "text": [
      "C:\\Users\\vansh\\AppData\\Local\\Temp\\ipykernel_3424\\2412811611.py:1: FutureWarning: 'M' is deprecated and will be removed in a future version, please use 'ME' instead.\n",
      "  df.resample('M').sum()\n"
     ]
    },
    {
     "data": {
      "text/plain": [
       "                   SPY         TLT         VXX         QQQ\n",
       "2019-01-31 -107.993053 -434.035877 -353.967031  -41.579795\n",
       "2019-02-28 -149.951361  355.121043   63.290478  348.015200\n",
       "2019-03-31 -180.109541  102.962527  123.037583 -182.161901\n",
       "2019-04-30 -215.796445  145.660687 -247.987642  -63.895568\n",
       "2019-05-31 -195.423460 -144.394673  132.348341   73.334301\n",
       "2019-06-30  199.195167  -44.196503  -50.373951  165.263958\n",
       "2019-07-31   30.885569   80.959855 -405.767485 -114.158429\n",
       "2019-08-31   46.648029  -36.863892 -141.303292  -81.161239\n",
       "2019-09-30  264.223197   78.433378    9.088550  314.577956\n",
       "2019-10-31  -54.116430   48.791386   82.454356  175.076325\n",
       "2019-11-30 -201.905040 -273.542488  -96.828160   -9.896174\n",
       "2019-12-31  -61.091485  194.518573  283.857539 -207.553403\n",
       "2020-01-31   43.363307 -398.669573   40.229876 -107.112425\n",
       "2020-02-29 -127.365152  157.276348  -39.851180  201.248789\n",
       "2020-03-31 -129.308123   21.620809  -33.855395  -15.878213\n",
       "2020-04-30  -55.679155  225.479794   26.327530 -495.282929\n",
       "2020-05-31  446.328026  133.662765  481.274802  -72.923348\n",
       "2020-06-30 -115.834029 -399.911931  320.856706  138.130030\n",
       "2020-07-31  312.626085   48.804848  290.720464  102.726267\n",
       "2020-08-31   14.969816   13.362106  135.548610  268.728983\n",
       "2020-09-30  142.307100   96.351715 -188.700205  204.611427\n",
       "2020-10-31  -88.995111   10.632098  390.937578   71.292231\n",
       "2020-11-30  -91.861750 -453.995531 -229.277039   92.995418\n",
       "2020-12-31   -1.756204  -36.072277  219.455946   66.889760\n",
       "2021-01-31    0.899447  146.933404   78.712840 -103.760686\n",
       "2021-02-28  -36.239553  391.337563 -408.573744 -184.647206\n",
       "2021-03-31 -395.801737  -58.812275 -371.587499 -196.048460\n",
       "2021-04-30   14.440072  -81.060806  258.751573 -286.878069\n",
       "2021-05-31   19.186937  -50.256052  150.636434   62.723276\n",
       "2021-06-30  128.008515 -103.209599  279.057299  -68.715092"
      ],
      "text/html": [
       "<div>\n",
       "<style scoped>\n",
       "    .dataframe tbody tr th:only-of-type {\n",
       "        vertical-align: middle;\n",
       "    }\n",
       "\n",
       "    .dataframe tbody tr th {\n",
       "        vertical-align: top;\n",
       "    }\n",
       "\n",
       "    .dataframe thead th {\n",
       "        text-align: right;\n",
       "    }\n",
       "</style>\n",
       "<table border=\"1\" class=\"dataframe\">\n",
       "  <thead>\n",
       "    <tr style=\"text-align: right;\">\n",
       "      <th></th>\n",
       "      <th>SPY</th>\n",
       "      <th>TLT</th>\n",
       "      <th>VXX</th>\n",
       "      <th>QQQ</th>\n",
       "    </tr>\n",
       "  </thead>\n",
       "  <tbody>\n",
       "    <tr>\n",
       "      <th>2019-01-31</th>\n",
       "      <td>-107.993053</td>\n",
       "      <td>-434.035877</td>\n",
       "      <td>-353.967031</td>\n",
       "      <td>-41.579795</td>\n",
       "    </tr>\n",
       "    <tr>\n",
       "      <th>2019-02-28</th>\n",
       "      <td>-149.951361</td>\n",
       "      <td>355.121043</td>\n",
       "      <td>63.290478</td>\n",
       "      <td>348.015200</td>\n",
       "    </tr>\n",
       "    <tr>\n",
       "      <th>2019-03-31</th>\n",
       "      <td>-180.109541</td>\n",
       "      <td>102.962527</td>\n",
       "      <td>123.037583</td>\n",
       "      <td>-182.161901</td>\n",
       "    </tr>\n",
       "    <tr>\n",
       "      <th>2019-04-30</th>\n",
       "      <td>-215.796445</td>\n",
       "      <td>145.660687</td>\n",
       "      <td>-247.987642</td>\n",
       "      <td>-63.895568</td>\n",
       "    </tr>\n",
       "    <tr>\n",
       "      <th>2019-05-31</th>\n",
       "      <td>-195.423460</td>\n",
       "      <td>-144.394673</td>\n",
       "      <td>132.348341</td>\n",
       "      <td>73.334301</td>\n",
       "    </tr>\n",
       "    <tr>\n",
       "      <th>2019-06-30</th>\n",
       "      <td>199.195167</td>\n",
       "      <td>-44.196503</td>\n",
       "      <td>-50.373951</td>\n",
       "      <td>165.263958</td>\n",
       "    </tr>\n",
       "    <tr>\n",
       "      <th>2019-07-31</th>\n",
       "      <td>30.885569</td>\n",
       "      <td>80.959855</td>\n",
       "      <td>-405.767485</td>\n",
       "      <td>-114.158429</td>\n",
       "    </tr>\n",
       "    <tr>\n",
       "      <th>2019-08-31</th>\n",
       "      <td>46.648029</td>\n",
       "      <td>-36.863892</td>\n",
       "      <td>-141.303292</td>\n",
       "      <td>-81.161239</td>\n",
       "    </tr>\n",
       "    <tr>\n",
       "      <th>2019-09-30</th>\n",
       "      <td>264.223197</td>\n",
       "      <td>78.433378</td>\n",
       "      <td>9.088550</td>\n",
       "      <td>314.577956</td>\n",
       "    </tr>\n",
       "    <tr>\n",
       "      <th>2019-10-31</th>\n",
       "      <td>-54.116430</td>\n",
       "      <td>48.791386</td>\n",
       "      <td>82.454356</td>\n",
       "      <td>175.076325</td>\n",
       "    </tr>\n",
       "    <tr>\n",
       "      <th>2019-11-30</th>\n",
       "      <td>-201.905040</td>\n",
       "      <td>-273.542488</td>\n",
       "      <td>-96.828160</td>\n",
       "      <td>-9.896174</td>\n",
       "    </tr>\n",
       "    <tr>\n",
       "      <th>2019-12-31</th>\n",
       "      <td>-61.091485</td>\n",
       "      <td>194.518573</td>\n",
       "      <td>283.857539</td>\n",
       "      <td>-207.553403</td>\n",
       "    </tr>\n",
       "    <tr>\n",
       "      <th>2020-01-31</th>\n",
       "      <td>43.363307</td>\n",
       "      <td>-398.669573</td>\n",
       "      <td>40.229876</td>\n",
       "      <td>-107.112425</td>\n",
       "    </tr>\n",
       "    <tr>\n",
       "      <th>2020-02-29</th>\n",
       "      <td>-127.365152</td>\n",
       "      <td>157.276348</td>\n",
       "      <td>-39.851180</td>\n",
       "      <td>201.248789</td>\n",
       "    </tr>\n",
       "    <tr>\n",
       "      <th>2020-03-31</th>\n",
       "      <td>-129.308123</td>\n",
       "      <td>21.620809</td>\n",
       "      <td>-33.855395</td>\n",
       "      <td>-15.878213</td>\n",
       "    </tr>\n",
       "    <tr>\n",
       "      <th>2020-04-30</th>\n",
       "      <td>-55.679155</td>\n",
       "      <td>225.479794</td>\n",
       "      <td>26.327530</td>\n",
       "      <td>-495.282929</td>\n",
       "    </tr>\n",
       "    <tr>\n",
       "      <th>2020-05-31</th>\n",
       "      <td>446.328026</td>\n",
       "      <td>133.662765</td>\n",
       "      <td>481.274802</td>\n",
       "      <td>-72.923348</td>\n",
       "    </tr>\n",
       "    <tr>\n",
       "      <th>2020-06-30</th>\n",
       "      <td>-115.834029</td>\n",
       "      <td>-399.911931</td>\n",
       "      <td>320.856706</td>\n",
       "      <td>138.130030</td>\n",
       "    </tr>\n",
       "    <tr>\n",
       "      <th>2020-07-31</th>\n",
       "      <td>312.626085</td>\n",
       "      <td>48.804848</td>\n",
       "      <td>290.720464</td>\n",
       "      <td>102.726267</td>\n",
       "    </tr>\n",
       "    <tr>\n",
       "      <th>2020-08-31</th>\n",
       "      <td>14.969816</td>\n",
       "      <td>13.362106</td>\n",
       "      <td>135.548610</td>\n",
       "      <td>268.728983</td>\n",
       "    </tr>\n",
       "    <tr>\n",
       "      <th>2020-09-30</th>\n",
       "      <td>142.307100</td>\n",
       "      <td>96.351715</td>\n",
       "      <td>-188.700205</td>\n",
       "      <td>204.611427</td>\n",
       "    </tr>\n",
       "    <tr>\n",
       "      <th>2020-10-31</th>\n",
       "      <td>-88.995111</td>\n",
       "      <td>10.632098</td>\n",
       "      <td>390.937578</td>\n",
       "      <td>71.292231</td>\n",
       "    </tr>\n",
       "    <tr>\n",
       "      <th>2020-11-30</th>\n",
       "      <td>-91.861750</td>\n",
       "      <td>-453.995531</td>\n",
       "      <td>-229.277039</td>\n",
       "      <td>92.995418</td>\n",
       "    </tr>\n",
       "    <tr>\n",
       "      <th>2020-12-31</th>\n",
       "      <td>-1.756204</td>\n",
       "      <td>-36.072277</td>\n",
       "      <td>219.455946</td>\n",
       "      <td>66.889760</td>\n",
       "    </tr>\n",
       "    <tr>\n",
       "      <th>2021-01-31</th>\n",
       "      <td>0.899447</td>\n",
       "      <td>146.933404</td>\n",
       "      <td>78.712840</td>\n",
       "      <td>-103.760686</td>\n",
       "    </tr>\n",
       "    <tr>\n",
       "      <th>2021-02-28</th>\n",
       "      <td>-36.239553</td>\n",
       "      <td>391.337563</td>\n",
       "      <td>-408.573744</td>\n",
       "      <td>-184.647206</td>\n",
       "    </tr>\n",
       "    <tr>\n",
       "      <th>2021-03-31</th>\n",
       "      <td>-395.801737</td>\n",
       "      <td>-58.812275</td>\n",
       "      <td>-371.587499</td>\n",
       "      <td>-196.048460</td>\n",
       "    </tr>\n",
       "    <tr>\n",
       "      <th>2021-04-30</th>\n",
       "      <td>14.440072</td>\n",
       "      <td>-81.060806</td>\n",
       "      <td>258.751573</td>\n",
       "      <td>-286.878069</td>\n",
       "    </tr>\n",
       "    <tr>\n",
       "      <th>2021-05-31</th>\n",
       "      <td>19.186937</td>\n",
       "      <td>-50.256052</td>\n",
       "      <td>150.636434</td>\n",
       "      <td>62.723276</td>\n",
       "    </tr>\n",
       "    <tr>\n",
       "      <th>2021-06-30</th>\n",
       "      <td>128.008515</td>\n",
       "      <td>-103.209599</td>\n",
       "      <td>279.057299</td>\n",
       "      <td>-68.715092</td>\n",
       "    </tr>\n",
       "  </tbody>\n",
       "</table>\n",
       "</div>"
      ]
     },
     "execution_count": 23,
     "metadata": {},
     "output_type": "execute_result"
    }
   ],
   "execution_count": 23
  },
  {
   "metadata": {
    "ExecuteTime": {
     "end_time": "2025-09-16T15:41:32.006433Z",
     "start_time": "2025-09-16T15:41:31.912070Z"
    }
   },
   "cell_type": "code",
   "source": [
    "#5 minutes high\n",
    "df.resample('5min').max()"
   ],
   "id": "eca75ef11e7a5258",
   "outputs": [
    {
     "data": {
      "text/plain": [
       "                          SPY       TLT       VXX       QQQ\n",
       "2019-01-01 00:00:00  2.464517  2.020120  1.596849  0.121366\n",
       "2019-01-01 00:05:00  1.031699  2.974756  1.597129  2.265044\n",
       "2019-01-01 00:10:00  0.538665  1.534479  1.277173  1.202483\n",
       "2019-01-01 00:15:00  0.822432  0.230302  1.966579  1.128960\n",
       "2019-01-01 00:20:00 -0.106741  1.626884  0.792427  0.757400\n",
       "...                       ...       ...       ...       ...\n",
       "2021-06-29 23:40:00  2.020498  2.434305  1.714558  0.910743\n",
       "2021-06-29 23:45:00  1.784942  1.807657  1.276803  0.950642\n",
       "2021-06-29 23:50:00 -0.385912  1.351848  1.313781  0.974512\n",
       "2021-06-29 23:55:00  0.804565  1.828686  0.714806  0.339061\n",
       "2021-06-30 00:00:00 -0.927473 -0.864370  0.295103  1.262059\n",
       "\n",
       "[262369 rows x 4 columns]"
      ],
      "text/html": [
       "<div>\n",
       "<style scoped>\n",
       "    .dataframe tbody tr th:only-of-type {\n",
       "        vertical-align: middle;\n",
       "    }\n",
       "\n",
       "    .dataframe tbody tr th {\n",
       "        vertical-align: top;\n",
       "    }\n",
       "\n",
       "    .dataframe thead th {\n",
       "        text-align: right;\n",
       "    }\n",
       "</style>\n",
       "<table border=\"1\" class=\"dataframe\">\n",
       "  <thead>\n",
       "    <tr style=\"text-align: right;\">\n",
       "      <th></th>\n",
       "      <th>SPY</th>\n",
       "      <th>TLT</th>\n",
       "      <th>VXX</th>\n",
       "      <th>QQQ</th>\n",
       "    </tr>\n",
       "  </thead>\n",
       "  <tbody>\n",
       "    <tr>\n",
       "      <th>2019-01-01 00:00:00</th>\n",
       "      <td>2.464517</td>\n",
       "      <td>2.020120</td>\n",
       "      <td>1.596849</td>\n",
       "      <td>0.121366</td>\n",
       "    </tr>\n",
       "    <tr>\n",
       "      <th>2019-01-01 00:05:00</th>\n",
       "      <td>1.031699</td>\n",
       "      <td>2.974756</td>\n",
       "      <td>1.597129</td>\n",
       "      <td>2.265044</td>\n",
       "    </tr>\n",
       "    <tr>\n",
       "      <th>2019-01-01 00:10:00</th>\n",
       "      <td>0.538665</td>\n",
       "      <td>1.534479</td>\n",
       "      <td>1.277173</td>\n",
       "      <td>1.202483</td>\n",
       "    </tr>\n",
       "    <tr>\n",
       "      <th>2019-01-01 00:15:00</th>\n",
       "      <td>0.822432</td>\n",
       "      <td>0.230302</td>\n",
       "      <td>1.966579</td>\n",
       "      <td>1.128960</td>\n",
       "    </tr>\n",
       "    <tr>\n",
       "      <th>2019-01-01 00:20:00</th>\n",
       "      <td>-0.106741</td>\n",
       "      <td>1.626884</td>\n",
       "      <td>0.792427</td>\n",
       "      <td>0.757400</td>\n",
       "    </tr>\n",
       "    <tr>\n",
       "      <th>...</th>\n",
       "      <td>...</td>\n",
       "      <td>...</td>\n",
       "      <td>...</td>\n",
       "      <td>...</td>\n",
       "    </tr>\n",
       "    <tr>\n",
       "      <th>2021-06-29 23:40:00</th>\n",
       "      <td>2.020498</td>\n",
       "      <td>2.434305</td>\n",
       "      <td>1.714558</td>\n",
       "      <td>0.910743</td>\n",
       "    </tr>\n",
       "    <tr>\n",
       "      <th>2021-06-29 23:45:00</th>\n",
       "      <td>1.784942</td>\n",
       "      <td>1.807657</td>\n",
       "      <td>1.276803</td>\n",
       "      <td>0.950642</td>\n",
       "    </tr>\n",
       "    <tr>\n",
       "      <th>2021-06-29 23:50:00</th>\n",
       "      <td>-0.385912</td>\n",
       "      <td>1.351848</td>\n",
       "      <td>1.313781</td>\n",
       "      <td>0.974512</td>\n",
       "    </tr>\n",
       "    <tr>\n",
       "      <th>2021-06-29 23:55:00</th>\n",
       "      <td>0.804565</td>\n",
       "      <td>1.828686</td>\n",
       "      <td>0.714806</td>\n",
       "      <td>0.339061</td>\n",
       "    </tr>\n",
       "    <tr>\n",
       "      <th>2021-06-30 00:00:00</th>\n",
       "      <td>-0.927473</td>\n",
       "      <td>-0.864370</td>\n",
       "      <td>0.295103</td>\n",
       "      <td>1.262059</td>\n",
       "    </tr>\n",
       "  </tbody>\n",
       "</table>\n",
       "<p>262369 rows × 4 columns</p>\n",
       "</div>"
      ]
     },
     "execution_count": 24,
     "metadata": {},
     "output_type": "execute_result"
    }
   ],
   "execution_count": 24
  },
  {
   "metadata": {
    "ExecuteTime": {
     "end_time": "2025-09-16T15:42:04.951736Z",
     "start_time": "2025-09-16T15:42:04.880284Z"
    }
   },
   "cell_type": "code",
   "source": [
    "#close\n",
    "df.resample('5min').last()"
   ],
   "id": "4f0149ca83065880",
   "outputs": [
    {
     "data": {
      "text/plain": [
       "                          SPY       TLT       VXX       QQQ\n",
       "2019-01-01 00:00:00 -1.429182  0.354764  1.055156 -0.215394\n",
       "2019-01-01 00:05:00 -0.330667  0.722417  0.997601  0.727924\n",
       "2019-01-01 00:10:00 -0.008116  1.534479  1.008629  1.202483\n",
       "2019-01-01 00:15:00  0.347139 -0.248717 -0.319618  1.128960\n",
       "2019-01-01 00:20:00 -0.106741  0.174162 -0.157360  0.650114\n",
       "...                       ...       ...       ...       ...\n",
       "2021-06-29 23:40:00  1.086720  0.257366 -0.369001  0.356162\n",
       "2021-06-29 23:45:00 -0.343682  0.785044  0.103649 -0.597539\n",
       "2021-06-29 23:50:00 -1.295771  0.213580 -1.942802 -0.048432\n",
       "2021-06-29 23:55:00  0.750897  0.194549  0.485391 -0.464864\n",
       "2021-06-30 00:00:00 -0.927473 -0.864370  0.295103  1.262059\n",
       "\n",
       "[262369 rows x 4 columns]"
      ],
      "text/html": [
       "<div>\n",
       "<style scoped>\n",
       "    .dataframe tbody tr th:only-of-type {\n",
       "        vertical-align: middle;\n",
       "    }\n",
       "\n",
       "    .dataframe tbody tr th {\n",
       "        vertical-align: top;\n",
       "    }\n",
       "\n",
       "    .dataframe thead th {\n",
       "        text-align: right;\n",
       "    }\n",
       "</style>\n",
       "<table border=\"1\" class=\"dataframe\">\n",
       "  <thead>\n",
       "    <tr style=\"text-align: right;\">\n",
       "      <th></th>\n",
       "      <th>SPY</th>\n",
       "      <th>TLT</th>\n",
       "      <th>VXX</th>\n",
       "      <th>QQQ</th>\n",
       "    </tr>\n",
       "  </thead>\n",
       "  <tbody>\n",
       "    <tr>\n",
       "      <th>2019-01-01 00:00:00</th>\n",
       "      <td>-1.429182</td>\n",
       "      <td>0.354764</td>\n",
       "      <td>1.055156</td>\n",
       "      <td>-0.215394</td>\n",
       "    </tr>\n",
       "    <tr>\n",
       "      <th>2019-01-01 00:05:00</th>\n",
       "      <td>-0.330667</td>\n",
       "      <td>0.722417</td>\n",
       "      <td>0.997601</td>\n",
       "      <td>0.727924</td>\n",
       "    </tr>\n",
       "    <tr>\n",
       "      <th>2019-01-01 00:10:00</th>\n",
       "      <td>-0.008116</td>\n",
       "      <td>1.534479</td>\n",
       "      <td>1.008629</td>\n",
       "      <td>1.202483</td>\n",
       "    </tr>\n",
       "    <tr>\n",
       "      <th>2019-01-01 00:15:00</th>\n",
       "      <td>0.347139</td>\n",
       "      <td>-0.248717</td>\n",
       "      <td>-0.319618</td>\n",
       "      <td>1.128960</td>\n",
       "    </tr>\n",
       "    <tr>\n",
       "      <th>2019-01-01 00:20:00</th>\n",
       "      <td>-0.106741</td>\n",
       "      <td>0.174162</td>\n",
       "      <td>-0.157360</td>\n",
       "      <td>0.650114</td>\n",
       "    </tr>\n",
       "    <tr>\n",
       "      <th>...</th>\n",
       "      <td>...</td>\n",
       "      <td>...</td>\n",
       "      <td>...</td>\n",
       "      <td>...</td>\n",
       "    </tr>\n",
       "    <tr>\n",
       "      <th>2021-06-29 23:40:00</th>\n",
       "      <td>1.086720</td>\n",
       "      <td>0.257366</td>\n",
       "      <td>-0.369001</td>\n",
       "      <td>0.356162</td>\n",
       "    </tr>\n",
       "    <tr>\n",
       "      <th>2021-06-29 23:45:00</th>\n",
       "      <td>-0.343682</td>\n",
       "      <td>0.785044</td>\n",
       "      <td>0.103649</td>\n",
       "      <td>-0.597539</td>\n",
       "    </tr>\n",
       "    <tr>\n",
       "      <th>2021-06-29 23:50:00</th>\n",
       "      <td>-1.295771</td>\n",
       "      <td>0.213580</td>\n",
       "      <td>-1.942802</td>\n",
       "      <td>-0.048432</td>\n",
       "    </tr>\n",
       "    <tr>\n",
       "      <th>2021-06-29 23:55:00</th>\n",
       "      <td>0.750897</td>\n",
       "      <td>0.194549</td>\n",
       "      <td>0.485391</td>\n",
       "      <td>-0.464864</td>\n",
       "    </tr>\n",
       "    <tr>\n",
       "      <th>2021-06-30 00:00:00</th>\n",
       "      <td>-0.927473</td>\n",
       "      <td>-0.864370</td>\n",
       "      <td>0.295103</td>\n",
       "      <td>1.262059</td>\n",
       "    </tr>\n",
       "  </tbody>\n",
       "</table>\n",
       "<p>262369 rows × 4 columns</p>\n",
       "</div>"
      ]
     },
     "execution_count": 25,
     "metadata": {},
     "output_type": "execute_result"
    }
   ],
   "execution_count": 25
  }
 ],
 "metadata": {
  "kernelspec": {
   "display_name": "Python 3",
   "language": "python",
   "name": "python3"
  },
  "language_info": {
   "codemirror_mode": {
    "name": "ipython",
    "version": 2
   },
   "file_extension": ".py",
   "mimetype": "text/x-python",
   "name": "python",
   "nbconvert_exporter": "python",
   "pygments_lexer": "ipython2",
   "version": "2.7.6"
  }
 },
 "nbformat": 4,
 "nbformat_minor": 5
}
