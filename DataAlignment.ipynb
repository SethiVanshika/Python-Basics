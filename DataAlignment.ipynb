{
 "cells": [
  {
   "cell_type": "code",
   "id": "initial_id",
   "metadata": {
    "collapsed": true,
    "ExecuteTime": {
     "end_time": "2025-09-13T22:44:12.211845Z",
     "start_time": "2025-09-13T22:44:12.187132Z"
    }
   },
   "source": [
    "#Series Data Alignment\n",
    "#Arithmetic Alignment\n",
    "#Boolean Alignment\n",
    "import pandas as pd\n",
    "ret1=pd.Series({'VXX':0.01, 'AAPL':0.01,'LULU':0.01,'TSLA':-0.03,'MSFT':-0.01})\n",
    "ret1\n"
   ],
   "outputs": [
    {
     "data": {
      "text/plain": [
       "VXX     0.01\n",
       "AAPL    0.01\n",
       "LULU    0.01\n",
       "TSLA   -0.03\n",
       "MSFT   -0.01\n",
       "dtype: float64"
      ]
     },
     "execution_count": 4,
     "metadata": {},
     "output_type": "execute_result"
    }
   ],
   "execution_count": 4
  },
  {
   "metadata": {
    "ExecuteTime": {
     "end_time": "2025-09-13T22:45:14.562404Z",
     "start_time": "2025-09-13T22:45:14.550747Z"
    }
   },
   "cell_type": "code",
   "source": [
    "ret2 = pd.Series({'VXX':0.02,'AAPL':-0.01, 'LULU':0.02,'TSLA':-0.03,'MSFT':-0.01})\n",
    "ret2"
   ],
   "id": "cd17428cd8cc8617",
   "outputs": [
    {
     "data": {
      "text/plain": [
       "VXX     0.02\n",
       "AAPL   -0.01\n",
       "LULU    0.02\n",
       "TSLA   -0.03\n",
       "MSFT   -0.01\n",
       "dtype: float64"
      ]
     },
     "execution_count": 5,
     "metadata": {},
     "output_type": "execute_result"
    }
   ],
   "execution_count": 5
  },
  {
   "metadata": {
    "ExecuteTime": {
     "end_time": "2025-09-13T22:45:31.121206Z",
     "start_time": "2025-09-13T22:45:31.112587Z"
    }
   },
   "cell_type": "code",
   "source": "ret2 + ret1",
   "id": "a1a1e5aacf293fe4",
   "outputs": [
    {
     "data": {
      "text/plain": [
       "VXX     0.03\n",
       "AAPL    0.00\n",
       "LULU    0.03\n",
       "TSLA   -0.06\n",
       "MSFT   -0.02\n",
       "dtype: float64"
      ]
     },
     "execution_count": 6,
     "metadata": {},
     "output_type": "execute_result"
    }
   ],
   "execution_count": 6
  },
  {
   "metadata": {
    "ExecuteTime": {
     "end_time": "2025-09-13T22:46:26.620586Z",
     "start_time": "2025-09-13T22:46:26.607222Z"
    }
   },
   "cell_type": "code",
   "source": [
    "ret3=pd.Series({'TSLA':-0.01, 'AAPL':0.02})\n",
    "ret3"
   ],
   "id": "d42c39ddb596f5ec",
   "outputs": [
    {
     "data": {
      "text/plain": [
       "TSLA   -0.01\n",
       "AAPL    0.02\n",
       "dtype: float64"
      ]
     },
     "execution_count": 8,
     "metadata": {},
     "output_type": "execute_result"
    }
   ],
   "execution_count": 8
  },
  {
   "metadata": {
    "ExecuteTime": {
     "end_time": "2025-09-13T22:46:34.177379Z",
     "start_time": "2025-09-13T22:46:34.145290Z"
    }
   },
   "cell_type": "code",
   "source": "ret1+ret3",
   "id": "cf07ea4eb33eea2c",
   "outputs": [
    {
     "data": {
      "text/plain": [
       "AAPL    0.03\n",
       "LULU     NaN\n",
       "MSFT     NaN\n",
       "TSLA   -0.04\n",
       "VXX      NaN\n",
       "dtype: float64"
      ]
     },
     "execution_count": 9,
     "metadata": {},
     "output_type": "execute_result"
    }
   ],
   "execution_count": 9
  },
  {
   "metadata": {
    "ExecuteTime": {
     "end_time": "2025-09-13T22:46:56.712776Z",
     "start_time": "2025-09-13T22:46:56.693533Z"
    }
   },
   "cell_type": "code",
   "source": "ret1.add(ret3, fill_value=0)",
   "id": "8a38d8f8d44c9cff",
   "outputs": [
    {
     "data": {
      "text/plain": [
       "AAPL    0.03\n",
       "LULU    0.01\n",
       "MSFT   -0.01\n",
       "TSLA   -0.04\n",
       "VXX     0.01\n",
       "dtype: float64"
      ]
     },
     "execution_count": 10,
     "metadata": {},
     "output_type": "execute_result"
    }
   ],
   "execution_count": 10
  },
  {
   "metadata": {
    "ExecuteTime": {
     "end_time": "2025-09-13T22:47:24.193342Z",
     "start_time": "2025-09-13T22:47:24.170897Z"
    }
   },
   "cell_type": "code",
   "source": [
    "#Boolean Alignment\n",
    "ret1 > ret2"
   ],
   "id": "a50b9a93eae0fdff",
   "outputs": [
    {
     "data": {
      "text/plain": [
       "VXX     False\n",
       "AAPL     True\n",
       "LULU    False\n",
       "TSLA    False\n",
       "MSFT    False\n",
       "dtype: bool"
      ]
     },
     "execution_count": 11,
     "metadata": {},
     "output_type": "execute_result"
    }
   ],
   "execution_count": 11
  },
  {
   "metadata": {
    "ExecuteTime": {
     "end_time": "2025-09-13T22:48:47.677786Z",
     "start_time": "2025-09-13T22:48:47.667466Z"
    }
   },
   "cell_type": "code",
   "source": [
    "bool1 = (ret1 > 0)\n",
    "bool1"
   ],
   "id": "e427b2fee7bd83bb",
   "outputs": [
    {
     "data": {
      "text/plain": [
       "VXX      True\n",
       "AAPL     True\n",
       "LULU     True\n",
       "TSLA    False\n",
       "MSFT    False\n",
       "dtype: bool"
      ]
     },
     "execution_count": 13,
     "metadata": {},
     "output_type": "execute_result"
    }
   ],
   "execution_count": 13
  },
  {
   "metadata": {
    "ExecuteTime": {
     "end_time": "2025-09-13T22:49:05.133854Z",
     "start_time": "2025-09-13T22:49:05.125569Z"
    }
   },
   "cell_type": "code",
   "source": [
    "bool2 = (ret2 > 0)\n",
    "bool2"
   ],
   "id": "4acee19b51b47060",
   "outputs": [
    {
     "data": {
      "text/plain": [
       "VXX      True\n",
       "AAPL    False\n",
       "LULU     True\n",
       "TSLA    False\n",
       "MSFT    False\n",
       "dtype: bool"
      ]
     },
     "execution_count": 14,
     "metadata": {},
     "output_type": "execute_result"
    }
   ],
   "execution_count": 14
  },
  {
   "metadata": {
    "ExecuteTime": {
     "end_time": "2025-09-13T22:49:16.906063Z",
     "start_time": "2025-09-13T22:49:16.896262Z"
    }
   },
   "cell_type": "code",
   "source": "bool1 & bool2",
   "id": "9c2246d94df1b9a7",
   "outputs": [
    {
     "data": {
      "text/plain": [
       "VXX      True\n",
       "AAPL    False\n",
       "LULU     True\n",
       "TSLA    False\n",
       "MSFT    False\n",
       "dtype: bool"
      ]
     },
     "execution_count": 15,
     "metadata": {},
     "output_type": "execute_result"
    }
   ],
   "execution_count": 15
  },
  {
   "metadata": {
    "ExecuteTime": {
     "end_time": "2025-09-13T22:49:29.392945Z",
     "start_time": "2025-09-13T22:49:29.385170Z"
    }
   },
   "cell_type": "code",
   "source": "bool1 | bool2",
   "id": "b6aa2405f87acf23",
   "outputs": [
    {
     "data": {
      "text/plain": [
       "VXX      True\n",
       "AAPL     True\n",
       "LULU     True\n",
       "TSLA    False\n",
       "MSFT    False\n",
       "dtype: bool"
      ]
     },
     "execution_count": 16,
     "metadata": {},
     "output_type": "execute_result"
    }
   ],
   "execution_count": 16
  },
  {
   "metadata": {
    "ExecuteTime": {
     "end_time": "2025-09-13T22:54:07.188698Z",
     "start_time": "2025-09-13T22:54:07.151676Z"
    }
   },
   "cell_type": "code",
   "source": "bool2 & bool1[['VXX']]",
   "id": "a27245b704cffe2",
   "outputs": [
    {
     "data": {
      "text/plain": [
       "AAPL    False\n",
       "LULU    False\n",
       "MSFT    False\n",
       "TSLA    False\n",
       "VXX      True\n",
       "dtype: bool"
      ]
     },
     "execution_count": 18,
     "metadata": {},
     "output_type": "execute_result"
    }
   ],
   "execution_count": 18
  }
 ],
 "metadata": {
  "kernelspec": {
   "display_name": "Python 3",
   "language": "python",
   "name": "python3"
  },
  "language_info": {
   "codemirror_mode": {
    "name": "ipython",
    "version": 2
   },
   "file_extension": ".py",
   "mimetype": "text/x-python",
   "name": "python",
   "nbconvert_exporter": "python",
   "pygments_lexer": "ipython2",
   "version": "2.7.6"
  }
 },
 "nbformat": 4,
 "nbformat_minor": 5
}
