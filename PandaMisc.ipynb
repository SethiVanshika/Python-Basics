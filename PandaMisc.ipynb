{
 "cells": [
  {
   "metadata": {},
   "cell_type": "markdown",
   "source": "PDB - Debugging Tool",
   "id": "fd6ada1e2ad5d246"
  },
  {
   "metadata": {
    "ExecuteTime": {
     "end_time": "2025-09-16T16:57:37.145830Z",
     "start_time": "2025-09-16T16:56:28.107126Z"
    }
   },
   "cell_type": "code",
   "source": [
    "import pdb\n",
    "\n",
    "\n",
    "for x in ['AAPL','GS']:\n",
    "\n",
    "    if x == 'AAPL':\n",
    "        sector = 'Tech'\n",
    "        tick_sz = len(x)\n",
    "    elif x == 'GS':\n",
    "        sector = 'Finance'\n",
    "        tick_sz = len(x)\n",
    "    pdb.set_trace()"
   ],
   "id": "ac6cd87afa4f7da3",
   "outputs": [
    {
     "name": "stdout",
     "output_type": "stream",
     "text": [
      "> \u001B[32mc:\\users\\vansh\\appdata\\local\\temp\\ipykernel_20464\\3921569306.py\u001B[39m(\u001B[92m4\u001B[39m)\u001B[36m<module>\u001B[39m\u001B[34m()\u001B[39m\n",
      "\n",
      "'AAPL'\n",
      "--KeyboardInterrupt--\n",
      "\n",
      "KeyboardInterrupt: Interrupted by user\n",
      "> \u001B[32mc:\\users\\vansh\\appdata\\local\\temp\\ipykernel_20464\\3921569306.py\u001B[39m(\u001B[92m4\u001B[39m)\u001B[36m<module>\u001B[39m\u001B[34m()\u001B[39m\n",
      "\n",
      "'Finance'\n",
      "2\n"
     ]
    }
   ],
   "execution_count": 8
  },
  {
   "metadata": {},
   "cell_type": "markdown",
   "source": "Rolling",
   "id": "6a53eac9a0dcaf69"
  },
  {
   "metadata": {
    "ExecuteTime": {
     "end_time": "2025-09-16T16:59:24.354791Z",
     "start_time": "2025-09-16T16:59:23.882292Z"
    }
   },
   "cell_type": "code",
   "source": [
    "import pandas as pd\n",
    "import numpy as np\n",
    "\n",
    "univ = ['AAPL','MSFT','BAC','GS']\n",
    "dates = pd.date_range('20110101','20201231')\n",
    "df = pd.DataFrame(np.random.rand(len(dates),len(univ)),index=univ,columns=univ)\n",
    "df"
   ],
   "id": "9c00794875b1a529",
   "outputs": [
    {
     "ename": "ValueError",
     "evalue": "Shape of passed values is (3653, 4), indices imply (4, 4)",
     "output_type": "error",
     "traceback": [
      "\u001B[31m---------------------------------------------------------------------------\u001B[39m",
      "\u001B[31mValueError\u001B[39m                                Traceback (most recent call last)",
      "\u001B[36mCell\u001B[39m\u001B[36m \u001B[39m\u001B[32mIn[10]\u001B[39m\u001B[32m, line 6\u001B[39m\n\u001B[32m      4\u001B[39m univ = [\u001B[33m'\u001B[39m\u001B[33mAAPL\u001B[39m\u001B[33m'\u001B[39m,\u001B[33m'\u001B[39m\u001B[33mMSFT\u001B[39m\u001B[33m'\u001B[39m,\u001B[33m'\u001B[39m\u001B[33mBAC\u001B[39m\u001B[33m'\u001B[39m,\u001B[33m'\u001B[39m\u001B[33mGS\u001B[39m\u001B[33m'\u001B[39m]\n\u001B[32m      5\u001B[39m dates = pd.date_range(\u001B[33m'\u001B[39m\u001B[33m20110101\u001B[39m\u001B[33m'\u001B[39m,\u001B[33m'\u001B[39m\u001B[33m20201231\u001B[39m\u001B[33m'\u001B[39m)\n\u001B[32m----> \u001B[39m\u001B[32m6\u001B[39m df = \u001B[43mpd\u001B[49m\u001B[43m.\u001B[49m\u001B[43mDataFrame\u001B[49m\u001B[43m(\u001B[49m\u001B[43mnp\u001B[49m\u001B[43m.\u001B[49m\u001B[43mrandom\u001B[49m\u001B[43m.\u001B[49m\u001B[43mrand\u001B[49m\u001B[43m(\u001B[49m\u001B[38;5;28;43mlen\u001B[39;49m\u001B[43m(\u001B[49m\u001B[43mdates\u001B[49m\u001B[43m)\u001B[49m\u001B[43m,\u001B[49m\u001B[38;5;28;43mlen\u001B[39;49m\u001B[43m(\u001B[49m\u001B[43muniv\u001B[49m\u001B[43m)\u001B[49m\u001B[43m)\u001B[49m\u001B[43m,\u001B[49m\u001B[43mindex\u001B[49m\u001B[43m=\u001B[49m\u001B[43muniv\u001B[49m\u001B[43m,\u001B[49m\u001B[43mcolumns\u001B[49m\u001B[43m=\u001B[49m\u001B[43muniv\u001B[49m\u001B[43m)\u001B[49m\n\u001B[32m      7\u001B[39m df\n",
      "\u001B[36mFile \u001B[39m\u001B[32m~\\PyCharmMiscProject\\.venv\\Lib\\site-packages\\pandas\\core\\frame.py:827\u001B[39m, in \u001B[36mDataFrame.__init__\u001B[39m\u001B[34m(self, data, index, columns, dtype, copy)\u001B[39m\n\u001B[32m    816\u001B[39m         mgr = dict_to_mgr(\n\u001B[32m    817\u001B[39m             \u001B[38;5;66;03m# error: Item \"ndarray\" of \"Union[ndarray, Series, Index]\" has no\u001B[39;00m\n\u001B[32m    818\u001B[39m             \u001B[38;5;66;03m# attribute \"name\"\u001B[39;00m\n\u001B[32m   (...)\u001B[39m\u001B[32m    824\u001B[39m             copy=_copy,\n\u001B[32m    825\u001B[39m         )\n\u001B[32m    826\u001B[39m     \u001B[38;5;28;01melse\u001B[39;00m:\n\u001B[32m--> \u001B[39m\u001B[32m827\u001B[39m         mgr = \u001B[43mndarray_to_mgr\u001B[49m\u001B[43m(\u001B[49m\n\u001B[32m    828\u001B[39m \u001B[43m            \u001B[49m\u001B[43mdata\u001B[49m\u001B[43m,\u001B[49m\n\u001B[32m    829\u001B[39m \u001B[43m            \u001B[49m\u001B[43mindex\u001B[49m\u001B[43m,\u001B[49m\n\u001B[32m    830\u001B[39m \u001B[43m            \u001B[49m\u001B[43mcolumns\u001B[49m\u001B[43m,\u001B[49m\n\u001B[32m    831\u001B[39m \u001B[43m            \u001B[49m\u001B[43mdtype\u001B[49m\u001B[43m=\u001B[49m\u001B[43mdtype\u001B[49m\u001B[43m,\u001B[49m\n\u001B[32m    832\u001B[39m \u001B[43m            \u001B[49m\u001B[43mcopy\u001B[49m\u001B[43m=\u001B[49m\u001B[43mcopy\u001B[49m\u001B[43m,\u001B[49m\n\u001B[32m    833\u001B[39m \u001B[43m            \u001B[49m\u001B[43mtyp\u001B[49m\u001B[43m=\u001B[49m\u001B[43mmanager\u001B[49m\u001B[43m,\u001B[49m\n\u001B[32m    834\u001B[39m \u001B[43m        \u001B[49m\u001B[43m)\u001B[49m\n\u001B[32m    836\u001B[39m \u001B[38;5;66;03m# For data is list-like, or Iterable (will consume into list)\u001B[39;00m\n\u001B[32m    837\u001B[39m \u001B[38;5;28;01melif\u001B[39;00m is_list_like(data):\n",
      "\u001B[36mFile \u001B[39m\u001B[32m~\\PyCharmMiscProject\\.venv\\Lib\\site-packages\\pandas\\core\\internals\\construction.py:336\u001B[39m, in \u001B[36mndarray_to_mgr\u001B[39m\u001B[34m(values, index, columns, dtype, copy, typ)\u001B[39m\n\u001B[32m    331\u001B[39m \u001B[38;5;66;03m# _prep_ndarraylike ensures that values.ndim == 2 at this point\u001B[39;00m\n\u001B[32m    332\u001B[39m index, columns = _get_axes(\n\u001B[32m    333\u001B[39m     values.shape[\u001B[32m0\u001B[39m], values.shape[\u001B[32m1\u001B[39m], index=index, columns=columns\n\u001B[32m    334\u001B[39m )\n\u001B[32m--> \u001B[39m\u001B[32m336\u001B[39m \u001B[43m_check_values_indices_shape_match\u001B[49m\u001B[43m(\u001B[49m\u001B[43mvalues\u001B[49m\u001B[43m,\u001B[49m\u001B[43m \u001B[49m\u001B[43mindex\u001B[49m\u001B[43m,\u001B[49m\u001B[43m \u001B[49m\u001B[43mcolumns\u001B[49m\u001B[43m)\u001B[49m\n\u001B[32m    338\u001B[39m \u001B[38;5;28;01mif\u001B[39;00m typ == \u001B[33m\"\u001B[39m\u001B[33marray\u001B[39m\u001B[33m\"\u001B[39m:\n\u001B[32m    339\u001B[39m     \u001B[38;5;28;01mif\u001B[39;00m \u001B[38;5;28missubclass\u001B[39m(values.dtype.type, \u001B[38;5;28mstr\u001B[39m):\n",
      "\u001B[36mFile \u001B[39m\u001B[32m~\\PyCharmMiscProject\\.venv\\Lib\\site-packages\\pandas\\core\\internals\\construction.py:420\u001B[39m, in \u001B[36m_check_values_indices_shape_match\u001B[39m\u001B[34m(values, index, columns)\u001B[39m\n\u001B[32m    418\u001B[39m passed = values.shape\n\u001B[32m    419\u001B[39m implied = (\u001B[38;5;28mlen\u001B[39m(index), \u001B[38;5;28mlen\u001B[39m(columns))\n\u001B[32m--> \u001B[39m\u001B[32m420\u001B[39m \u001B[38;5;28;01mraise\u001B[39;00m \u001B[38;5;167;01mValueError\u001B[39;00m(\u001B[33mf\u001B[39m\u001B[33m\"\u001B[39m\u001B[33mShape of passed values is \u001B[39m\u001B[38;5;132;01m{\u001B[39;00mpassed\u001B[38;5;132;01m}\u001B[39;00m\u001B[33m, indices imply \u001B[39m\u001B[38;5;132;01m{\u001B[39;00mimplied\u001B[38;5;132;01m}\u001B[39;00m\u001B[33m\"\u001B[39m)\n",
      "\u001B[31mValueError\u001B[39m: Shape of passed values is (3653, 4), indices imply (4, 4)"
     ]
    }
   ],
   "execution_count": 10
  },
  {
   "metadata": {},
   "cell_type": "code",
   "outputs": [],
   "execution_count": null,
   "source": "df.rolling(252).mean()",
   "id": "d94717b819ff2ee2"
  },
  {
   "metadata": {
    "ExecuteTime": {
     "end_time": "2025-09-16T16:45:12.830054Z",
     "start_time": "2025-09-16T16:45:12.802177Z"
    }
   },
   "cell_type": "code",
   "source": "df.rolling(252, min_periods=1).std()",
   "id": "43b4102a2dc51595",
   "outputs": [
    {
     "ename": "NameError",
     "evalue": "name 'df' is not defined",
     "output_type": "error",
     "traceback": [
      "\u001B[31m---------------------------------------------------------------------------\u001B[39m",
      "\u001B[31mNameError\u001B[39m                                 Traceback (most recent call last)",
      "\u001B[36mCell\u001B[39m\u001B[36m \u001B[39m\u001B[32mIn[5]\u001B[39m\u001B[32m, line 1\u001B[39m\n\u001B[32m----> \u001B[39m\u001B[32m1\u001B[39m \u001B[43mdf\u001B[49m.rolling(\u001B[32m252\u001B[39m, min_periods=\u001B[32m1\u001B[39m).std()\n",
      "\u001B[31mNameError\u001B[39m: name 'df' is not defined"
     ]
    }
   ],
   "execution_count": 5
  },
  {
   "metadata": {},
   "cell_type": "markdown",
   "source": "Quantiles",
   "id": "2f130a5d501fbb5a"
  },
  {
   "metadata": {
    "ExecuteTime": {
     "end_time": "2025-09-16T16:46:15.282760Z",
     "start_time": "2025-09-16T16:46:15.250495Z"
    }
   },
   "cell_type": "code",
   "source": "qcut = pd.qcut(df['AAPL'], 10, labels=False)",
   "id": "bf7322004c3338ed",
   "outputs": [
    {
     "ename": "NameError",
     "evalue": "name 'df' is not defined",
     "output_type": "error",
     "traceback": [
      "\u001B[31m---------------------------------------------------------------------------\u001B[39m",
      "\u001B[31mNameError\u001B[39m                                 Traceback (most recent call last)",
      "\u001B[36mCell\u001B[39m\u001B[36m \u001B[39m\u001B[32mIn[6]\u001B[39m\u001B[32m, line 1\u001B[39m\n\u001B[32m----> \u001B[39m\u001B[32m1\u001B[39m qcut = pd.qcut(\u001B[43mdf\u001B[49m[\u001B[33m'\u001B[39m\u001B[33mAAPL\u001B[39m\u001B[33m'\u001B[39m], \u001B[32m10\u001B[39m, labels=\u001B[38;5;28;01mFalse\u001B[39;00m)\n",
      "\u001B[31mNameError\u001B[39m: name 'df' is not defined"
     ]
    }
   ],
   "execution_count": 6
  },
  {
   "metadata": {
    "ExecuteTime": {
     "end_time": "2025-09-16T16:46:21.948734Z",
     "start_time": "2025-09-16T16:46:21.921983Z"
    }
   },
   "cell_type": "code",
   "source": "qcut",
   "id": "319a1131688e4073",
   "outputs": [
    {
     "ename": "NameError",
     "evalue": "name 'qcut' is not defined",
     "output_type": "error",
     "traceback": [
      "\u001B[31m---------------------------------------------------------------------------\u001B[39m",
      "\u001B[31mNameError\u001B[39m                                 Traceback (most recent call last)",
      "\u001B[36mCell\u001B[39m\u001B[36m \u001B[39m\u001B[32mIn[7]\u001B[39m\u001B[32m, line 1\u001B[39m\n\u001B[32m----> \u001B[39m\u001B[32m1\u001B[39m \u001B[43mqcut\u001B[49m\n",
      "\u001B[31mNameError\u001B[39m: name 'qcut' is not defined"
     ]
    }
   ],
   "execution_count": 7
  },
  {
   "metadata": {},
   "cell_type": "code",
   "outputs": [],
   "execution_count": null,
   "source": "",
   "id": "f413cc7a763d744c"
  }
 ],
 "metadata": {
  "kernelspec": {
   "display_name": "Python 3",
   "language": "python",
   "name": "python3"
  },
  "language_info": {
   "codemirror_mode": {
    "name": "ipython",
    "version": 2
   },
   "file_extension": ".py",
   "mimetype": "text/x-python",
   "name": "python",
   "nbconvert_exporter": "python",
   "pygments_lexer": "ipython2",
   "version": "2.7.6"
  }
 },
 "nbformat": 4,
 "nbformat_minor": 5
}
