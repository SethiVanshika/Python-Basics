{
 "cells": [
  {
   "cell_type": "code",
   "id": "initial_id",
   "metadata": {
    "collapsed": true,
    "ExecuteTime": {
     "end_time": "2025-09-11T18:50:27.301398Z",
     "start_time": "2025-09-11T18:50:27.290429Z"
    }
   },
   "source": [
    "# create function using def word\n",
    "# function arguments are specified in () brackets\n",
    "# return keyword specifies function output\n",
    "#body of function should be indented with tab(especially in python)\n",
    "def add_2(x):\n",
    "    result = x+2\n",
    "    return result\n",
    "print(add_2(0))\n",
    "print(add_2(4))"
   ],
   "outputs": [
    {
     "name": "stdout",
     "output_type": "stream",
     "text": [
      "2\n",
      "6\n"
     ]
    }
   ],
   "execution_count": 3
  },
  {
   "metadata": {
    "ExecuteTime": {
     "end_time": "2025-09-11T18:53:56.924462Z",
     "start_time": "2025-09-11T18:53:56.913080Z"
    }
   },
   "cell_type": "code",
   "source": [
    "#functions can have multiple arguments\n",
    "def multiply_2(x,y):\n",
    "    result = x*y\n",
    "    return result\n",
    "\n",
    "print(multiply_2(4,3))\n",
    "print(multiply_2(2,-4))"
   ],
   "id": "fd90349d9ef51b4f",
   "outputs": [
    {
     "name": "stdout",
     "output_type": "stream",
     "text": [
      "12\n",
      "-8\n"
     ]
    }
   ],
   "execution_count": 6
  },
  {
   "metadata": {
    "ExecuteTime": {
     "end_time": "2025-09-11T18:56:12.216482Z",
     "start_time": "2025-09-11T18:56:12.206724Z"
    }
   },
   "cell_type": "code",
   "source": [
    "#function argument can have default values\n",
    "def multiply_3(x,y=1,z=3):\n",
    "    result = x*y*z\n",
    "    return result\n",
    "\n",
    "print(multiply_3(2))\n",
    "print(multiply_3(2,2))"
   ],
   "id": "7823c562904ed1ee",
   "outputs": [
    {
     "name": "stdout",
     "output_type": "stream",
     "text": [
      "6\n",
      "12\n"
     ]
    }
   ],
   "execution_count": 9
  },
  {
   "metadata": {
    "ExecuteTime": {
     "end_time": "2025-09-11T19:03:20.901706Z",
     "start_time": "2025-09-11T19:03:20.894695Z"
    }
   },
   "cell_type": "code",
   "source": [
    "#if-else\n",
    "#basic syntax\n",
    "x=10\n",
    "if(x>3):\n",
    "    print(x,\"is greater than 5\")\n",
    "else:\n",
    "    print(x,\"is less than 5\")\n"
   ],
   "id": "253f55665a98956d",
   "outputs": [
    {
     "name": "stdout",
     "output_type": "stream",
     "text": [
      "10 is greater than 5\n"
     ]
    }
   ],
   "execution_count": 11
  },
  {
   "metadata": {
    "ExecuteTime": {
     "end_time": "2025-09-11T19:05:16.582256Z",
     "start_time": "2025-09-11T19:05:16.565540Z"
    }
   },
   "cell_type": "code",
   "source": [
    "#if statement can have anything that evaluates to a boolean after it\n",
    "ticker = 'AAPL US EQUITY'\n",
    "if 'US EQUITY' in ticker:\n",
    "    print('US EQUITY found')\n",
    "else:\n",
    "    print('US EQUITY not found')"
   ],
   "id": "868e505fa6d792ce",
   "outputs": [
    {
     "name": "stdout",
     "output_type": "stream",
     "text": [
      "US EQUITY found\n"
     ]
    }
   ],
   "execution_count": 12
  },
  {
   "metadata": {
    "ExecuteTime": {
     "end_time": "2025-09-11T19:08:39.449118Z",
     "start_time": "2025-09-11T19:08:39.441146Z"
    }
   },
   "cell_type": "code",
   "source": [
    "#Loops\n",
    "#While loops -> Execute a set os statement as long as boolean condition is true\n",
    "ct =0\n",
    "while ct < 5:\n",
    "    print(ct)\n",
    "    ct+=1\n"
   ],
   "id": "27b16c38fa4fbb16",
   "outputs": [
    {
     "name": "stdout",
     "output_type": "stream",
     "text": [
      "0\n",
      "1\n",
      "2\n",
      "3\n",
      "4\n"
     ]
    }
   ],
   "execution_count": 13
  },
  {
   "metadata": {
    "ExecuteTime": {
     "end_time": "2025-09-11T19:13:32.958630Z",
     "start_time": "2025-09-11T19:13:32.950771Z"
    }
   },
   "cell_type": "code",
   "source": [
    "# For Loops -> Iterate over data types like lists, dictionaries and strings which contain multiple entries\n",
    "tickers = ['AAPL', 'US EQUITY', 'GOOG']\n",
    "for ticker in tickers:\n",
    "    print(ticker+' US EQUITY')"
   ],
   "id": "da62676146fbfc9e",
   "outputs": [
    {
     "name": "stdout",
     "output_type": "stream",
     "text": [
      "AAPL US EQUITY\n",
      "US EQUITY US EQUITY\n",
      "GOOG US EQUITY\n"
     ]
    }
   ],
   "execution_count": 23
  },
  {
   "metadata": {},
   "cell_type": "code",
   "outputs": [],
   "execution_count": null,
   "source": "",
   "id": "5d58bf23384386e1"
  }
 ],
 "metadata": {
  "kernelspec": {
   "display_name": "Python 3",
   "language": "python",
   "name": "python3"
  },
  "language_info": {
   "codemirror_mode": {
    "name": "ipython",
    "version": 2
   },
   "file_extension": ".py",
   "mimetype": "text/x-python",
   "name": "python",
   "nbconvert_exporter": "python",
   "pygments_lexer": "ipython2",
   "version": "2.7.6"
  }
 },
 "nbformat": 4,
 "nbformat_minor": 5
}
