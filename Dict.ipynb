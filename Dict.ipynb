{
 "cells": [
  {
   "cell_type": "code",
   "id": "initial_id",
   "metadata": {
    "collapsed": true,
    "ExecuteTime": {
     "end_time": "2025-09-11T18:34:01.208444Z",
     "start_time": "2025-09-11T18:34:01.203229Z"
    }
   },
   "source": [
    "# creating a dictionary\n",
    "returns = {'AAPL': 0.02, 'XOM': 0.5}\n",
    "print(returns)\n",
    "print(type(returns))\n"
   ],
   "outputs": [
    {
     "name": "stdout",
     "output_type": "stream",
     "text": [
      "{'AAPL': 0.02, 'XOM': 0.5}\n",
      "<class 'dict'>\n"
     ]
    }
   ],
   "execution_count": 3
  },
  {
   "metadata": {
    "ExecuteTime": {
     "end_time": "2025-09-11T18:42:40.851846Z",
     "start_time": "2025-09-11T18:42:40.840570Z"
    }
   },
   "cell_type": "code",
   "source": [
    "#Note : Keys are typically strings, dates or numbers\n",
    "mixd_dict = {'a':'b', 1: 'c', 'list': [1,2,3,45], 'dict': {'key':'value'}}\n",
    "print(mixd_dict)\n",
    "print(mixd_dict)\n",
    "print(mixd_dict['a'])\n",
    "print(returns['AAPL'])\n",
    "print(returns.keys())\n",
    "print(returns.values())\n",
    "#changing items\n",
    "returns['XOM'] = 0.9\n",
    "print(returns)\n",
    "#add items\n",
    "returns['SpaceX']= 0.89\n",
    "print(returns)\n",
    "returns.pop('SpaceX')\n",
    "print(returns)\n",
    "returns.update({'Msft' : 1.1, 'Gppgle': 3.0})\n",
    "print(returns)"
   ],
   "id": "f0dfbb48ba1dae9e",
   "outputs": [
    {
     "name": "stdout",
     "output_type": "stream",
     "text": [
      "{'a': 'b', 1: 'c', 'list': [1, 2, 3, 45], 'dict': {'key': 'value'}}\n",
      "{'a': 'b', 1: 'c', 'list': [1, 2, 3, 45], 'dict': {'key': 'value'}}\n",
      "b\n",
      "0.02\n",
      "dict_keys(['AAPL', 'XOM'])\n",
      "dict_values([0.02, 0.5])\n",
      "{'AAPL': 0.02, 'XOM': 0.9}\n",
      "{'AAPL': 0.02, 'XOM': 0.9, 'SpaceX': 0.89}\n",
      "{'AAPL': 0.02, 'XOM': 0.9}\n",
      "{'AAPL': 0.02, 'XOM': 0.9, 'Msft': 1.1, 'Gppgle': 3.0}\n"
     ]
    }
   ],
   "execution_count": 7
  }
 ],
 "metadata": {
  "kernelspec": {
   "display_name": "Python 3",
   "language": "python",
   "name": "python3"
  },
  "language_info": {
   "codemirror_mode": {
    "name": "ipython",
    "version": 2
   },
   "file_extension": ".py",
   "mimetype": "text/x-python",
   "name": "python",
   "nbconvert_exporter": "python",
   "pygments_lexer": "ipython2",
   "version": "2.7.6"
  }
 },
 "nbformat": 4,
 "nbformat_minor": 5
}
