{
 "cells": [
  {
   "cell_type": "code",
   "execution_count": null,
   "id": "initial_id",
   "metadata": {
    "collapsed": true
   },
   "outputs": [],
   "source": [
    "#Maths/Stat Methods\n",
    "#Boolean Array Operations\n",
    "#Sorting/Unique Values"
   ]
  },
  {
   "metadata": {
    "ExecuteTime": {
     "end_time": "2025-09-12T23:03:18.497371Z",
     "start_time": "2025-09-12T23:03:18.360593Z"
    }
   },
   "cell_type": "code",
   "source": [
    "import numpy as np\n",
    "\n",
    "#Math/Stat Method\n",
    "list1 = [1, 1.1, -9, 45]\n",
    "arr1 = np.array(list1)\n",
    "\n",
    "list2 = [[1.1,2.3, -98, 54], [-0.9, 0.33, 10, 12]]\n",
    "arr2 = np.array(list2)"
   ],
   "id": "392099a2af9040c0",
   "outputs": [],
   "execution_count": 1
  },
  {
   "metadata": {
    "ExecuteTime": {
     "end_time": "2025-09-12T23:03:55.657535Z",
     "start_time": "2025-09-12T23:03:55.647143Z"
    }
   },
   "cell_type": "code",
   "source": [
    "#arrays have many built-in functions that aggregate the data\n",
    "arr1.mean()"
   ],
   "id": "7eb98d207f570bf1",
   "outputs": [
    {
     "data": {
      "text/plain": [
       "np.float64(9.525)"
      ]
     },
     "execution_count": 2,
     "metadata": {},
     "output_type": "execute_result"
    }
   ],
   "execution_count": 2
  },
  {
   "metadata": {
    "ExecuteTime": {
     "end_time": "2025-09-12T23:04:45.531294Z",
     "start_time": "2025-09-12T23:04:45.524181Z"
    }
   },
   "cell_type": "code",
   "source": [
    "print(arr2.mean())\n",
    "print(arr2.mean(0))\n",
    "print(arr2.mean(1))"
   ],
   "id": "e2b10f49548e7095",
   "outputs": [
    {
     "name": "stdout",
     "output_type": "stream",
     "text": [
      "-2.39625\n",
      "[  0.1     1.315 -44.     33.   ]\n",
      "[-10.15     5.3575]\n"
     ]
    }
   ],
   "execution_count": 3
  },
  {
   "metadata": {
    "ExecuteTime": {
     "end_time": "2025-09-12T23:05:07.415943Z",
     "start_time": "2025-09-12T23:05:07.405081Z"
    }
   },
   "cell_type": "code",
   "source": "np.mean(arr2)",
   "id": "dad9bbb514d4855a",
   "outputs": [
    {
     "data": {
      "text/plain": [
       "np.float64(-2.39625)"
      ]
     },
     "execution_count": 4,
     "metadata": {},
     "output_type": "execute_result"
    }
   ],
   "execution_count": 4
  },
  {
   "metadata": {
    "ExecuteTime": {
     "end_time": "2025-09-12T23:05:28.340288Z",
     "start_time": "2025-09-12T23:05:28.328066Z"
    }
   },
   "cell_type": "code",
   "source": "arr2.cumsum(0)",
   "id": "b0a809eb2d21c72c",
   "outputs": [
    {
     "data": {
      "text/plain": [
       "array([[  1.1 ,   2.3 , -98.  ,  54.  ],\n",
       "       [  0.2 ,   2.63, -88.  ,  66.  ]])"
      ]
     },
     "execution_count": 5,
     "metadata": {},
     "output_type": "execute_result"
    }
   ],
   "execution_count": 5
  },
  {
   "metadata": {
    "ExecuteTime": {
     "end_time": "2025-09-12T23:07:13.115298Z",
     "start_time": "2025-09-12T23:07:13.109101Z"
    }
   },
   "cell_type": "code",
   "source": "arr2",
   "id": "c72eab02f0e53c68",
   "outputs": [
    {
     "data": {
      "text/plain": [
       "array([[  1.1 ,   2.3 , -98.  ,  54.  ],\n",
       "       [ -0.9 ,   0.33,  10.  ,  12.  ]])"
      ]
     },
     "execution_count": 6,
     "metadata": {},
     "output_type": "execute_result"
    }
   ],
   "execution_count": 6
  },
  {
   "metadata": {
    "ExecuteTime": {
     "end_time": "2025-09-12T23:08:15.629583Z",
     "start_time": "2025-09-12T23:08:15.621868Z"
    }
   },
   "cell_type": "code",
   "source": [
    "#Boolean Array operations\n",
    "mask = (arr1>0)\n",
    "mask"
   ],
   "id": "b402216c36f7e369",
   "outputs": [
    {
     "data": {
      "text/plain": [
       "array([ True,  True, False,  True])"
      ]
     },
     "execution_count": 7,
     "metadata": {},
     "output_type": "execute_result"
    }
   ],
   "execution_count": 7
  },
  {
   "metadata": {
    "ExecuteTime": {
     "end_time": "2025-09-12T23:08:25.864551Z",
     "start_time": "2025-09-12T23:08:25.845938Z"
    }
   },
   "cell_type": "code",
   "source": "mask.sum()",
   "id": "f7ef618cfdf626b4",
   "outputs": [
    {
     "data": {
      "text/plain": [
       "np.int64(3)"
      ]
     },
     "execution_count": 8,
     "metadata": {},
     "output_type": "execute_result"
    }
   ],
   "execution_count": 8
  },
  {
   "metadata": {
    "ExecuteTime": {
     "end_time": "2025-09-12T23:08:35.737221Z",
     "start_time": "2025-09-12T23:08:35.728375Z"
    }
   },
   "cell_type": "code",
   "source": "mask.any()",
   "id": "3720317aa0072f03",
   "outputs": [
    {
     "data": {
      "text/plain": [
       "np.True_"
      ]
     },
     "execution_count": 9,
     "metadata": {},
     "output_type": "execute_result"
    }
   ],
   "execution_count": 9
  },
  {
   "metadata": {
    "ExecuteTime": {
     "end_time": "2025-09-12T23:08:41.723461Z",
     "start_time": "2025-09-12T23:08:41.715147Z"
    }
   },
   "cell_type": "code",
   "source": "mask.all()",
   "id": "1b4604ff88222474",
   "outputs": [
    {
     "data": {
      "text/plain": [
       "np.False_"
      ]
     },
     "execution_count": 10,
     "metadata": {},
     "output_type": "execute_result"
    }
   ],
   "execution_count": 10
  },
  {
   "metadata": {
    "ExecuteTime": {
     "end_time": "2025-09-12T23:09:00.577587Z",
     "start_time": "2025-09-12T23:09:00.568423Z"
    }
   },
   "cell_type": "code",
   "source": [
    "#Sorting/Unique Values\n",
    "arr1"
   ],
   "id": "a1d9adf61bc93fa1",
   "outputs": [
    {
     "data": {
      "text/plain": [
       "array([ 1. ,  1.1, -9. , 45. ])"
      ]
     },
     "execution_count": 11,
     "metadata": {},
     "output_type": "execute_result"
    }
   ],
   "execution_count": 11
  },
  {
   "metadata": {
    "ExecuteTime": {
     "end_time": "2025-09-12T23:09:24.192967Z",
     "start_time": "2025-09-12T23:09:24.185449Z"
    }
   },
   "cell_type": "code",
   "source": [
    "#sort an array in place\n",
    "arr1.sort()\n",
    "arr1\n"
   ],
   "id": "289249010bd52643",
   "outputs": [
    {
     "data": {
      "text/plain": [
       "array([-9. ,  1. ,  1.1, 45. ])"
      ]
     },
     "execution_count": 13,
     "metadata": {},
     "output_type": "execute_result"
    }
   ],
   "execution_count": 13
  },
  {
   "metadata": {
    "ExecuteTime": {
     "end_time": "2025-09-12T23:10:11.207474Z",
     "start_time": "2025-09-12T23:10:11.198369Z"
    }
   },
   "cell_type": "code",
   "source": [
    "#Sorting/Unique Values\n",
    "arr1"
   ],
   "id": "f85ca9953b944ae0",
   "outputs": [
    {
     "data": {
      "text/plain": [
       "array([-9. ,  1. ,  1.1, 45. ])"
      ]
     },
     "execution_count": 14,
     "metadata": {},
     "output_type": "execute_result"
    }
   ],
   "execution_count": 14
  },
  {
   "metadata": {
    "ExecuteTime": {
     "end_time": "2025-09-12T23:10:24.432853Z",
     "start_time": "2025-09-12T23:10:24.427153Z"
    }
   },
   "cell_type": "code",
   "source": [
    "arr1.sort()\n",
    "arr1"
   ],
   "id": "a07fc956ebaf8c10",
   "outputs": [
    {
     "data": {
      "text/plain": [
       "array([-9. ,  1. ,  1.1, 45. ])"
      ]
     },
     "execution_count": 16,
     "metadata": {},
     "output_type": "execute_result"
    }
   ],
   "execution_count": 16
  },
  {
   "metadata": {
    "ExecuteTime": {
     "end_time": "2025-09-12T23:11:37.548822Z",
     "start_time": "2025-09-12T23:11:37.527455Z"
    }
   },
   "cell_type": "code",
   "source": [
    "#get unique values in sorted order\n",
    "tickers=np.array(['Tech','Tech','Cons','Energy','XOM','XOM'])\n",
    "np.unique(tickers)"
   ],
   "id": "de768eb1c26ffdc7",
   "outputs": [
    {
     "data": {
      "text/plain": [
       "array(['Cons', 'Energy', 'Tech', 'XOM'], dtype='<U6')"
      ]
     },
     "execution_count": 17,
     "metadata": {},
     "output_type": "execute_result"
    }
   ],
   "execution_count": 17
  }
 ],
 "metadata": {
  "kernelspec": {
   "display_name": "Python 3",
   "language": "python",
   "name": "python3"
  },
  "language_info": {
   "codemirror_mode": {
    "name": "ipython",
    "version": 2
   },
   "file_extension": ".py",
   "mimetype": "text/x-python",
   "name": "python",
   "nbconvert_exporter": "python",
   "pygments_lexer": "ipython2",
   "version": "2.7.6"
  }
 },
 "nbformat": 4,
 "nbformat_minor": 5
}
