{
 "cells": [
  {
   "cell_type": "code",
   "execution_count": null,
   "id": "initial_id",
   "metadata": {
    "collapsed": true
   },
   "outputs": [],
   "source": [
    "#Panda Series -> \"A Dictionary and Numpy 1D had a baby\"\n",
    "# Construction & Deconstruction\n",
    "# Retrieving Values\n",
    "# Modifying Values\n",
    "# Methods for Data Analysis\n",
    "#Data Alignment"
   ]
  },
  {
   "metadata": {
    "ExecuteTime": {
     "end_time": "2025-09-12T23:23:52.698105Z",
     "start_time": "2025-09-12T23:23:52.684094Z"
    }
   },
   "cell_type": "code",
   "source": [
    "import numpy as np\n",
    "#Imports\n",
    "import pandas as pd\n",
    "#Series Construction with dict\n",
    "ret_dict = {\"AApl\":-0.01, \"MSFT\": -0.02,\"TSLA\":0.015,\"LULU\":-0.005}\n",
    "ser= pd.Series(ret_dict)\n",
    "print(ser)\n"
   ],
   "id": "f7d1b086552c0071",
   "outputs": [
    {
     "name": "stdout",
     "output_type": "stream",
     "text": [
      "AApl   -0.010\n",
      "MSFT   -0.020\n",
      "TSLA    0.015\n",
      "LULU   -0.005\n",
      "dtype: float64\n"
     ]
    }
   ],
   "execution_count": 2
  },
  {
   "metadata": {
    "ExecuteTime": {
     "end_time": "2025-09-12T23:25:21.650132Z",
     "start_time": "2025-09-12T23:25:21.640968Z"
    }
   },
   "cell_type": "code",
   "source": [
    "#Series Construction w/ two lists\n",
    "ret = [-0.01,-0.02,0.015,-0.005]\n",
    "tickers = ['AAPL','MSFT','TSLA','LULU']\n",
    "ser = pd.Series(ret, index=tickers)\n",
    "print(ser)"
   ],
   "id": "df590f11cfebafaf",
   "outputs": [
    {
     "name": "stdout",
     "output_type": "stream",
     "text": [
      "AAPL   -0.010\n",
      "MSFT   -0.020\n",
      "TSLA    0.015\n",
      "LULU   -0.005\n",
      "dtype: float64\n"
     ]
    }
   ],
   "execution_count": 3
  },
  {
   "metadata": {
    "ExecuteTime": {
     "end_time": "2025-09-12T23:26:29.404384Z",
     "start_time": "2025-09-12T23:26:29.390843Z"
    }
   },
   "cell_type": "code",
   "source": [
    "#Series construction with list without keys\n",
    "pd.Series([-0.01, -0.02, 0.015, -0.005])"
   ],
   "id": "4683c43311781aba",
   "outputs": [
    {
     "data": {
      "text/plain": [
       "0   -0.010\n",
       "1   -0.020\n",
       "2    0.015\n",
       "3   -0.005\n",
       "dtype: float64"
      ]
     },
     "execution_count": 4,
     "metadata": {},
     "output_type": "execute_result"
    }
   ],
   "execution_count": 4
  },
  {
   "metadata": {
    "ExecuteTime": {
     "end_time": "2025-09-12T23:27:26.885116Z",
     "start_time": "2025-09-12T23:27:26.877764Z"
    }
   },
   "cell_type": "code",
   "source": [
    "#Series Deconstruction\n",
    "ser=pd.Series({'AAPL':-0.01,'MSFT':-0.02,'TSLA':0.015,'LULU':-0.005})"
   ],
   "id": "191337859b3e1fd5",
   "outputs": [],
   "execution_count": 5
  },
  {
   "metadata": {
    "ExecuteTime": {
     "end_time": "2025-09-12T23:27:33.813173Z",
     "start_time": "2025-09-12T23:27:33.806717Z"
    }
   },
   "cell_type": "code",
   "source": "ser.values",
   "id": "9cbb8c80e5c99659",
   "outputs": [
    {
     "data": {
      "text/plain": [
       "array([-0.01 , -0.02 ,  0.015, -0.005])"
      ]
     },
     "execution_count": 6,
     "metadata": {},
     "output_type": "execute_result"
    }
   ],
   "execution_count": 6
  },
  {
   "metadata": {
    "ExecuteTime": {
     "end_time": "2025-09-12T23:27:42.243695Z",
     "start_time": "2025-09-12T23:27:42.235396Z"
    }
   },
   "cell_type": "code",
   "source": "ser.index",
   "id": "36f9fe8c0d28177c",
   "outputs": [
    {
     "data": {
      "text/plain": [
       "Index(['AAPL', 'MSFT', 'TSLA', 'LULU'], dtype='object')"
      ]
     },
     "execution_count": 7,
     "metadata": {},
     "output_type": "execute_result"
    }
   ],
   "execution_count": 7
  },
  {
   "metadata": {
    "ExecuteTime": {
     "end_time": "2025-09-12T23:31:57.135254Z",
     "start_time": "2025-09-12T23:31:57.123795Z"
    }
   },
   "cell_type": "code",
   "source": [
    "#retrieval using key\n",
    "ser['MSFT']"
   ],
   "id": "cacde1d93819403d",
   "outputs": [
    {
     "data": {
      "text/plain": [
       "np.float64(-0.02)"
      ]
     },
     "execution_count": 8,
     "metadata": {},
     "output_type": "execute_result"
    }
   ],
   "execution_count": 8
  },
  {
   "metadata": {
    "ExecuteTime": {
     "end_time": "2025-09-12T23:33:12.582318Z",
     "start_time": "2025-09-12T23:33:12.558470Z"
    }
   },
   "cell_type": "code",
   "source": [
    "#retrieval using integer\n",
    "ser[1]"
   ],
   "id": "e7273cc62f22a578",
   "outputs": [
    {
     "name": "stderr",
     "output_type": "stream",
     "text": [
      "C:\\Users\\vansh\\AppData\\Local\\Temp\\ipykernel_9276\\62940.py:2: FutureWarning: Series.__getitem__ treating keys as positions is deprecated. In a future version, integer keys will always be treated as labels (consistent with DataFrame behavior). To access a value by position, use `ser.iloc[pos]`\n",
      "  ser[1]\n"
     ]
    },
    {
     "data": {
      "text/plain": [
       "np.float64(-0.02)"
      ]
     },
     "execution_count": 11,
     "metadata": {},
     "output_type": "execute_result"
    }
   ],
   "execution_count": 11
  },
  {
   "metadata": {
    "ExecuteTime": {
     "end_time": "2025-09-12T23:33:14.752266Z",
     "start_time": "2025-09-12T23:33:14.736624Z"
    }
   },
   "cell_type": "code",
   "source": [
    "# multi-item retrieval using integers\n",
    "ser[[0,2]]"
   ],
   "id": "7852bbbde8cbfb9b",
   "outputs": [
    {
     "name": "stderr",
     "output_type": "stream",
     "text": [
      "C:\\Users\\vansh\\AppData\\Local\\Temp\\ipykernel_9276\\982194406.py:2: FutureWarning: Series.__getitem__ treating keys as positions is deprecated. In a future version, integer keys will always be treated as labels (consistent with DataFrame behavior). To access a value by position, use `ser.iloc[pos]`\n",
      "  ser[[0,2]]\n"
     ]
    },
    {
     "data": {
      "text/plain": [
       "AAPL   -0.010\n",
       "TSLA    0.015\n",
       "dtype: float64"
      ]
     },
     "execution_count": 12,
     "metadata": {},
     "output_type": "execute_result"
    }
   ],
   "execution_count": 12
  },
  {
   "metadata": {
    "ExecuteTime": {
     "end_time": "2025-09-12T23:35:56.010017Z",
     "start_time": "2025-09-12T23:35:56.000137Z"
    }
   },
   "cell_type": "code",
   "source": [
    "#multi-item slicing\n",
    "index= ['2020-01-01','2020-12-31']\n",
    "tser= pd.Series([-0.01,0.015], index=index)\n",
    "tser"
   ],
   "id": "ca974e68e733b7a",
   "outputs": [
    {
     "data": {
      "text/plain": [
       "2020-01-01   -0.010\n",
       "2020-12-31    0.015\n",
       "dtype: float64"
      ]
     },
     "execution_count": 13,
     "metadata": {},
     "output_type": "execute_result"
    }
   ],
   "execution_count": 13
  },
  {
   "metadata": {
    "ExecuteTime": {
     "end_time": "2025-09-12T23:36:29.717548Z",
     "start_time": "2025-09-12T23:36:29.695290Z"
    }
   },
   "cell_type": "code",
   "source": [
    "#slicing using keys\n",
    "tser['2020-01-01':'2020-12-31']"
   ],
   "id": "e4eee207b6410067",
   "outputs": [
    {
     "data": {
      "text/plain": [
       "2020-01-01   -0.010\n",
       "2020-12-31    0.015\n",
       "dtype: float64"
      ]
     },
     "execution_count": 14,
     "metadata": {},
     "output_type": "execute_result"
    }
   ],
   "execution_count": 14
  },
  {
   "metadata": {
    "ExecuteTime": {
     "end_time": "2025-09-12T23:36:49.992918Z",
     "start_time": "2025-09-12T23:36:49.986065Z"
    }
   },
   "cell_type": "code",
   "source": [
    "#slicing using integers\n",
    "tser[0:3]"
   ],
   "id": "de341ff31ab5e492",
   "outputs": [
    {
     "data": {
      "text/plain": [
       "2020-01-01   -0.010\n",
       "2020-12-31    0.015\n",
       "dtype: float64"
      ]
     },
     "execution_count": 15,
     "metadata": {},
     "output_type": "execute_result"
    }
   ],
   "execution_count": 15
  },
  {
   "metadata": {
    "ExecuteTime": {
     "end_time": "2025-09-12T23:37:21.338512Z",
     "start_time": "2025-09-12T23:37:21.319893Z"
    }
   },
   "cell_type": "code",
   "source": [
    "#get only positive values\n",
    "filt = ser>0\n",
    "filt"
   ],
   "id": "53fea8f6f08aa5c0",
   "outputs": [
    {
     "data": {
      "text/plain": [
       "AAPL    False\n",
       "MSFT    False\n",
       "TSLA     True\n",
       "LULU    False\n",
       "dtype: bool"
      ]
     },
     "execution_count": 16,
     "metadata": {},
     "output_type": "execute_result"
    }
   ],
   "execution_count": 16
  },
  {
   "metadata": {
    "ExecuteTime": {
     "end_time": "2025-09-12T23:37:32.954996Z",
     "start_time": "2025-09-12T23:37:32.948538Z"
    }
   },
   "cell_type": "code",
   "source": "ser[filt]",
   "id": "33f6e68341dd83d8",
   "outputs": [
    {
     "data": {
      "text/plain": [
       "TSLA    0.015\n",
       "dtype: float64"
      ]
     },
     "execution_count": 17,
     "metadata": {},
     "output_type": "execute_result"
    }
   ],
   "execution_count": 17
  },
  {
   "metadata": {
    "ExecuteTime": {
     "end_time": "2025-09-12T23:37:55.097404Z",
     "start_time": "2025-09-12T23:37:55.090455Z"
    }
   },
   "cell_type": "code",
   "source": [
    "#get only neg values\n",
    "ser[ser<0]"
   ],
   "id": "16dbf47443d8a3e",
   "outputs": [
    {
     "data": {
      "text/plain": [
       "AAPL   -0.010\n",
       "MSFT   -0.020\n",
       "LULU   -0.005\n",
       "dtype: float64"
      ]
     },
     "execution_count": 18,
     "metadata": {},
     "output_type": "execute_result"
    }
   ],
   "execution_count": 18
  },
  {
   "metadata": {
    "ExecuteTime": {
     "end_time": "2025-09-12T23:38:20.144753Z",
     "start_time": "2025-09-12T23:38:20.136352Z"
    }
   },
   "cell_type": "code",
   "source": [
    "#get only return >5%\n",
    "ser[ser>0.05]"
   ],
   "id": "17d9a49048da9714",
   "outputs": [
    {
     "data": {
      "text/plain": [
       "Series([], dtype: float64)"
      ]
     },
     "execution_count": 19,
     "metadata": {},
     "output_type": "execute_result"
    }
   ],
   "execution_count": 19
  },
  {
   "metadata": {
    "ExecuteTime": {
     "end_time": "2025-09-12T23:40:29.753188Z",
     "start_time": "2025-09-12T23:40:29.745309Z"
    }
   },
   "cell_type": "code",
   "source": [
    "#Modifying values in Series\n",
    "ser['AAPL'] = 0.09\n",
    "ser"
   ],
   "id": "fc8b59f5f001ba3a",
   "outputs": [
    {
     "data": {
      "text/plain": [
       "AAPL    0.090\n",
       "MSFT   -0.020\n",
       "TSLA    0.015\n",
       "LULU   -0.005\n",
       "dtype: float64"
      ]
     },
     "execution_count": 20,
     "metadata": {},
     "output_type": "execute_result"
    }
   ],
   "execution_count": 20
  },
  {
   "metadata": {
    "ExecuteTime": {
     "end_time": "2025-09-12T23:40:58.484917Z",
     "start_time": "2025-09-12T23:40:58.460192Z"
    }
   },
   "cell_type": "code",
   "source": [
    "ser[['MSFT','LULU']] = [-0.08,0.97]\n",
    "ser"
   ],
   "id": "257fba6a43110e39",
   "outputs": [
    {
     "data": {
      "text/plain": [
       "AAPL    0.090\n",
       "MSFT   -0.080\n",
       "TSLA    0.015\n",
       "LULU    0.970\n",
       "dtype: float64"
      ]
     },
     "execution_count": 21,
     "metadata": {},
     "output_type": "execute_result"
    }
   ],
   "execution_count": 21
  },
  {
   "metadata": {
    "ExecuteTime": {
     "end_time": "2025-09-12T23:41:19.314690Z",
     "start_time": "2025-09-12T23:41:19.304648Z"
    }
   },
   "cell_type": "code",
   "source": [
    "ser[ser<0] =0\n",
    "ser"
   ],
   "id": "55ad174b28d65a61",
   "outputs": [
    {
     "data": {
      "text/plain": [
       "AAPL    0.090\n",
       "MSFT    0.000\n",
       "TSLA    0.015\n",
       "LULU    0.970\n",
       "dtype: float64"
      ]
     },
     "execution_count": 22,
     "metadata": {},
     "output_type": "execute_result"
    }
   ],
   "execution_count": 22
  },
  {
   "metadata": {
    "ExecuteTime": {
     "end_time": "2025-09-12T23:41:49.881552Z",
     "start_time": "2025-09-12T23:41:49.861015Z"
    }
   },
   "cell_type": "code",
   "source": [
    "ser['MSFT' : 'LULU']=0\n",
    "ser\n"
   ],
   "id": "ea3ad65734c8a1f2",
   "outputs": [
    {
     "data": {
      "text/plain": [
       "AAPL    0.09\n",
       "MSFT    0.00\n",
       "TSLA    0.00\n",
       "LULU    0.00\n",
       "dtype: float64"
      ]
     },
     "execution_count": 23,
     "metadata": {},
     "output_type": "execute_result"
    }
   ],
   "execution_count": 23
  },
  {
   "metadata": {
    "ExecuteTime": {
     "end_time": "2025-09-12T23:43:06.475516Z",
     "start_time": "2025-09-12T23:43:06.465754Z"
    }
   },
   "cell_type": "code",
   "source": [
    "ser.index=['TSLA','MSFT','AAPL','LULU']\n",
    "ser"
   ],
   "id": "d0def132cdaa744b",
   "outputs": [
    {
     "data": {
      "text/plain": [
       "TSLA    0.09\n",
       "MSFT    0.00\n",
       "AAPL    0.00\n",
       "LULU    0.00\n",
       "dtype: float64"
      ]
     },
     "execution_count": 25,
     "metadata": {},
     "output_type": "execute_result"
    }
   ],
   "execution_count": 25
  },
  {
   "metadata": {},
   "cell_type": "code",
   "outputs": [],
   "execution_count": null,
   "source": [
    "#Panda Series Method for Data Analysis\n",
    "#Arithmetic & Boolean operations with scalars operators element wise\n",
    "#Numpy universal functions operate element-wise as they do with arrays\n",
    "#Series Map -> apply any function element-wise\n",
    "#Series have many built-in methods similar to numpy arrays"
   ],
   "id": "98e060b3df91fab2"
  },
  {
   "metadata": {
    "ExecuteTime": {
     "end_time": "2025-09-12T23:50:59.029424Z",
     "start_time": "2025-09-12T23:50:59.009959Z"
    }
   },
   "cell_type": "code",
   "source": [
    "#scalar is very hard with a dict ...need to use loop\n",
    "mkt_ret = 0.05\n",
    "ret_dict={'AAPL':-0.01, 'MSFT':-0.02, 'TSLA':0.015, 'LULU':-0.005}\n",
    "\n",
    "dict_excess={}\n",
    "for key in ret_dict:\n",
    "    dict_excess[key]=ret_dict[key]-mkt_ret\n",
    "dict_excess"
   ],
   "id": "fae83300c79a7b5",
   "outputs": [
    {
     "data": {
      "text/plain": [
       "{'AAPL': -0.060000000000000005, 'MSFT': -0.07, 'TSLA': -0.035, 'LULU': -0.055}"
      ]
     },
     "execution_count": 26,
     "metadata": {},
     "output_type": "execute_result"
    }
   ],
   "execution_count": 26
  },
  {
   "metadata": {
    "ExecuteTime": {
     "end_time": "2025-09-12T23:52:40.073731Z",
     "start_time": "2025-09-12T23:52:40.064077Z"
    }
   },
   "cell_type": "code",
   "source": [
    "#boolean logic operates element wise\n",
    "ser>0"
   ],
   "id": "2114dc24e3042dea",
   "outputs": [
    {
     "data": {
      "text/plain": [
       "TSLA     True\n",
       "MSFT    False\n",
       "AAPL    False\n",
       "LULU    False\n",
       "dtype: bool"
      ]
     },
     "execution_count": 27,
     "metadata": {},
     "output_type": "execute_result"
    }
   ],
   "execution_count": 27
  },
  {
   "metadata": {
    "ExecuteTime": {
     "end_time": "2025-09-12T23:54:33.909231Z",
     "start_time": "2025-09-12T23:54:33.899725Z"
    }
   },
   "cell_type": "code",
   "source": [
    "import numpy as np\n",
    "np.sign(ser)"
   ],
   "id": "b2dec3664415b71d",
   "outputs": [
    {
     "data": {
      "text/plain": [
       "TSLA    1.0\n",
       "MSFT    0.0\n",
       "AAPL    0.0\n",
       "LULU    0.0\n",
       "dtype: float64"
      ]
     },
     "execution_count": 30,
     "metadata": {},
     "output_type": "execute_result"
    }
   ],
   "execution_count": 30
  },
  {
   "metadata": {
    "ExecuteTime": {
     "end_time": "2025-09-12T23:57:13.714304Z",
     "start_time": "2025-09-12T23:57:13.687338Z"
    }
   },
   "cell_type": "code",
   "source": [
    "# Series map -apply any function element-wise\n",
    "#map\n",
    "def thresh(x):\n",
    "    if x> mkt_ret :\n",
    "        return x\n",
    "    else :\n",
    "        return mkt_ret\n",
    "\n",
    "ser.map(thresh)\n"
   ],
   "id": "270dc22698c55e6a",
   "outputs": [
    {
     "data": {
      "text/plain": [
       "TSLA    0.09\n",
       "MSFT    0.05\n",
       "AAPL    0.05\n",
       "LULU    0.05\n",
       "dtype: float64"
      ]
     },
     "execution_count": 31,
     "metadata": {},
     "output_type": "execute_result"
    }
   ],
   "execution_count": 31
  },
  {
   "metadata": {
    "ExecuteTime": {
     "end_time": "2025-09-12T23:58:07.061423Z",
     "start_time": "2025-09-12T23:58:07.048250Z"
    }
   },
   "cell_type": "code",
   "source": "ser.map(lambda x: x if x>mkt_ret else mkt_ret)",
   "id": "b6fe0c81e1a7139a",
   "outputs": [
    {
     "data": {
      "text/plain": [
       "TSLA    0.09\n",
       "MSFT    0.05\n",
       "AAPL    0.05\n",
       "LULU    0.05\n",
       "dtype: float64"
      ]
     },
     "execution_count": 33,
     "metadata": {},
     "output_type": "execute_result"
    }
   ],
   "execution_count": 33
  },
  {
   "metadata": {
    "ExecuteTime": {
     "end_time": "2025-09-13T00:00:12.261677Z",
     "start_time": "2025-09-13T00:00:12.238473Z"
    }
   },
   "cell_type": "code",
   "source": [
    "# Series have many built-in methods similar to numpy arrays\n",
    "#avg return\n",
    "print(ser.mean())\n",
    "#min return\n",
    "print(ser.min())\n",
    "#standard deviation\n",
    "print(ser.std())"
   ],
   "id": "48cfaf8150c39187",
   "outputs": [
    {
     "name": "stdout",
     "output_type": "stream",
     "text": [
      "0.0225\n",
      "0.0\n",
      "0.045\n"
     ]
    }
   ],
   "execution_count": 34
  },
  {
   "metadata": {
    "ExecuteTime": {
     "end_time": "2025-09-13T00:01:49.583320Z",
     "start_time": "2025-09-13T00:01:49.576768Z"
    }
   },
   "cell_type": "code",
   "source": [
    "#Do not do this for the average\n",
    "##Whenever you find yourself writing a loop, check if there's a better way\n",
    "\n",
    "avg=0\n",
    "for x in ser.values:\n",
    "    avg+=x\n",
    "avg=avg/len(ser)"
   ],
   "id": "b8c8e042f59400d8",
   "outputs": [],
   "execution_count": 35
  }
 ],
 "metadata": {
  "kernelspec": {
   "display_name": "Python 3",
   "language": "python",
   "name": "python3"
  },
  "language_info": {
   "codemirror_mode": {
    "name": "ipython",
    "version": 2
   },
   "file_extension": ".py",
   "mimetype": "text/x-python",
   "name": "python",
   "nbconvert_exporter": "python",
   "pygments_lexer": "ipython2",
   "version": "2.7.6"
  }
 },
 "nbformat": 4,
 "nbformat_minor": 5
}
