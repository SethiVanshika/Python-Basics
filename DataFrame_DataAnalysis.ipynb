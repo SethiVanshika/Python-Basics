{
 "cells": [
  {
   "metadata": {},
   "cell_type": "markdown",
   "source": [
    "DataFrame Methods for Data Analysis\n",
    "\n",
    "1. Arithmetic & Boolean Operations with scalars operates element-wise\n",
    "2. Numpy universal functions operate element-wise as they do with arrays\n",
    "3. DataFrame applymap & apply any arbitrary function to a DataFrame\n",
    "4. DataFrames have many built-in methods similar to numpy arrays\n",
    "5. Correlation/Covariance"
   ],
   "id": "b03d23f429278e5d"
  },
  {
   "metadata": {
    "ExecuteTime": {
     "end_time": "2025-09-13T23:59:54.360730Z",
     "start_time": "2025-09-13T23:59:53.705867Z"
    }
   },
   "cell_type": "code",
   "source": [
    "import pandas as pd\n",
    "#2D list of numpy array\n",
    "\n",
    "index = ['20201201','20201202','20201203','20201204']\n",
    "columns = ['AAPL','MSFT','GOOG','AMZN']\n",
    "\n",
    "data = [[-0.01,0.03,0.05],[0.015,0.005,-0.05,-0.0025],[-0.025,0.0015,-0.02,0.01],[-0.03,0.015,0.03,0.01]]\n",
    "df = pd.DataFrame(data,index = index,columns = columns)\n",
    "df"
   ],
   "id": "566aea2a7cd21ad3",
   "outputs": [
    {
     "data": {
      "text/plain": [
       "           AAPL    MSFT  GOOG    AMZN\n",
       "20201201 -0.010  0.0300  0.05     NaN\n",
       "20201202  0.015  0.0050 -0.05 -0.0025\n",
       "20201203 -0.025  0.0015 -0.02  0.0100\n",
       "20201204 -0.030  0.0150  0.03  0.0100"
      ],
      "text/html": [
       "<div>\n",
       "<style scoped>\n",
       "    .dataframe tbody tr th:only-of-type {\n",
       "        vertical-align: middle;\n",
       "    }\n",
       "\n",
       "    .dataframe tbody tr th {\n",
       "        vertical-align: top;\n",
       "    }\n",
       "\n",
       "    .dataframe thead th {\n",
       "        text-align: right;\n",
       "    }\n",
       "</style>\n",
       "<table border=\"1\" class=\"dataframe\">\n",
       "  <thead>\n",
       "    <tr style=\"text-align: right;\">\n",
       "      <th></th>\n",
       "      <th>AAPL</th>\n",
       "      <th>MSFT</th>\n",
       "      <th>GOOG</th>\n",
       "      <th>AMZN</th>\n",
       "    </tr>\n",
       "  </thead>\n",
       "  <tbody>\n",
       "    <tr>\n",
       "      <th>20201201</th>\n",
       "      <td>-0.010</td>\n",
       "      <td>0.0300</td>\n",
       "      <td>0.05</td>\n",
       "      <td>NaN</td>\n",
       "    </tr>\n",
       "    <tr>\n",
       "      <th>20201202</th>\n",
       "      <td>0.015</td>\n",
       "      <td>0.0050</td>\n",
       "      <td>-0.05</td>\n",
       "      <td>-0.0025</td>\n",
       "    </tr>\n",
       "    <tr>\n",
       "      <th>20201203</th>\n",
       "      <td>-0.025</td>\n",
       "      <td>0.0015</td>\n",
       "      <td>-0.02</td>\n",
       "      <td>0.0100</td>\n",
       "    </tr>\n",
       "    <tr>\n",
       "      <th>20201204</th>\n",
       "      <td>-0.030</td>\n",
       "      <td>0.0150</td>\n",
       "      <td>0.03</td>\n",
       "      <td>0.0100</td>\n",
       "    </tr>\n",
       "  </tbody>\n",
       "</table>\n",
       "</div>"
      ]
     },
     "execution_count": 1,
     "metadata": {},
     "output_type": "execute_result"
    }
   ],
   "execution_count": 1
  },
  {
   "metadata": {},
   "cell_type": "markdown",
   "source": "Arithmetic & Boolean operations",
   "id": "af3a3ff4274c6156"
  },
  {
   "metadata": {
    "ExecuteTime": {
     "end_time": "2025-09-14T00:00:59.642056Z",
     "start_time": "2025-09-14T00:00:59.617355Z"
    }
   },
   "cell_type": "code",
   "source": [
    "#Subtract Market Returns\n",
    "mkt_ret = 0.05\n",
    "df-mkt_ret"
   ],
   "id": "a517d7b16aa102a",
   "outputs": [
    {
     "data": {
      "text/plain": [
       "           AAPL    MSFT  GOOG    AMZN\n",
       "20201201 -0.060 -0.0200  0.00     NaN\n",
       "20201202 -0.035 -0.0450 -0.10 -0.0525\n",
       "20201203 -0.075 -0.0485 -0.07 -0.0400\n",
       "20201204 -0.080 -0.0350 -0.02 -0.0400"
      ],
      "text/html": [
       "<div>\n",
       "<style scoped>\n",
       "    .dataframe tbody tr th:only-of-type {\n",
       "        vertical-align: middle;\n",
       "    }\n",
       "\n",
       "    .dataframe tbody tr th {\n",
       "        vertical-align: top;\n",
       "    }\n",
       "\n",
       "    .dataframe thead th {\n",
       "        text-align: right;\n",
       "    }\n",
       "</style>\n",
       "<table border=\"1\" class=\"dataframe\">\n",
       "  <thead>\n",
       "    <tr style=\"text-align: right;\">\n",
       "      <th></th>\n",
       "      <th>AAPL</th>\n",
       "      <th>MSFT</th>\n",
       "      <th>GOOG</th>\n",
       "      <th>AMZN</th>\n",
       "    </tr>\n",
       "  </thead>\n",
       "  <tbody>\n",
       "    <tr>\n",
       "      <th>20201201</th>\n",
       "      <td>-0.060</td>\n",
       "      <td>-0.0200</td>\n",
       "      <td>0.00</td>\n",
       "      <td>NaN</td>\n",
       "    </tr>\n",
       "    <tr>\n",
       "      <th>20201202</th>\n",
       "      <td>-0.035</td>\n",
       "      <td>-0.0450</td>\n",
       "      <td>-0.10</td>\n",
       "      <td>-0.0525</td>\n",
       "    </tr>\n",
       "    <tr>\n",
       "      <th>20201203</th>\n",
       "      <td>-0.075</td>\n",
       "      <td>-0.0485</td>\n",
       "      <td>-0.07</td>\n",
       "      <td>-0.0400</td>\n",
       "    </tr>\n",
       "    <tr>\n",
       "      <th>20201204</th>\n",
       "      <td>-0.080</td>\n",
       "      <td>-0.0350</td>\n",
       "      <td>-0.02</td>\n",
       "      <td>-0.0400</td>\n",
       "    </tr>\n",
       "  </tbody>\n",
       "</table>\n",
       "</div>"
      ]
     },
     "execution_count": 2,
     "metadata": {},
     "output_type": "execute_result"
    }
   ],
   "execution_count": 2
  },
  {
   "metadata": {
    "ExecuteTime": {
     "end_time": "2025-09-14T00:02:04.392957Z",
     "start_time": "2025-09-14T00:02:04.383539Z"
    }
   },
   "cell_type": "code",
   "source": [
    "#bolean logic operates element-wise\n",
    "df>0"
   ],
   "id": "9a1060d29e66fe7e",
   "outputs": [
    {
     "data": {
      "text/plain": [
       "           AAPL  MSFT   GOOG   AMZN\n",
       "20201201  False  True   True  False\n",
       "20201202   True  True  False  False\n",
       "20201203  False  True  False   True\n",
       "20201204  False  True   True   True"
      ],
      "text/html": [
       "<div>\n",
       "<style scoped>\n",
       "    .dataframe tbody tr th:only-of-type {\n",
       "        vertical-align: middle;\n",
       "    }\n",
       "\n",
       "    .dataframe tbody tr th {\n",
       "        vertical-align: top;\n",
       "    }\n",
       "\n",
       "    .dataframe thead th {\n",
       "        text-align: right;\n",
       "    }\n",
       "</style>\n",
       "<table border=\"1\" class=\"dataframe\">\n",
       "  <thead>\n",
       "    <tr style=\"text-align: right;\">\n",
       "      <th></th>\n",
       "      <th>AAPL</th>\n",
       "      <th>MSFT</th>\n",
       "      <th>GOOG</th>\n",
       "      <th>AMZN</th>\n",
       "    </tr>\n",
       "  </thead>\n",
       "  <tbody>\n",
       "    <tr>\n",
       "      <th>20201201</th>\n",
       "      <td>False</td>\n",
       "      <td>True</td>\n",
       "      <td>True</td>\n",
       "      <td>False</td>\n",
       "    </tr>\n",
       "    <tr>\n",
       "      <th>20201202</th>\n",
       "      <td>True</td>\n",
       "      <td>True</td>\n",
       "      <td>False</td>\n",
       "      <td>False</td>\n",
       "    </tr>\n",
       "    <tr>\n",
       "      <th>20201203</th>\n",
       "      <td>False</td>\n",
       "      <td>True</td>\n",
       "      <td>False</td>\n",
       "      <td>True</td>\n",
       "    </tr>\n",
       "    <tr>\n",
       "      <th>20201204</th>\n",
       "      <td>False</td>\n",
       "      <td>True</td>\n",
       "      <td>True</td>\n",
       "      <td>True</td>\n",
       "    </tr>\n",
       "  </tbody>\n",
       "</table>\n",
       "</div>"
      ]
     },
     "execution_count": 3,
     "metadata": {},
     "output_type": "execute_result"
    }
   ],
   "execution_count": 3
  },
  {
   "metadata": {},
   "cell_type": "markdown",
   "source": "Numpy ufuncs operate element-wise as they do with arrays",
   "id": "c53a83ab19f1dd2f"
  },
  {
   "metadata": {
    "ExecuteTime": {
     "end_time": "2025-09-14T00:03:34.624494Z",
     "start_time": "2025-09-14T00:03:34.611083Z"
    }
   },
   "cell_type": "code",
   "source": [
    "#Many NumPy functions work as expected elementwise\n",
    "import numpy as np\n",
    "np.abs(df)"
   ],
   "id": "f665950f72337249",
   "outputs": [
    {
     "data": {
      "text/plain": [
       "           AAPL    MSFT  GOOG    AMZN\n",
       "20201201  0.010  0.0300  0.05     NaN\n",
       "20201202  0.015  0.0050  0.05  0.0025\n",
       "20201203  0.025  0.0015  0.02  0.0100\n",
       "20201204  0.030  0.0150  0.03  0.0100"
      ],
      "text/html": [
       "<div>\n",
       "<style scoped>\n",
       "    .dataframe tbody tr th:only-of-type {\n",
       "        vertical-align: middle;\n",
       "    }\n",
       "\n",
       "    .dataframe tbody tr th {\n",
       "        vertical-align: top;\n",
       "    }\n",
       "\n",
       "    .dataframe thead th {\n",
       "        text-align: right;\n",
       "    }\n",
       "</style>\n",
       "<table border=\"1\" class=\"dataframe\">\n",
       "  <thead>\n",
       "    <tr style=\"text-align: right;\">\n",
       "      <th></th>\n",
       "      <th>AAPL</th>\n",
       "      <th>MSFT</th>\n",
       "      <th>GOOG</th>\n",
       "      <th>AMZN</th>\n",
       "    </tr>\n",
       "  </thead>\n",
       "  <tbody>\n",
       "    <tr>\n",
       "      <th>20201201</th>\n",
       "      <td>0.010</td>\n",
       "      <td>0.0300</td>\n",
       "      <td>0.05</td>\n",
       "      <td>NaN</td>\n",
       "    </tr>\n",
       "    <tr>\n",
       "      <th>20201202</th>\n",
       "      <td>0.015</td>\n",
       "      <td>0.0050</td>\n",
       "      <td>0.05</td>\n",
       "      <td>0.0025</td>\n",
       "    </tr>\n",
       "    <tr>\n",
       "      <th>20201203</th>\n",
       "      <td>0.025</td>\n",
       "      <td>0.0015</td>\n",
       "      <td>0.02</td>\n",
       "      <td>0.0100</td>\n",
       "    </tr>\n",
       "    <tr>\n",
       "      <th>20201204</th>\n",
       "      <td>0.030</td>\n",
       "      <td>0.0150</td>\n",
       "      <td>0.03</td>\n",
       "      <td>0.0100</td>\n",
       "    </tr>\n",
       "  </tbody>\n",
       "</table>\n",
       "</div>"
      ]
     },
     "execution_count": 5,
     "metadata": {},
     "output_type": "execute_result"
    }
   ],
   "execution_count": 5
  },
  {
   "metadata": {},
   "cell_type": "markdown",
   "source": "DataFrame applymap & apply- apply any function to a DataFrame",
   "id": "9f36db84287ed5e4"
  },
  {
   "metadata": {
    "ExecuteTime": {
     "end_time": "2025-09-14T00:05:23.273093Z",
     "start_time": "2025-09-14T00:05:23.261647Z"
    }
   },
   "cell_type": "code",
   "source": [
    "def thresh(x):\n",
    "    if np.abs(x) > 0.06:\n",
    "        return x\n",
    "    else:\n",
    "        return 0\n",
    "df.applymap(thresh)"
   ],
   "id": "64bc67a7eec4e72f",
   "outputs": [
    {
     "name": "stderr",
     "output_type": "stream",
     "text": [
      "C:\\Users\\vansh\\AppData\\Local\\Temp\\ipykernel_21348\\1382568260.py:6: FutureWarning: DataFrame.applymap has been deprecated. Use DataFrame.map instead.\n",
      "  df.applymap(thresh)\n"
     ]
    },
    {
     "data": {
      "text/plain": [
       "          AAPL  MSFT  GOOG  AMZN\n",
       "20201201     0     0     0     0\n",
       "20201202     0     0     0     0\n",
       "20201203     0     0     0     0\n",
       "20201204     0     0     0     0"
      ],
      "text/html": [
       "<div>\n",
       "<style scoped>\n",
       "    .dataframe tbody tr th:only-of-type {\n",
       "        vertical-align: middle;\n",
       "    }\n",
       "\n",
       "    .dataframe tbody tr th {\n",
       "        vertical-align: top;\n",
       "    }\n",
       "\n",
       "    .dataframe thead th {\n",
       "        text-align: right;\n",
       "    }\n",
       "</style>\n",
       "<table border=\"1\" class=\"dataframe\">\n",
       "  <thead>\n",
       "    <tr style=\"text-align: right;\">\n",
       "      <th></th>\n",
       "      <th>AAPL</th>\n",
       "      <th>MSFT</th>\n",
       "      <th>GOOG</th>\n",
       "      <th>AMZN</th>\n",
       "    </tr>\n",
       "  </thead>\n",
       "  <tbody>\n",
       "    <tr>\n",
       "      <th>20201201</th>\n",
       "      <td>0</td>\n",
       "      <td>0</td>\n",
       "      <td>0</td>\n",
       "      <td>0</td>\n",
       "    </tr>\n",
       "    <tr>\n",
       "      <th>20201202</th>\n",
       "      <td>0</td>\n",
       "      <td>0</td>\n",
       "      <td>0</td>\n",
       "      <td>0</td>\n",
       "    </tr>\n",
       "    <tr>\n",
       "      <th>20201203</th>\n",
       "      <td>0</td>\n",
       "      <td>0</td>\n",
       "      <td>0</td>\n",
       "      <td>0</td>\n",
       "    </tr>\n",
       "    <tr>\n",
       "      <th>20201204</th>\n",
       "      <td>0</td>\n",
       "      <td>0</td>\n",
       "      <td>0</td>\n",
       "      <td>0</td>\n",
       "    </tr>\n",
       "  </tbody>\n",
       "</table>\n",
       "</div>"
      ]
     },
     "execution_count": 6,
     "metadata": {},
     "output_type": "execute_result"
    }
   ],
   "execution_count": 6
  },
  {
   "metadata": {
    "ExecuteTime": {
     "end_time": "2025-09-14T00:07:28.787205Z",
     "start_time": "2025-09-14T00:07:28.779324Z"
    }
   },
   "cell_type": "code",
   "source": [
    "def max_minus_min(ser):\n",
    "    return ser.max()-ser.min()\n",
    "max_minus_min(df['AAPL'])"
   ],
   "id": "29714ce605824be3",
   "outputs": [
    {
     "data": {
      "text/plain": [
       "np.float64(0.045)"
      ]
     },
     "execution_count": 7,
     "metadata": {},
     "output_type": "execute_result"
    }
   ],
   "execution_count": 7
  },
  {
   "metadata": {
    "ExecuteTime": {
     "end_time": "2025-09-14T00:07:51.972081Z",
     "start_time": "2025-09-14T00:07:51.951459Z"
    }
   },
   "cell_type": "code",
   "source": "df.apply(max_minus_min) #applied to each column",
   "id": "5bdc9ce251e08c19",
   "outputs": [
    {
     "data": {
      "text/plain": [
       "AAPL    0.0450\n",
       "MSFT    0.0285\n",
       "GOOG    0.1000\n",
       "AMZN    0.0125\n",
       "dtype: float64"
      ]
     },
     "execution_count": 9,
     "metadata": {},
     "output_type": "execute_result"
    }
   ],
   "execution_count": 9
  },
  {
   "metadata": {
    "ExecuteTime": {
     "end_time": "2025-09-14T00:08:15.061738Z",
     "start_time": "2025-09-14T00:08:15.052316Z"
    }
   },
   "cell_type": "code",
   "source": "df.apply(max_minus_min, axis=1) #applied to each row",
   "id": "64f19dbf699fad7f",
   "outputs": [
    {
     "data": {
      "text/plain": [
       "20201201    0.060\n",
       "20201202    0.065\n",
       "20201203    0.035\n",
       "20201204    0.060\n",
       "dtype: float64"
      ]
     },
     "execution_count": 10,
     "metadata": {},
     "output_type": "execute_result"
    }
   ],
   "execution_count": 10
  },
  {
   "metadata": {
    "ExecuteTime": {
     "end_time": "2025-09-14T00:09:40.401313Z",
     "start_time": "2025-09-14T00:09:40.390249Z"
    }
   },
   "cell_type": "code",
   "source": [
    "def min_and_max(ser):\n",
    "    return pd.Series([ser.min(),ser.max()], index=['min','max']) #apply min and max to each column and o/p\n",
    "df.apply(min_and_max) #apply each function to row and column of min_and_max"
   ],
   "id": "210f157c84ee09c0",
   "outputs": [
    {
     "data": {
      "text/plain": [
       "      AAPL    MSFT  GOOG    AMZN\n",
       "min -0.030  0.0015 -0.05 -0.0025\n",
       "max  0.015  0.0300  0.05  0.0100"
      ],
      "text/html": [
       "<div>\n",
       "<style scoped>\n",
       "    .dataframe tbody tr th:only-of-type {\n",
       "        vertical-align: middle;\n",
       "    }\n",
       "\n",
       "    .dataframe tbody tr th {\n",
       "        vertical-align: top;\n",
       "    }\n",
       "\n",
       "    .dataframe thead th {\n",
       "        text-align: right;\n",
       "    }\n",
       "</style>\n",
       "<table border=\"1\" class=\"dataframe\">\n",
       "  <thead>\n",
       "    <tr style=\"text-align: right;\">\n",
       "      <th></th>\n",
       "      <th>AAPL</th>\n",
       "      <th>MSFT</th>\n",
       "      <th>GOOG</th>\n",
       "      <th>AMZN</th>\n",
       "    </tr>\n",
       "  </thead>\n",
       "  <tbody>\n",
       "    <tr>\n",
       "      <th>min</th>\n",
       "      <td>-0.030</td>\n",
       "      <td>0.0015</td>\n",
       "      <td>-0.05</td>\n",
       "      <td>-0.0025</td>\n",
       "    </tr>\n",
       "    <tr>\n",
       "      <th>max</th>\n",
       "      <td>0.015</td>\n",
       "      <td>0.0300</td>\n",
       "      <td>0.05</td>\n",
       "      <td>0.0100</td>\n",
       "    </tr>\n",
       "  </tbody>\n",
       "</table>\n",
       "</div>"
      ]
     },
     "execution_count": 11,
     "metadata": {},
     "output_type": "execute_result"
    }
   ],
   "execution_count": 11
  },
  {
   "metadata": {},
   "cell_type": "markdown",
   "source": "DataFrames have many built in methods similar to numpy arrays",
   "id": "d621f8ce0784fedb"
  },
  {
   "metadata": {
    "ExecuteTime": {
     "end_time": "2025-09-14T00:10:46.522801Z",
     "start_time": "2025-09-14T00:10:46.501471Z"
    }
   },
   "cell_type": "code",
   "source": [
    "#average return for each stock\n",
    "df.mean()"
   ],
   "id": "da7fbdfbfd12eb3b",
   "outputs": [
    {
     "data": {
      "text/plain": [
       "AAPL   -0.012500\n",
       "MSFT    0.012875\n",
       "GOOG    0.002500\n",
       "AMZN    0.005833\n",
       "dtype: float64"
      ]
     },
     "execution_count": 12,
     "metadata": {},
     "output_type": "execute_result"
    }
   ],
   "execution_count": 12
  },
  {
   "metadata": {
    "ExecuteTime": {
     "end_time": "2025-09-14T00:11:06.278497Z",
     "start_time": "2025-09-14T00:11:06.267646Z"
    }
   },
   "cell_type": "code",
   "source": [
    "#average return for each time\n",
    "df.mean(axis=1)"
   ],
   "id": "f97464d7c4e0bfbc",
   "outputs": [
    {
     "data": {
      "text/plain": [
       "20201201    0.023333\n",
       "20201202   -0.008125\n",
       "20201203   -0.008375\n",
       "20201204    0.006250\n",
       "dtype: float64"
      ]
     },
     "execution_count": 13,
     "metadata": {},
     "output_type": "execute_result"
    }
   ],
   "execution_count": 13
  },
  {
   "metadata": {
    "ExecuteTime": {
     "end_time": "2025-09-14T00:17:10.636102Z",
     "start_time": "2025-09-14T00:17:10.631001Z"
    }
   },
   "cell_type": "code",
   "source": [
    "#if you don't want to use built-in methods : we've this big clunky code\n",
    "avg={}\n",
    "for x in df.index:\n",
    "    tot=0\n",
    "    for y in df.columns:\n",
    "        tot+=df.loc[x,y]\n",
    "    avg=pd.Series(avg)\n",
    "    avg"
   ],
   "id": "f36ea90703d09c2f",
   "outputs": [],
   "execution_count": 14
  },
  {
   "metadata": {
    "ExecuteTime": {
     "end_time": "2025-09-14T00:17:38.577668Z",
     "start_time": "2025-09-14T00:17:38.559160Z"
    }
   },
   "cell_type": "code",
   "source": "df.rank()",
   "id": "3ae5e5802abc0979",
   "outputs": [
    {
     "data": {
      "text/plain": [
       "          AAPL  MSFT  GOOG  AMZN\n",
       "20201201   3.0   4.0   4.0   NaN\n",
       "20201202   4.0   2.0   1.0   1.0\n",
       "20201203   2.0   1.0   2.0   2.5\n",
       "20201204   1.0   3.0   3.0   2.5"
      ],
      "text/html": [
       "<div>\n",
       "<style scoped>\n",
       "    .dataframe tbody tr th:only-of-type {\n",
       "        vertical-align: middle;\n",
       "    }\n",
       "\n",
       "    .dataframe tbody tr th {\n",
       "        vertical-align: top;\n",
       "    }\n",
       "\n",
       "    .dataframe thead th {\n",
       "        text-align: right;\n",
       "    }\n",
       "</style>\n",
       "<table border=\"1\" class=\"dataframe\">\n",
       "  <thead>\n",
       "    <tr style=\"text-align: right;\">\n",
       "      <th></th>\n",
       "      <th>AAPL</th>\n",
       "      <th>MSFT</th>\n",
       "      <th>GOOG</th>\n",
       "      <th>AMZN</th>\n",
       "    </tr>\n",
       "  </thead>\n",
       "  <tbody>\n",
       "    <tr>\n",
       "      <th>20201201</th>\n",
       "      <td>3.0</td>\n",
       "      <td>4.0</td>\n",
       "      <td>4.0</td>\n",
       "      <td>NaN</td>\n",
       "    </tr>\n",
       "    <tr>\n",
       "      <th>20201202</th>\n",
       "      <td>4.0</td>\n",
       "      <td>2.0</td>\n",
       "      <td>1.0</td>\n",
       "      <td>1.0</td>\n",
       "    </tr>\n",
       "    <tr>\n",
       "      <th>20201203</th>\n",
       "      <td>2.0</td>\n",
       "      <td>1.0</td>\n",
       "      <td>2.0</td>\n",
       "      <td>2.5</td>\n",
       "    </tr>\n",
       "    <tr>\n",
       "      <th>20201204</th>\n",
       "      <td>1.0</td>\n",
       "      <td>3.0</td>\n",
       "      <td>3.0</td>\n",
       "      <td>2.5</td>\n",
       "    </tr>\n",
       "  </tbody>\n",
       "</table>\n",
       "</div>"
      ]
     },
     "execution_count": 15,
     "metadata": {},
     "output_type": "execute_result"
    }
   ],
   "execution_count": 15
  },
  {
   "metadata": {
    "ExecuteTime": {
     "end_time": "2025-09-14T00:17:47.424614Z",
     "start_time": "2025-09-14T00:17:47.414360Z"
    }
   },
   "cell_type": "code",
   "source": "df.cumsum()",
   "id": "e4524cefbb835524",
   "outputs": [
    {
     "data": {
      "text/plain": [
       "           AAPL    MSFT  GOOG    AMZN\n",
       "20201201 -0.010  0.0300  0.05     NaN\n",
       "20201202  0.005  0.0350  0.00 -0.0025\n",
       "20201203 -0.020  0.0365 -0.02  0.0075\n",
       "20201204 -0.050  0.0515  0.01  0.0175"
      ],
      "text/html": [
       "<div>\n",
       "<style scoped>\n",
       "    .dataframe tbody tr th:only-of-type {\n",
       "        vertical-align: middle;\n",
       "    }\n",
       "\n",
       "    .dataframe tbody tr th {\n",
       "        vertical-align: top;\n",
       "    }\n",
       "\n",
       "    .dataframe thead th {\n",
       "        text-align: right;\n",
       "    }\n",
       "</style>\n",
       "<table border=\"1\" class=\"dataframe\">\n",
       "  <thead>\n",
       "    <tr style=\"text-align: right;\">\n",
       "      <th></th>\n",
       "      <th>AAPL</th>\n",
       "      <th>MSFT</th>\n",
       "      <th>GOOG</th>\n",
       "      <th>AMZN</th>\n",
       "    </tr>\n",
       "  </thead>\n",
       "  <tbody>\n",
       "    <tr>\n",
       "      <th>20201201</th>\n",
       "      <td>-0.010</td>\n",
       "      <td>0.0300</td>\n",
       "      <td>0.05</td>\n",
       "      <td>NaN</td>\n",
       "    </tr>\n",
       "    <tr>\n",
       "      <th>20201202</th>\n",
       "      <td>0.005</td>\n",
       "      <td>0.0350</td>\n",
       "      <td>0.00</td>\n",
       "      <td>-0.0025</td>\n",
       "    </tr>\n",
       "    <tr>\n",
       "      <th>20201203</th>\n",
       "      <td>-0.020</td>\n",
       "      <td>0.0365</td>\n",
       "      <td>-0.02</td>\n",
       "      <td>0.0075</td>\n",
       "    </tr>\n",
       "    <tr>\n",
       "      <th>20201204</th>\n",
       "      <td>-0.050</td>\n",
       "      <td>0.0515</td>\n",
       "      <td>0.01</td>\n",
       "      <td>0.0175</td>\n",
       "    </tr>\n",
       "  </tbody>\n",
       "</table>\n",
       "</div>"
      ]
     },
     "execution_count": 16,
     "metadata": {},
     "output_type": "execute_result"
    }
   ],
   "execution_count": 16
  },
  {
   "metadata": {
    "ExecuteTime": {
     "end_time": "2025-09-14T00:18:17.568092Z",
     "start_time": "2025-09-14T00:18:17.529765Z"
    }
   },
   "cell_type": "code",
   "source": [
    "#Describe function\n",
    "df.describe()"
   ],
   "id": "fd8863682434059e",
   "outputs": [
    {
     "data": {
      "text/plain": [
       "           AAPL      MSFT      GOOG      AMZN\n",
       "count  4.000000  4.000000  4.000000  3.000000\n",
       "mean  -0.012500  0.012875  0.002500  0.005833\n",
       "std    0.020207  0.012770  0.045735  0.007217\n",
       "min   -0.030000  0.001500 -0.050000 -0.002500\n",
       "25%   -0.026250  0.004125 -0.027500  0.003750\n",
       "50%   -0.017500  0.010000  0.005000  0.010000\n",
       "75%   -0.003750  0.018750  0.035000  0.010000\n",
       "max    0.015000  0.030000  0.050000  0.010000"
      ],
      "text/html": [
       "<div>\n",
       "<style scoped>\n",
       "    .dataframe tbody tr th:only-of-type {\n",
       "        vertical-align: middle;\n",
       "    }\n",
       "\n",
       "    .dataframe tbody tr th {\n",
       "        vertical-align: top;\n",
       "    }\n",
       "\n",
       "    .dataframe thead th {\n",
       "        text-align: right;\n",
       "    }\n",
       "</style>\n",
       "<table border=\"1\" class=\"dataframe\">\n",
       "  <thead>\n",
       "    <tr style=\"text-align: right;\">\n",
       "      <th></th>\n",
       "      <th>AAPL</th>\n",
       "      <th>MSFT</th>\n",
       "      <th>GOOG</th>\n",
       "      <th>AMZN</th>\n",
       "    </tr>\n",
       "  </thead>\n",
       "  <tbody>\n",
       "    <tr>\n",
       "      <th>count</th>\n",
       "      <td>4.000000</td>\n",
       "      <td>4.000000</td>\n",
       "      <td>4.000000</td>\n",
       "      <td>3.000000</td>\n",
       "    </tr>\n",
       "    <tr>\n",
       "      <th>mean</th>\n",
       "      <td>-0.012500</td>\n",
       "      <td>0.012875</td>\n",
       "      <td>0.002500</td>\n",
       "      <td>0.005833</td>\n",
       "    </tr>\n",
       "    <tr>\n",
       "      <th>std</th>\n",
       "      <td>0.020207</td>\n",
       "      <td>0.012770</td>\n",
       "      <td>0.045735</td>\n",
       "      <td>0.007217</td>\n",
       "    </tr>\n",
       "    <tr>\n",
       "      <th>min</th>\n",
       "      <td>-0.030000</td>\n",
       "      <td>0.001500</td>\n",
       "      <td>-0.050000</td>\n",
       "      <td>-0.002500</td>\n",
       "    </tr>\n",
       "    <tr>\n",
       "      <th>25%</th>\n",
       "      <td>-0.026250</td>\n",
       "      <td>0.004125</td>\n",
       "      <td>-0.027500</td>\n",
       "      <td>0.003750</td>\n",
       "    </tr>\n",
       "    <tr>\n",
       "      <th>50%</th>\n",
       "      <td>-0.017500</td>\n",
       "      <td>0.010000</td>\n",
       "      <td>0.005000</td>\n",
       "      <td>0.010000</td>\n",
       "    </tr>\n",
       "    <tr>\n",
       "      <th>75%</th>\n",
       "      <td>-0.003750</td>\n",
       "      <td>0.018750</td>\n",
       "      <td>0.035000</td>\n",
       "      <td>0.010000</td>\n",
       "    </tr>\n",
       "    <tr>\n",
       "      <th>max</th>\n",
       "      <td>0.015000</td>\n",
       "      <td>0.030000</td>\n",
       "      <td>0.050000</td>\n",
       "      <td>0.010000</td>\n",
       "    </tr>\n",
       "  </tbody>\n",
       "</table>\n",
       "</div>"
      ]
     },
     "execution_count": 18,
     "metadata": {},
     "output_type": "execute_result"
    }
   ],
   "execution_count": 18
  },
  {
   "metadata": {},
   "cell_type": "markdown",
   "source": "Corelation/Covariance",
   "id": "865e0454f864067e"
  },
  {
   "metadata": {
    "ExecuteTime": {
     "end_time": "2025-09-14T00:19:16.462687Z",
     "start_time": "2025-09-14T00:19:16.441575Z"
    }
   },
   "cell_type": "code",
   "source": [
    "#Correlation\n",
    "df.corr()"
   ],
   "id": "c15b3e767746cff2",
   "outputs": [
    {
     "data": {
      "text/plain": [
       "          AAPL      MSFT      GOOG      AMZN\n",
       "AAPL  1.000000 -0.088811 -0.550041 -0.994850\n",
       "MSFT -0.088811  1.000000  0.879688  0.267828\n",
       "GOOG -0.550041  0.879688  1.000000  0.785714\n",
       "AMZN -0.994850  0.267828  0.785714  1.000000"
      ],
      "text/html": [
       "<div>\n",
       "<style scoped>\n",
       "    .dataframe tbody tr th:only-of-type {\n",
       "        vertical-align: middle;\n",
       "    }\n",
       "\n",
       "    .dataframe tbody tr th {\n",
       "        vertical-align: top;\n",
       "    }\n",
       "\n",
       "    .dataframe thead th {\n",
       "        text-align: right;\n",
       "    }\n",
       "</style>\n",
       "<table border=\"1\" class=\"dataframe\">\n",
       "  <thead>\n",
       "    <tr style=\"text-align: right;\">\n",
       "      <th></th>\n",
       "      <th>AAPL</th>\n",
       "      <th>MSFT</th>\n",
       "      <th>GOOG</th>\n",
       "      <th>AMZN</th>\n",
       "    </tr>\n",
       "  </thead>\n",
       "  <tbody>\n",
       "    <tr>\n",
       "      <th>AAPL</th>\n",
       "      <td>1.000000</td>\n",
       "      <td>-0.088811</td>\n",
       "      <td>-0.550041</td>\n",
       "      <td>-0.994850</td>\n",
       "    </tr>\n",
       "    <tr>\n",
       "      <th>MSFT</th>\n",
       "      <td>-0.088811</td>\n",
       "      <td>1.000000</td>\n",
       "      <td>0.879688</td>\n",
       "      <td>0.267828</td>\n",
       "    </tr>\n",
       "    <tr>\n",
       "      <th>GOOG</th>\n",
       "      <td>-0.550041</td>\n",
       "      <td>0.879688</td>\n",
       "      <td>1.000000</td>\n",
       "      <td>0.785714</td>\n",
       "    </tr>\n",
       "    <tr>\n",
       "      <th>AMZN</th>\n",
       "      <td>-0.994850</td>\n",
       "      <td>0.267828</td>\n",
       "      <td>0.785714</td>\n",
       "      <td>1.000000</td>\n",
       "    </tr>\n",
       "  </tbody>\n",
       "</table>\n",
       "</div>"
      ]
     },
     "execution_count": 20,
     "metadata": {},
     "output_type": "execute_result"
    }
   ],
   "execution_count": 20
  },
  {
   "metadata": {
    "ExecuteTime": {
     "end_time": "2025-09-14T00:19:25.643833Z",
     "start_time": "2025-09-14T00:19:25.630350Z"
    }
   },
   "cell_type": "code",
   "source": [
    "#Covariance\n",
    "df.cov()"
   ],
   "id": "b11b075b7a36c25a",
   "outputs": [
    {
     "data": {
      "text/plain": [
       "          AAPL      MSFT      GOOG      AMZN\n",
       "AAPL  0.000408 -0.000023 -0.000508 -0.000177\n",
       "MSFT -0.000023  0.000163  0.000514  0.000014\n",
       "GOOG -0.000508  0.000514  0.002092  0.000229\n",
       "AMZN -0.000177  0.000014  0.000229  0.000052"
      ],
      "text/html": [
       "<div>\n",
       "<style scoped>\n",
       "    .dataframe tbody tr th:only-of-type {\n",
       "        vertical-align: middle;\n",
       "    }\n",
       "\n",
       "    .dataframe tbody tr th {\n",
       "        vertical-align: top;\n",
       "    }\n",
       "\n",
       "    .dataframe thead th {\n",
       "        text-align: right;\n",
       "    }\n",
       "</style>\n",
       "<table border=\"1\" class=\"dataframe\">\n",
       "  <thead>\n",
       "    <tr style=\"text-align: right;\">\n",
       "      <th></th>\n",
       "      <th>AAPL</th>\n",
       "      <th>MSFT</th>\n",
       "      <th>GOOG</th>\n",
       "      <th>AMZN</th>\n",
       "    </tr>\n",
       "  </thead>\n",
       "  <tbody>\n",
       "    <tr>\n",
       "      <th>AAPL</th>\n",
       "      <td>0.000408</td>\n",
       "      <td>-0.000023</td>\n",
       "      <td>-0.000508</td>\n",
       "      <td>-0.000177</td>\n",
       "    </tr>\n",
       "    <tr>\n",
       "      <th>MSFT</th>\n",
       "      <td>-0.000023</td>\n",
       "      <td>0.000163</td>\n",
       "      <td>0.000514</td>\n",
       "      <td>0.000014</td>\n",
       "    </tr>\n",
       "    <tr>\n",
       "      <th>GOOG</th>\n",
       "      <td>-0.000508</td>\n",
       "      <td>0.000514</td>\n",
       "      <td>0.002092</td>\n",
       "      <td>0.000229</td>\n",
       "    </tr>\n",
       "    <tr>\n",
       "      <th>AMZN</th>\n",
       "      <td>-0.000177</td>\n",
       "      <td>0.000014</td>\n",
       "      <td>0.000229</td>\n",
       "      <td>0.000052</td>\n",
       "    </tr>\n",
       "  </tbody>\n",
       "</table>\n",
       "</div>"
      ]
     },
     "execution_count": 21,
     "metadata": {},
     "output_type": "execute_result"
    }
   ],
   "execution_count": 21
  },
  {
   "metadata": {
    "ExecuteTime": {
     "end_time": "2025-09-14T00:21:05.928251Z",
     "start_time": "2025-09-14T00:21:05.902490Z"
    }
   },
   "cell_type": "code",
   "source": [
    "mkt_ret = pd.Series([0.01,0.02,0.03,0.04],index=['20201201','20201202','20201203','20201204'])\n",
    "df.corrwith(mkt_ret)"
   ],
   "id": "7fe3f2a86c9b5252",
   "outputs": [
    {
     "data": {
      "text/plain": [
       "AAPL   -0.638877\n",
       "MSFT   -0.490331\n",
       "GOOG   -0.084684\n",
       "AMZN    0.866025\n",
       "dtype: float64"
      ]
     },
     "execution_count": 22,
     "metadata": {},
     "output_type": "execute_result"
    }
   ],
   "execution_count": 22
  }
 ],
 "metadata": {
  "kernelspec": {
   "display_name": "Python 3",
   "language": "python",
   "name": "python3"
  },
  "language_info": {
   "codemirror_mode": {
    "name": "ipython",
    "version": 2
   },
   "file_extension": ".py",
   "mimetype": "text/x-python",
   "name": "python",
   "nbconvert_exporter": "python",
   "pygments_lexer": "ipython2",
   "version": "2.7.6"
  }
 },
 "nbformat": 4,
 "nbformat_minor": 5
}
